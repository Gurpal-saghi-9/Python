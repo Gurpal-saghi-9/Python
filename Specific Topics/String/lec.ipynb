{
 "cells": [
  {
   "cell_type": "markdown",
   "metadata": {},
   "source": [
    "Creation a string : Stringh can be created by enclosing numbers, letters or special symbols inside doybl quotations\n",
    "```python\n",
    "a = \"hello guru\"\n",
    "print(a)\n",
    "```"
   ]
  },
  {
   "cell_type": "code",
   "execution_count": 23,
   "metadata": {},
   "outputs": [
    {
     "name": "stdout",
     "output_type": "stream",
     "text": [
      "Hello gurpal, this i a String\n",
      "<class 'str'>\n"
     ]
    }
   ],
   "source": [
    "fststr = \"Hello gurpal, this i a String\"\n",
    "print(fststr)\n",
    "print(type(fststr))"
   ]
  },
  {
   "cell_type": "markdown",
   "metadata": {},
   "source": [
    "to find the length of string"
   ]
  },
  {
   "cell_type": "code",
   "execution_count": 24,
   "metadata": {},
   "outputs": [
    {
     "name": "stdout",
     "output_type": "stream",
     "text": [
      "29\n"
     ]
    }
   ],
   "source": [
    "length = len(fststr)\n",
    "print(length)"
   ]
  },
  {
   "cell_type": "markdown",
   "metadata": {},
   "source": [
    "To count a particular element"
   ]
  },
  {
   "cell_type": "code",
   "execution_count": 25,
   "metadata": {},
   "outputs": [
    {
     "name": "stdout",
     "output_type": "stream",
     "text": [
      "3\n",
      "2\n"
     ]
    }
   ],
   "source": [
    "print(fststr.count(\"i\"))\n",
    "print(fststr.count(\"t\"))"
   ]
  },
  {
   "cell_type": "markdown",
   "metadata": {},
   "source": [
    "To convert a string into upercase"
   ]
  },
  {
   "cell_type": "code",
   "execution_count": 26,
   "metadata": {},
   "outputs": [
    {
     "name": "stdout",
     "output_type": "stream",
     "text": [
      "HELLO GURPAL, THIS I A STRING\n"
     ]
    }
   ],
   "source": [
    "Ucase = fststr.upper()\n",
    "print(Ucase)"
   ]
  },
  {
   "cell_type": "markdown",
   "metadata": {},
   "source": [
    "To convert a string into lower case"
   ]
  },
  {
   "cell_type": "code",
   "execution_count": 27,
   "metadata": {},
   "outputs": [
    {
     "name": "stdout",
     "output_type": "stream",
     "text": [
      "hello gurpal, this i a string\n"
     ]
    }
   ],
   "source": [
    "Lcase = fststr.lower()\n",
    "print(Lcase)"
   ]
  },
  {
   "cell_type": "markdown",
   "metadata": {},
   "source": [
    "Index"
   ]
  },
  {
   "cell_type": "code",
   "execution_count": 30,
   "metadata": {},
   "outputs": [
    {
     "name": "stdout",
     "output_type": "stream",
     "text": [
      "Hello gurpal, this i a String\n",
      "H\n",
      "g\n",
      "g\n",
      "g\n"
     ]
    }
   ],
   "source": [
    "dupstr = fststr\n",
    "print(dupstr)\n",
    "print(dupstr[0])\n",
    "print(dupstr[6])\n",
    "print(dupstr[-1])\n",
    "print(dupstr[28])"
   ]
  },
  {
   "cell_type": "markdown",
   "metadata": {},
   "source": [
    "To capitalize string"
   ]
  },
  {
   "cell_type": "code",
   "execution_count": 31,
   "metadata": {},
   "outputs": [
    {
     "name": "stdout",
     "output_type": "stream",
     "text": [
      "Guru this is for function repersentation\n"
     ]
    }
   ],
   "source": [
    "str = \"guru this is for function repersentation\"\n",
    "print(str.capitalize())"
   ]
  },
  {
   "cell_type": "markdown",
   "metadata": {},
   "source": [
    "to convert upercase in a string to lower case"
   ]
  },
  {
   "cell_type": "code",
   "execution_count": 32,
   "metadata": {},
   "outputs": [
    {
     "name": "stdout",
     "output_type": "stream",
     "text": [
      "hello gurpal, this i a string\n"
     ]
    }
   ],
   "source": [
    "print(fststr.casefold())"
   ]
  },
  {
   "cell_type": "markdown",
   "metadata": {},
   "source": [
    "To covert a string using title"
   ]
  },
  {
   "cell_type": "code",
   "execution_count": 67,
   "metadata": {},
   "outputs": [
    {
     "name": "stdout",
     "output_type": "stream",
     "text": [
      "Hello Gurpal, This I A String\n"
     ]
    }
   ],
   "source": [
    "print(fststr.title())"
   ]
  },
  {
   "cell_type": "markdown",
   "metadata": {},
   "source": [
    "To find index of an element"
   ]
  },
  {
   "cell_type": "code",
   "execution_count": 68,
   "metadata": {},
   "outputs": [
    {
     "name": "stdout",
     "output_type": "stream",
     "text": [
      "5\n",
      "17\n"
     ]
    }
   ],
   "source": [
    "print(str.find(\"this\"))\n",
    "print(str.find(\"function\"))"
   ]
  },
  {
   "cell_type": "markdown",
   "metadata": {},
   "source": [
    "formating in a string"
   ]
  },
  {
   "cell_type": "code",
   "execution_count": null,
   "metadata": {},
   "outputs": [
    {
     "name": "stdout",
     "output_type": "stream",
     "text": [
      "My name is Guru and my age is 19\n",
      "My name is Guru and my age is 19\n",
      "My name is Guru and my age is 19\n",
      "My name is Guru and my age is 19\n",
      "My name is Guru and my age is 19\n",
      "My name is Guru and my age is 19\n"
     ]
    }
   ],
   "source": [
    "name = \"Guru\"\n",
    "age = 19\n",
    "print(\"My name is {} and my age is {}\".format(name, age))\n",
    "print(\"My name is {1} and my age is {0}\".format(age, name))\n",
    "print(\"My name is %s and my age is %d\" % (name, age))\n",
    "print(\"My name is {name} and my age is {age}\".format(name=name, age=age))\n",
    "print(\"My name is {name} and my age is {age}\".format(name=\"Gurpal singh\", age=19))\n",
    "print(f\"My name is {name} and my age is {age}\")"
   ]
  },
  {
   "cell_type": "markdown",
   "metadata": {},
   "source": [
    "Center method in a string"
   ]
  },
  {
   "cell_type": "code",
   "execution_count": 45,
   "metadata": {},
   "outputs": [
    {
     "name": "stdout",
     "output_type": "stream",
     "text": [
      "          Hello gurpal, this i a String           \n",
      "**********Hello gurpal, this i a String***********\n",
      "Hello gurpal, this i a String*********************\n",
      "*********************Hello gurpal, this i a String\n"
     ]
    }
   ],
   "source": [
    "print(fststr.center(50))\n",
    "print(fststr.center(50, \"*\"))\n",
    "print(fststr.ljust(50, \"*\"))\n",
    "print(fststr.rjust(50, \"*\"))"
   ]
  },
  {
   "cell_type": "markdown",
   "metadata": {},
   "source": [
    "To check string is alpha numeric"
   ]
  },
  {
   "cell_type": "code",
   "execution_count": 54,
   "metadata": {},
   "outputs": [
    {
     "name": "stdout",
     "output_type": "stream",
     "text": [
      "True\n",
      "True\n",
      "False\n",
      "True\n",
      "False\n",
      "False\n"
     ]
    }
   ],
   "source": [
    "a = \"1234\"\n",
    "b = \"123friend\"\n",
    "c = \"friend 123\"\n",
    "d = \"friend\"\n",
    "e = \"1234@\"\n",
    "f = \"friends@#\"\n",
    "\n",
    "print(a.isalnum())\n",
    "print(b.isalnum())\n",
    "print(c.isalnum())\n",
    "print(d.isalnum())\n",
    "print(e.isalnum())\n",
    "print(f.isalnum())"
   ]
  },
  {
   "cell_type": "markdown",
   "metadata": {},
   "source": [
    "To check if a string only has alphabet in it"
   ]
  },
  {
   "cell_type": "code",
   "execution_count": 55,
   "metadata": {},
   "outputs": [
    {
     "name": "stdout",
     "output_type": "stream",
     "text": [
      "False\n",
      "True\n",
      "False\n",
      "False\n"
     ]
    }
   ],
   "source": [
    "a = \"1234friends\"\n",
    "b = \"friends\"\n",
    "c = \"hello friends\"\n",
    "d = \"hello@\"\n",
    "print(a.isalpha())\n",
    "print(b.isalpha())\n",
    "print(c.isalpha())\n",
    "print(d.isalpha())"
   ]
  },
  {
   "cell_type": "markdown",
   "metadata": {},
   "source": [
    "To check if a string only has digit in it"
   ]
  },
  {
   "cell_type": "code",
   "execution_count": null,
   "metadata": {},
   "outputs": [
    {
     "name": "stdout",
     "output_type": "stream",
     "text": [
      "True\n",
      "False\n",
      "True\n"
     ]
    }
   ],
   "source": [
    "a = \"1234\"\n",
    "b = \"1.234\"\n",
    "c = \"\\u0030\" # unicode for 0\n",
    "\n",
    "print(a.isdigit())\n",
    "print(b.isdigit())\n",
    "print(c.isdigit())"
   ]
  },
  {
   "cell_type": "markdown",
   "metadata": {},
   "source": [
    "To check if a string is numeric or not"
   ]
  },
  {
   "cell_type": "code",
   "execution_count": 58,
   "metadata": {},
   "outputs": [
    {
     "name": "stdout",
     "output_type": "stream",
     "text": [
      "True\n",
      "False\n",
      "True\n",
      "False\n"
     ]
    }
   ],
   "source": [
    "a = \"1234\"\n",
    "b = \"1.234\"\n",
    "c = \"\\u0030\" # unicode for 0\n",
    "d = \"-1234\"\n",
    "\n",
    "print(a.isnumeric())\n",
    "print(b.isnumeric())\n",
    "print(c.isnumeric())\n",
    "print(d.isnumeric())"
   ]
  },
  {
   "cell_type": "markdown",
   "metadata": {},
   "source": [
    "To check if a string is in lower case or not"
   ]
  },
  {
   "cell_type": "code",
   "execution_count": 59,
   "metadata": {},
   "outputs": [
    {
     "name": "stdout",
     "output_type": "stream",
     "text": [
      "True\n",
      "False\n",
      "False\n",
      "False\n"
     ]
    }
   ],
   "source": [
    "a = \"hello\"\n",
    "b = \"Hello\"\n",
    "c = \"HELLO\"\n",
    "d = \"heLLo\"\n",
    "\n",
    "print(a.islower())\n",
    "print(b.islower())\n",
    "print(c.islower())\n",
    "print(d.islower())"
   ]
  },
  {
   "cell_type": "markdown",
   "metadata": {},
   "source": [
    "To check if a strign is in upper case or not"
   ]
  },
  {
   "cell_type": "code",
   "execution_count": 64,
   "metadata": {},
   "outputs": [
    {
     "name": "stdout",
     "output_type": "stream",
     "text": [
      "False\n",
      "False\n",
      "True\n",
      "False\n"
     ]
    }
   ],
   "source": [
    "a = \"hello\"\n",
    "b = \"Hello\"\n",
    "c = \"HELLO\"\n",
    "d = \"heLLo\"\n",
    "\n",
    "print(a.isupper())\n",
    "print(b.isupper())\n",
    "print(c.isupper())\n",
    "print(d.isupper())"
   ]
  },
  {
   "cell_type": "markdown",
   "metadata": {},
   "source": [
    "To check if all the characters in the string are while spaces"
   ]
  },
  {
   "cell_type": "code",
   "execution_count": 65,
   "metadata": {},
   "outputs": [
    {
     "name": "stdout",
     "output_type": "stream",
     "text": [
      "True\n",
      "False\n",
      "False\n"
     ]
    }
   ],
   "source": [
    "a = \"         \"\n",
    "b = \"      hello  \" \n",
    "c = \"    1       \"\n",
    "\n",
    "print(a.isspace())\n",
    "print(b.isspace())\n",
    "print(c.isspace())"
   ]
  },
  {
   "cell_type": "markdown",
   "metadata": {},
   "source": [
    "To check if a string is title string"
   ]
  },
  {
   "cell_type": "code",
   "execution_count": 66,
   "metadata": {},
   "outputs": [
    {
     "name": "stdout",
     "output_type": "stream",
     "text": [
      "False\n",
      "False\n",
      "False\n",
      "True\n"
     ]
    }
   ],
   "source": [
    "a = \"Gurpal singh\"\n",
    "b = \"gurpal singh\"\n",
    "c = \"Gurpal singh Saghi\"\n",
    "d = \"Gurpal Singh\"\n",
    "print(a.istitle())\n",
    "print(b.istitle())\n",
    "print(c.istitle())\n",
    "print(d.istitle())"
   ]
  },
  {
   "cell_type": "markdown",
   "metadata": {},
   "source": [
    "startswith method"
   ]
  },
  {
   "cell_type": "code",
   "execution_count": null,
   "metadata": {},
   "outputs": [
    {
     "name": "stdout",
     "output_type": "stream",
     "text": [
      "True\n",
      "True\n",
      "True\n",
      "False\n"
     ]
    }
   ],
   "source": [
    "name = \"Gurpal Singh Saghi\"\n",
    "\n",
    "print(name.startswith(\"Gurpal\"))\n",
    "print(name.startswith(\"G\"))\n",
    "print(name.startswith(\"Gurpal\", 0, 6))"
   ]
  },
  {
   "cell_type": "markdown",
   "metadata": {},
   "source": [
    "Endswith Method"
   ]
  },
  {
   "cell_type": "code",
   "execution_count": 79,
   "metadata": {},
   "outputs": [
    {
     "name": "stdout",
     "output_type": "stream",
     "text": [
      "True\n",
      "True\n",
      "True\n"
     ]
    }
   ],
   "source": [
    "name = \"Gurpal Singh Saghi\"\n",
    "\n",
    "print(name.endswith(\"Saghi\"))\n",
    "print(name.endswith(\"hi\"))\n",
    "print(name.endswith(\"Saghi\", 13))"
   ]
  },
  {
   "cell_type": "markdown",
   "metadata": {},
   "source": [
    "Swapcase"
   ]
  },
  {
   "cell_type": "code",
   "execution_count": 85,
   "metadata": {},
   "outputs": [
    {
     "name": "stdout",
     "output_type": "stream",
     "text": [
      "hARRY POTTER AND THE gOBLET OF fIRE\n"
     ]
    }
   ],
   "source": [
    "a = \"Harry potter and the Goblet of Fire\"\n",
    "\n",
    "print(a.swapcase())"
   ]
  },
  {
   "cell_type": "markdown",
   "metadata": {},
   "source": [
    "Strip"
   ]
  },
  {
   "cell_type": "code",
   "execution_count": 90,
   "metadata": {},
   "outputs": [
    {
     "name": "stdout",
     "output_type": "stream",
     "text": [
      "Gurpal Singh\n",
      "Gurpal Singh   \n",
      "   Gurpal Singh\n",
      "Gurpal Singh\n",
      "guru saghi\n"
     ]
    }
   ],
   "source": [
    "Name = \"   Gurpal Singh   \"\n",
    "print(Name.strip())\n",
    "print(Name.lstrip())\n",
    "print(Name.rstrip())\n",
    "b = \"Gurpal Singh\"\n",
    "print(b.strip())\n",
    "c = \".........guru saghi#####...........\"\n",
    "print(c.strip(\".#\"))"
   ]
  },
  {
   "cell_type": "markdown",
   "metadata": {},
   "source": [
    "Split method"
   ]
  },
  {
   "cell_type": "code",
   "execution_count": 2,
   "metadata": {},
   "outputs": [
    {
     "name": "stdout",
     "output_type": "stream",
     "text": [
      "['hello,', 'my', 'nae', 'is', 'guru.', 'I', 'am', '19', 'years', 'old.']\n",
      "['', 'instalife', 'trending', 'newpost', 'masti']\n"
     ]
    }
   ],
   "source": [
    "a = \"hello, my nae is guru. I am 19 years old.\"\n",
    "b = \"#instalife#trending#newpost#masti\"\n",
    "\n",
    "print(a.split())\n",
    "print(b.split(\"#\"))"
   ]
  },
  {
   "cell_type": "markdown",
   "metadata": {},
   "source": [
    "ljust method"
   ]
  },
  {
   "cell_type": "code",
   "execution_count": 4,
   "metadata": {},
   "outputs": [
    {
     "name": "stdout",
     "output_type": "stream",
     "text": [
      "Gurpal Singh         is my faviroute coder\n"
     ]
    }
   ],
   "source": [
    "name = \"Gurpal Singh\"\n",
    "print(name.ljust(20), \"is my faviroute coder\")"
   ]
  },
  {
   "cell_type": "markdown",
   "metadata": {},
   "source": [
    "rjust method"
   ]
  },
  {
   "cell_type": "code",
   "execution_count": 5,
   "metadata": {},
   "outputs": [
    {
     "name": "stdout",
     "output_type": "stream",
     "text": [
      "You are the best coder ,          Gurpal Singh\n"
     ]
    }
   ],
   "source": [
    "name = \"Gurpal Singh\"\n",
    "print(\"You are the best coder , \",name.rjust(20))"
   ]
  },
  {
   "cell_type": "markdown",
   "metadata": {},
   "source": []
  }
 ],
 "metadata": {
  "kernelspec": {
   "display_name": "base",
   "language": "python",
   "name": "python3"
  },
  "language_info": {
   "codemirror_mode": {
    "name": "ipython",
    "version": 3
   },
   "file_extension": ".py",
   "mimetype": "text/x-python",
   "name": "python",
   "nbconvert_exporter": "python",
   "pygments_lexer": "ipython3",
   "version": "3.12.7"
  }
 },
 "nbformat": 4,
 "nbformat_minor": 2
}
