{
 "cells": [
  {
   "cell_type": "markdown",
   "metadata": {},
   "source": [
    "1. Write a program to print Twinkle twinkle little star poem in python."
   ]
  },
  {
   "cell_type": "code",
   "execution_count": 1,
   "metadata": {},
   "outputs": [
    {
     "name": "stdout",
     "output_type": "stream",
     "text": [
      "Twinkle, twinkle, little star,\n",
      "How I wonder what you are!\n",
      "Up above the world so high,\n",
      "Like a diamond in the sky.\n",
      "\n",
      "When the blazing sun is gone,\n",
      "When he nothing shines upon,\n",
      "Then you show your little light,\n",
      "Twinkle, twinkle, all the night.\n",
      "\n",
      "Then the traveler in the dark\n",
      "Thanks you for your tiny spark;\n",
      "He could not see which way to go,\n",
      "If you did not twinkle so.\n",
      "\n",
      "In the dark blue sky you keep,\n",
      "And often through my curtains peep,\n",
      "For you never shut your eye\n",
      "Till the sun is in the sky.\n",
      "\n",
      "As your bright and tiny spark\n",
      "Lights the traveler in the dark,\n",
      "Though I know not what you are,\n",
      "Twinkle, twinkle, little star.\n"
     ]
    }
   ],
   "source": [
    "print('''Twinkle, twinkle, little star,\n",
    "How I wonder what you are!\n",
    "Up above the world so high,\n",
    "Like a diamond in the sky.\n",
    "\n",
    "When the blazing sun is gone,\n",
    "When he nothing shines upon,\n",
    "Then you show your little light,\n",
    "Twinkle, twinkle, all the night.\n",
    "\n",
    "Then the traveler in the dark\n",
    "Thanks you for your tiny spark;\n",
    "He could not see which way to go,\n",
    "If you did not twinkle so.\n",
    "\n",
    "In the dark blue sky you keep,\n",
    "And often through my curtains peep,\n",
    "For you never shut your eye\n",
    "Till the sun is in the sky.\n",
    "\n",
    "As your bright and tiny spark\n",
    "Lights the traveler in the dark,\n",
    "Though I know not what you are,\n",
    "Twinkle, twinkle, little star.''')"
   ]
  },
  {
   "cell_type": "markdown",
   "metadata": {},
   "source": [
    "2. Use REPL and print the table of 5 using it."
   ]
  },
  {
   "cell_type": "code",
   "execution_count": 6,
   "metadata": {},
   "outputs": [],
   "source": [
    "# Done using REPL"
   ]
  },
  {
   "cell_type": "markdown",
   "metadata": {},
   "source": [
    "3. Install an external module and use it to perform an operation of your interest."
   ]
  },
  {
   "cell_type": "code",
   "execution_count": null,
   "metadata": {},
   "outputs": [],
   "source": [
    "%pip install pyttsx3"
   ]
  },
  {
   "cell_type": "code",
   "execution_count": 2,
   "metadata": {},
   "outputs": [],
   "source": [
    "import pyttsx3\n",
    "engine = pyttsx3.init()\n",
    "engine.say(\"Hello Gurpal Singh \")\n",
    "engine.runAndWait()"
   ]
  },
  {
   "cell_type": "code",
   "execution_count": null,
   "metadata": {},
   "outputs": [],
   "source": [
    "%pip install emoji"
   ]
  },
  {
   "cell_type": "code",
   "execution_count": 3,
   "metadata": {},
   "outputs": [
    {
     "name": "stdout",
     "output_type": "stream",
     "text": [
      "Python is fun! 🐍 😀\n"
     ]
    }
   ],
   "source": [
    "import emoji\n",
    "print(emoji.emojize(\"Python is fun! :snake: :grinning_face:\"))"
   ]
  },
  {
   "cell_type": "code",
   "execution_count": null,
   "metadata": {},
   "outputs": [],
   "source": [
    "import turtle\n",
    "t = turtle.Turtle()\n",
    "for _ in range(36):\n",
    "    t.forward(100)\n",
    "    t.right(170)\n",
    "turtle.done()"
   ]
  },
  {
   "cell_type": "code",
   "execution_count": null,
   "metadata": {},
   "outputs": [],
   "source": [
    "%pip install rich"
   ]
  },
  {
   "cell_type": "code",
   "execution_count": 5,
   "metadata": {},
   "outputs": [
    {
     "data": {
      "text/html": [
       "<pre style=\"white-space:pre;overflow-x:auto;line-height:normal;font-family:Menlo,'DejaVu Sans Mono',consolas,'Courier New',monospace\">Hello, <span style=\"color: #008000; text-decoration-color: #008000; font-weight: bold\">World</span>!\n",
       "</pre>\n"
      ],
      "text/plain": [
       "Hello, \u001b[1;32mWorld\u001b[0m!\n"
      ]
     },
     "metadata": {},
     "output_type": "display_data"
    }
   ],
   "source": [
    "from rich.console import Console\n",
    "console = Console()\n",
    "console.print(\"Hello, [bold green]World[/bold green]!\")"
   ]
  },
  {
   "cell_type": "code",
   "execution_count": null,
   "metadata": {},
   "outputs": [],
   "source": [
    "%pip install art"
   ]
  },
  {
   "cell_type": "code",
   "execution_count": 6,
   "metadata": {},
   "outputs": [
    {
     "name": "stdout",
     "output_type": "stream",
     "text": [
      "   ______                                     __\n",
      "  / ____/  __  __   _____    ____   ____ _   / /\n",
      " / / __   / / / /  / ___/   / __ \\ / __ `/  / / \n",
      "/ /_/ /  / /_/ /  / /      / /_/ // /_/ /  / /  \n",
      "\\____/   \\__,_/  /_/      / .___/ \\__,_/  /_/   \n",
      "                         /_/                    \n",
      "\n",
      "\n",
      " .----------------.  .----------------.  .----------------.  .----------------.  .----------------.  .----------------. \n",
      "| .--------------. || .--------------. || .--------------. || .--------------. || .--------------. || .--------------. |\n",
      "| |    ______    | || | _____  _____ | || |  _______     | || |   ______     | || |      __      | || |   _____      | |\n",
      "| |  .' ___  |   | || ||_   _||_   _|| || | |_   __ \\    | || |  |_   __ \\   | || |     /  \\     | || |  |_   _|     | |\n",
      "| | / .'   \\_|   | || |  | |    | |  | || |   | |__) |   | || |    | |__) |  | || |    / /\\ \\    | || |    | |       | |\n",
      "| | | |    ____  | || |  | '    ' |  | || |   |  __ /    | || |    |  ___/   | || |   / ____ \\   | || |    | |   _   | |\n",
      "| | \\ `.___]  _| | || |   \\ `--' /   | || |  _| |  \\ \\_  | || |   _| |_      | || | _/ /    \\ \\_ | || |   _| |__/ |  | |\n",
      "| |  `._____.'   | || |    `.__.'    | || | |____| |___| | || |  |_____|     | || ||____|  |____|| || |  |________|  | |\n",
      "| |              | || |              | || |              | || |              | || |              | || |              | |\n",
      "| '--------------' || '--------------' || '--------------' || '--------------' || '--------------' || '--------------' |\n",
      " '----------------'  '----------------'  '----------------'  '----------------'  '----------------'  '----------------' \n",
      "\n",
      "  _    _    _    _    _    _  \n",
      " / \\  / \\  / \\  / \\  / \\  / \\ \n",
      "( G )( u )( r )( p )( a )( l )\n",
      " \\_/  \\_/  \\_/  \\_/  \\_/  \\_/ \n",
      "\n",
      "  ___|                             | \n",
      " |      |   |   __|  __ \\    _` |  | \n",
      " |   |  |   |  |     |   |  (   |  | \n",
      "\\____| \\__,_| _|     .__/  \\__,_| _| \n",
      "                    _|               \n",
      "\n"
     ]
    }
   ],
   "source": [
    "from art import text2art\n",
    "# print(text2art(\"Gurpal Singh\"))\n",
    "\n",
    "# Generate ASCII art for \"Gurpal\"\n",
    "art_output1 = text2art(\"Gurpal\", font='slant')  \n",
    "art_output2 = text2art(\"Gurpal\", font='black')  \n",
    "art_output3 = text2art(\"Gurpal\", font='bubble')  \n",
    "art_output4 = text2art(\"Gurpal\", font='shadow')  \n",
    "print(art_output1)\n",
    "print(art_output2)\n",
    "print(art_output3)\n",
    "print(art_output4)\n"
   ]
  },
  {
   "cell_type": "markdown",
   "metadata": {},
   "source": [
    "4. Write a python program to print the contents of a directory using the os module.Search online for the function which does that"
   ]
  },
  {
   "cell_type": "code",
   "execution_count": 7,
   "metadata": {},
   "outputs": [
    {
     "name": "stdout",
     "output_type": "stream",
     "text": [
      "['$Recycle.Bin', '$WinREAgent', 'Config.Msi', 'Dell', 'dev', 'Documents and Settings', 'DumpStack.log.tmp', 'first', 'hiberfil.sys', 'Intel', 'msys64', 'OneDriveTemp', 'pagefile.sys', 'PerfLogs', 'Program Files', 'Program Files (x86)', 'ProgramData', 'Python312', 'Recovery', 'swapfile.sys', 'System Volume Information', 'untitled', 'Users', 'Windows']\n"
     ]
    }
   ],
   "source": [
    "import os\n",
    "\n",
    "# Select the directory whose content you want to list \n",
    "directory_path = '/'\n",
    "\n",
    "# Use the os module to list the directory content \n",
    "contents = os.listdir(directory_path)\n",
    "\n",
    "# Print the contents of the directory \n",
    "print(contents)"
   ]
  },
  {
   "cell_type": "code",
   "execution_count": null,
   "metadata": {},
   "outputs": [],
   "source": [
    "import speech_recognition as sr\n",
    "import pyttsx3\n",
    "\n",
    "recognizer = sr.Recognizer()\n",
    "engine = pyttsx3.init()\n",
    "\n",
    "engine.say(\"Hello, Gurpal! I'm here to chat.\")\n",
    "engine.runAndWait()\n",
    "\n",
    "while True:\n",
    "    try:\n",
    "        with sr.Microphone() as source:\n",
    "            print(\"Listening...\")\n",
    "            audio = recognizer.listen(source)\n",
    "            text = recognizer.recognize_google(audio)\n",
    "            print(f\"You: {text}\")\n",
    "\n",
    "            if \"exit\" in text.lower():\n",
    "                engine.say(\"Goodbye, Gurpal!\")\n",
    "                engine.runAndWait()\n",
    "                break\n",
    "\n",
    "            response = f\"You said: {text}. I can repeat that!\"\n",
    "            print(f\"Bot: {response}\")\n",
    "            engine.say(response)\n",
    "            engine.runAndWait()\n",
    "\n",
    "    except sr.UnknownValueError:\n",
    "        print(\"I didn't understand that.\")\n",
    "        engine.say(\"Sorry, I didn't catch that.\")\n",
    "        engine.runAndWait()\n"
   ]
  }
 ],
 "metadata": {
  "kernelspec": {
   "display_name": "Python 3",
   "language": "python",
   "name": "python3"
  },
  "language_info": {
   "codemirror_mode": {
    "name": "ipython",
    "version": 3
   },
   "file_extension": ".py",
   "mimetype": "text/x-python",
   "name": "python",
   "nbconvert_exporter": "python",
   "pygments_lexer": "ipython3",
   "version": "3.12.8"
  }
 },
 "nbformat": 4,
 "nbformat_minor": 2
}
