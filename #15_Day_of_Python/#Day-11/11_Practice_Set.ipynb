{
 "cells": [
  {
   "cell_type": "markdown",
   "metadata": {},
   "source": [
    "# *** CHAPTER 11- PRACTICE SET ***\n",
    "---"
   ]
  },
  {
   "cell_type": "markdown",
   "metadata": {},
   "source": [
    "1. . Create a class (2-D vector) and use it to create another class representing a 3-Dvector"
   ]
  },
  {
   "cell_type": "code",
   "execution_count": null,
   "metadata": {},
   "outputs": [],
   "source": [
    "class TwoDVector:\n",
    "    def __init__(self, i, j):\n",
    "        self.i = i\n",
    "        self.j = j\n",
    "    \n",
    "    def show(self):\n",
    "        print(f\"The vector is {self.i}i + {self.j}j \")\n",
    "        \n",
    "\n",
    "class ThreeDVector(TwoDVector):\n",
    "    def __init__(self, i, j, k):\n",
    "        super().__init__(i, j)\n",
    "        self.k = k\n",
    "\n",
    "    def show(self):\n",
    "        print(f\"The vector is {self.i}i + {self.j}j + {self.k}k\")\n",
    "\n",
    "a = TwoDVector(1, 2)\n",
    "a.show()\n",
    "b = ThreeDVector(5, 2, 3)\n",
    "b.show()"
   ]
  },
  {
   "cell_type": "markdown",
   "metadata": {},
   "source": [
    "2. Create a class ‘Pets’ from a class ‘Animals’ and further create a class ‘Dog’ from ‘Pets’. Add a method ‘bark’ to class ‘Dog’."
   ]
  },
  {
   "cell_type": "code",
   "execution_count": null,
   "metadata": {},
   "outputs": [],
   "source": [
    "class Animals:\n",
    "    pass \n",
    "\n",
    "class Pets(Animals):\n",
    "    pass \n",
    "\n",
    "class Dog(Pets):\n",
    "\n",
    "    @staticmethod\n",
    "    def bark():\n",
    "        print(\"Bow Bow!\")\n",
    "\n",
    "\n",
    "d = Dog()\n",
    "\n",
    "d.bark()"
   ]
  },
  {
   "cell_type": "markdown",
   "metadata": {},
   "source": [
    "3. Create a class ‘Employee’ and add salary and increment properties to it\n",
    "Write a method ‘salaryAfterIncrement’ method with a @property decorator with a setter \n",
    "which changes the value of increment based on the salary."
   ]
  },
  {
   "cell_type": "code",
   "execution_count": null,
   "metadata": {},
   "outputs": [],
   "source": [
    "\n",
    "class Employee:\n",
    "    salary = 234\n",
    "    increment = 20 \n",
    "    \n",
    "    @property\n",
    "    def salaryAfterIncrement(self):\n",
    "        return (self.salary + self.salary * (self.increment/100))\n",
    "\n",
    "    @salaryAfterIncrement.setter \n",
    "    def salaryAfterIncrement(self, salary):\n",
    "        self.increment =  ((salary/self.salary) -1)*100 \n",
    "\n",
    "\n",
    "\n",
    "\n",
    "e = Employee()\n",
    "# print(e.salaryAfterIncrement)\n",
    "e.salaryAfterIncrement = 280.8\n",
    "print(e.increment)\n"
   ]
  },
  {
   "cell_type": "markdown",
   "metadata": {},
   "source": [
    "4. Write a class ‘Complex’ to represent complex numbers, along with overloaded operators ‘+’ and ‘*’ which adds and multiplies them"
   ]
  },
  {
   "cell_type": "code",
   "execution_count": null,
   "metadata": {},
   "outputs": [],
   "source": [
    "class Complex:\n",
    "    def __init__(self, r, i):\n",
    "        self.r = r\n",
    "        self.i = i\n",
    "\n",
    "    def __add__(self, c2):\n",
    "        return Complex(self.r + c2.r, self.i + c2.i)\n",
    "    \n",
    "    def __mul__(self, c2):\n",
    "        real_part = self.r * c2.r - self.i * c2.i\n",
    "        imag_part = self.r * c2.i + self.i * c2.r\n",
    "        return Complex(real_part, imag_part)\n",
    "    \n",
    "    def __str__(self):\n",
    "        return f\"{self.r} + {self.i}i\"\n",
    "        \n",
    "    \n",
    "\n",
    "c1 = Complex(1, 2)\n",
    "c2 = Complex(3, 4)\n",
    "print(c1 + c2)\n",
    "print(c1*c2)"
   ]
  },
  {
   "cell_type": "markdown",
   "metadata": {},
   "source": [
    "5. Write a class vector representing a vector of n dimensions. Overload the + and * operator which calculates the sum and the dot(.) product of them."
   ]
  },
  {
   "cell_type": "code",
   "execution_count": null,
   "metadata": {},
   "outputs": [],
   "source": [
    "\n",
    "class Vector:\n",
    "    def __init__(self, x, y, z):\n",
    "        self.x = x\n",
    "        self.y = y\n",
    "        self.z = z\n",
    "\n",
    "    def __add__(self, other):\n",
    "        result = Vector(self.x + other.x, self.y + other.y, self.z + other.z)\n",
    "        return result\n",
    "\n",
    "    def __mul__(self, other):\n",
    "        result = self.x * other.x + self.y * other.y + self.z * other.z\n",
    "        return result\n",
    "\n",
    "    def __str__(self):\n",
    "        return f\"Vector({self.x}, {self.y}, {self.z})\"\n",
    "\n",
    "# Test the implementation\n",
    "v1 = Vector(1, 2, 3)\n",
    "v2 = Vector(4, 5, 6)\n",
    "v3 = Vector(7, 8, 9)  # Same dimension vector\n",
    "\n",
    "print(v1 + v2)  # Output: Vector(5, 7, 9)\n",
    "print(v1 * v2)  # Output: 32\n",
    "\n",
    "print(v1 + v3)  # Output: Vector(8, 10, 12)\n",
    "print(v1 * v3)  # Output: 50\n"
   ]
  },
  {
   "cell_type": "code",
   "execution_count": null,
   "metadata": {},
   "outputs": [],
   "source": [
    "class Vector:\n",
    "    def __init__(self, *components):\n",
    "        self.components = components\n",
    "\n",
    "    def __add__(self, other):\n",
    "        return Vector(*[a + b for a, b in zip(self.components, other.components)])\n",
    "\n",
    "    def __mul__(self, other):\n",
    "        return sum(a * b for a, b in zip(self.components, other.components))\n",
    "\n",
    "    def __str__(self):\n",
    "        return ' + '.join(f'{comp}{dim}' for comp, dim in zip(self.components, 'ijk'))\n",
    "\n",
    "    def __len__(self):\n",
    "        return len(self.components)\n",
    "\n",
    "# Example usage:\n",
    "v1 = Vector(1, 2, 3)\n",
    "v2 = Vector(4, 5, 6)\n",
    "v3 = v1 + v2\n",
    "dot_product = v1 * v2\n",
    "\n",
    "print(v3)  # Output: 5i + 7j + 9k\n",
    "print(dot_product)  # Output: 32"
   ]
  },
  {
   "cell_type": "markdown",
   "metadata": {},
   "source": [
    "6. Write __str__() method to print the vector as follows:\n",
    "7i + 8j +10k \n",
    "Assume vector of dimension 3 for this problem"
   ]
  },
  {
   "cell_type": "code",
   "execution_count": null,
   "metadata": {},
   "outputs": [],
   "source": [
    "class Vector:\n",
    "    def __init__(self, x, y, z):\n",
    "        self.x = x\n",
    "        self.y = y\n",
    "        self.z = z\n",
    "\n",
    "    def __add__(self, other):\n",
    "        result = Vector(self.x + other.x, self.y + other.y, self.z + other.z)\n",
    "        return result\n",
    "\n",
    "    def __mul__(self, other):\n",
    "        result = self.x * other.x + self.y * other.y + self.z * other.z\n",
    "        return result\n",
    "\n",
    "    def __str__(self):\n",
    "        return f\"{self.x}i + {self.y}j + {self.z}k\"\n",
    "\n",
    "# Test the implementation\n",
    "v1 = Vector(1, 2, 3)\n",
    "v2 = Vector(4, 5, 6)\n",
    "v3 = Vector(7, 8, 9)  # Same dimension vector\n",
    "\n",
    "print(v1 + v2)  # Output: Vector(5, 7, 9)\n",
    "print(v1 * v2)  # Output: 32\n",
    "\n",
    "print(v1 + v3)  # Output: Vector(8, 10, 12)\n",
    "print(v1 * v3)  # Output: 50"
   ]
  },
  {
   "cell_type": "markdown",
   "metadata": {},
   "source": [
    "7. Override the __len__() method on vector of problem 5 to display the dimension of the vector."
   ]
  },
  {
   "cell_type": "code",
   "execution_count": null,
   "metadata": {},
   "outputs": [],
   "source": [
    "class Vector:\n",
    "    def __init__(self, l): \n",
    "        self.l = l\n",
    "\n",
    "    \n",
    "    \n",
    "    def __len__(self):\n",
    "        return len(self.l)\n",
    "\n",
    "# Test the implementation\n",
    "v1 = Vector([1, 2, 3]) \n",
    "print(len(v1))"
   ]
  },
  {
   "cell_type": "code",
   "execution_count": null,
   "metadata": {},
   "outputs": [],
   "source": [
    "class Vector:\n",
    "    def __init__(self, *components):\n",
    "        self.components = components\n",
    "\n",
    "    def __add__(self, other):\n",
    "        return Vector(*[a + b for a, b in zip(self.components, other.components)])\n",
    "\n",
    "    def __mul__(self, other):\n",
    "        return sum(a * b for a, b in zip(self.components, other.components))\n",
    "\n",
    "    def __str__(self):\n",
    "        return ' + '.join(f'{comp}{dim}' for comp, dim in zip(self.components, 'ijk'))\n",
    "\n",
    "    def __len__(self):\n",
    "        return len(self.components)\n",
    "\n",
    "# Example usage:\n",
    "v = Vector(7, 8, 10)\n",
    "print(len(v))  # Output: 3"
   ]
  }
 ],
 "metadata": {
  "kernelspec": {
   "display_name": "Python 3",
   "language": "python",
   "name": "python3"
  },
  "language_info": {
   "codemirror_mode": {
    "name": "ipython",
    "version": 3
   },
   "file_extension": ".py",
   "mimetype": "text/x-python",
   "name": "python",
   "nbconvert_exporter": "python",
   "pygments_lexer": "ipython3",
   "version": "3.12.8"
  }
 },
 "nbformat": 4,
 "nbformat_minor": 2
}
