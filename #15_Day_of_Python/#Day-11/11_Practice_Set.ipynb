{
 "cells": [
  {
   "cell_type": "markdown",
   "metadata": {},
   "source": [
    "# *** CHAPTER 11- PRACTICE SET ***\n",
    "---"
   ]
  },
  {
   "cell_type": "markdown",
   "metadata": {},
   "source": [
    "1. . Create a class (2-D vector) and use it to create another class representing a 3-Dvector"
   ]
  },
  {
   "cell_type": "code",
   "execution_count": null,
   "metadata": {},
   "outputs": [],
   "source": []
  },
  {
   "cell_type": "markdown",
   "metadata": {},
   "source": [
    "2. Create a class ‘Pets’ from a class ‘Animals’ and further create a class ‘Dog’ from ‘Pets’. Add a method ‘bark’ to class ‘Dog’."
   ]
  },
  {
   "cell_type": "code",
   "execution_count": null,
   "metadata": {},
   "outputs": [],
   "source": []
  },
  {
   "cell_type": "markdown",
   "metadata": {},
   "source": [
    "3. Create a class ‘Employee’ and add salary and increment properties to it\n",
    "Write a method ‘salaryAfterIncrement’ method with a @property decorator with a setter \n",
    "which changes the value of increment based on the salary."
   ]
  },
  {
   "cell_type": "code",
   "execution_count": null,
   "metadata": {},
   "outputs": [],
   "source": []
  },
  {
   "cell_type": "markdown",
   "metadata": {},
   "source": [
    "4. Write a class ‘Complex’ to represent complex numbers, along with overloaded operators ‘+’ and ‘*’ which adds and multiplies them"
   ]
  },
  {
   "cell_type": "code",
   "execution_count": null,
   "metadata": {},
   "outputs": [],
   "source": []
  },
  {
   "cell_type": "markdown",
   "metadata": {},
   "source": [
    "5. Write a class vector representing a vector of n dimensions. Overload the + and * operator which calculates the sum and the dot(.) product of them."
   ]
  },
  {
   "cell_type": "code",
   "execution_count": 1,
   "metadata": {},
   "outputs": [
    {
     "name": "stdout",
     "output_type": "stream",
     "text": [
      "5i + 7j + 9k\n",
      "32\n"
     ]
    }
   ],
   "source": [
    "class Vector:\n",
    "    def __init__(self, *components):\n",
    "        self.components = components\n",
    "\n",
    "    def __add__(self, other):\n",
    "        return Vector(*[a + b for a, b in zip(self.components, other.components)])\n",
    "\n",
    "    def __mul__(self, other):\n",
    "        return sum(a * b for a, b in zip(self.components, other.components))\n",
    "\n",
    "    def __str__(self):\n",
    "        return ' + '.join(f'{comp}{dim}' for comp, dim in zip(self.components, 'ijk'))\n",
    "\n",
    "    def __len__(self):\n",
    "        return len(self.components)\n",
    "\n",
    "# Example usage:\n",
    "v1 = Vector(1, 2, 3)\n",
    "v2 = Vector(4, 5, 6)\n",
    "v3 = v1 + v2\n",
    "dot_product = v1 * v2\n",
    "\n",
    "print(v3)  # Output: 5i + 7j + 9k\n",
    "print(dot_product)  # Output: 32"
   ]
  },
  {
   "cell_type": "code",
   "execution_count": null,
   "metadata": {},
   "outputs": [],
   "source": []
  },
  {
   "cell_type": "markdown",
   "metadata": {},
   "source": [
    "6. Write __str__() method to print the vector as follows:\n",
    "7i + 8j +10k \n",
    "Assume vector of dimension 3 for this problem"
   ]
  },
  {
   "cell_type": "code",
   "execution_count": null,
   "metadata": {},
   "outputs": [],
   "source": []
  },
  {
   "cell_type": "markdown",
   "metadata": {},
   "source": [
    "7. Override the __len__() method on vector of problem 5 to display the dimension of the vector."
   ]
  },
  {
   "cell_type": "code",
   "execution_count": null,
   "metadata": {},
   "outputs": [],
   "source": [
    "class Vector:\n",
    "    def __init__(self, *components):\n",
    "        self.components = components\n",
    "\n",
    "    def __add__(self, other):\n",
    "        return Vector(*[a + b for a, b in zip(self.components, other.components)])\n",
    "\n",
    "    def __mul__(self, other):\n",
    "        return sum(a * b for a, b in zip(self.components, other.components))\n",
    "\n",
    "    def __str__(self):\n",
    "        return ' + '.join(f'{comp}{dim}' for comp, dim in zip(self.components, 'ijk'))\n",
    "\n",
    "    def __len__(self):\n",
    "        return len(self.components)\n",
    "\n",
    "# Example usage:\n",
    "v = Vector(7, 8, 10)\n",
    "print(len(v))  # Output: 3"
   ]
  },
  {
   "cell_type": "code",
   "execution_count": null,
   "metadata": {},
   "outputs": [],
   "source": []
  }
 ],
 "metadata": {
  "kernelspec": {
   "display_name": "Python 3",
   "language": "python",
   "name": "python3"
  },
  "language_info": {
   "codemirror_mode": {
    "name": "ipython",
    "version": 3
   },
   "file_extension": ".py",
   "mimetype": "text/x-python",
   "name": "python",
   "nbconvert_exporter": "python",
   "pygments_lexer": "ipython3",
   "version": "3.12.8"
  }
 },
 "nbformat": 4,
 "nbformat_minor": 2
}
