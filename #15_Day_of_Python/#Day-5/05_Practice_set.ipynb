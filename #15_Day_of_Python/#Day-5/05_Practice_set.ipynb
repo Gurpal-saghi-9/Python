{
 "cells": [
  {
   "cell_type": "markdown",
   "metadata": {},
   "source": [
    "# *** CHAPTER 5 – PRACTICE SET ***\n",
    "---"
   ]
  },
  {
   "cell_type": "markdown",
   "metadata": {},
   "source": [
    "1. Write a program to create a dictionary of Hindi words with values as their English translation. Provide user with an option to look it up!"
   ]
  },
  {
   "cell_type": "code",
   "execution_count": 5,
   "metadata": {},
   "outputs": [
    {
     "name": "stdout",
     "output_type": "stream",
     "text": [
      "Available Hindi words in the dictionary:\n",
      "नमस्ते\n",
      "पुस्तक\n",
      "घर\n",
      "मित्र\n",
      "विद्यालय\n",
      "खुश\n",
      "The English translation of 'पुस्तक' is: 'Book'\n"
     ]
    }
   ],
   "source": [
    "# Dictionary of Hindi words and their English translations\n",
    "hindi_to_english = {\n",
    "    \"नमस्ते\": \"Hello\",\n",
    "    \"पुस्तक\": \"Book\",\n",
    "    \"घर\": \"House\",\n",
    "    \"मित्र\": \"Friend\",\n",
    "    \"विद्यालय\": \"School\",\n",
    "    \"खुश\": \"Happy\"\n",
    "}\n",
    "\n",
    "# Display available Hindi words\n",
    "print(\"Available Hindi words in the dictionary:\")\n",
    "for word in hindi_to_english.keys():\n",
    "    print(word)\n",
    "\n",
    "# Ask the user for a word to look up\n",
    "hindi_word = input(\"\\nEnter a Hindi word to look up its English translation: \")\n",
    "\n",
    "# Lookup the word in the dictionary\n",
    "translation = hindi_to_english.get(hindi_word)\n",
    "\n",
    "if translation:\n",
    "    print(f\"The English translation of '{hindi_word}' is: '{translation}'\")\n",
    "else:\n",
    "    print(f\"Sorry, the word '{hindi_word}' is not in the dictionary.\")\n"
   ]
  },
  {
   "cell_type": "markdown",
   "metadata": {},
   "source": [
    "2. Write a program to input eight numbers from the user and display all the unique numbers (once)"
   ]
  },
  {
   "cell_type": "code",
   "execution_count": 6,
   "metadata": {},
   "outputs": [
    {
     "name": "stdout",
     "output_type": "stream",
     "text": [
      "Enter 8 numbers:\n",
      "\n",
      "Unique numbers are:\n",
      "2\n",
      "3\n",
      "4\n",
      "5\n",
      "6\n",
      "7\n",
      "8\n"
     ]
    }
   ],
   "source": [
    "# Create an empty set to store unique numbers\n",
    "unique_numbers = set()\n",
    "\n",
    "# Input 8 numbers from the user\n",
    "print(\"Enter 8 numbers:\")\n",
    "for i in range(8):\n",
    "    number = int(input(f\"Enter number {i + 1}: \"))\n",
    "    unique_numbers.add(number)  # Add the number to the set\n",
    "\n",
    "# Display the unique numbers\n",
    "print(\"\\nUnique numbers are:\")\n",
    "for num in unique_numbers:\n",
    "    print(num)\n"
   ]
  },
  {
   "cell_type": "markdown",
   "metadata": {},
   "source": [
    "3. Can we have a set with 18 (int) and '18' (str) as a value in it?"
   ]
  },
  {
   "cell_type": "code",
   "execution_count": 7,
   "metadata": {},
   "outputs": [
    {
     "name": "stdout",
     "output_type": "stream",
     "text": [
      "{'18', 18}\n"
     ]
    }
   ],
   "source": [
    "my_set = {18, '18'}\n",
    "\n",
    "print(my_set)\n"
   ]
  },
  {
   "cell_type": "markdown",
   "metadata": {},
   "source": [
    "4. What will be the length of following set s:\n",
    "s = set()\n",
    "s.add(20)\n",
    "s.add(20.0)\n",
    "s.add('20') # length of s after these operations?"
   ]
  },
  {
   "cell_type": "code",
   "execution_count": 1,
   "metadata": {},
   "outputs": [
    {
     "name": "stdout",
     "output_type": "stream",
     "text": [
      "2\n"
     ]
    }
   ],
   "source": [
    "s = set()\n",
    "\n",
    "s.add(20)\n",
    "s.add(20.0)\n",
    "s.add('20') # length of s after these operations?\n",
    "\n",
    "print(len(s))"
   ]
  },
  {
   "cell_type": "markdown",
   "metadata": {},
   "source": [
    "5. s = {}\n",
    "What is the type of 's'?"
   ]
  },
  {
   "cell_type": "code",
   "execution_count": 2,
   "metadata": {},
   "outputs": [
    {
     "name": "stdout",
     "output_type": "stream",
     "text": [
      "<class 'dict'>\n"
     ]
    }
   ],
   "source": [
    "s = {}\n",
    "\n",
    "print(type(s))"
   ]
  },
  {
   "cell_type": "markdown",
   "metadata": {},
   "source": [
    "6. Create an empty dictionary. Allow 4 friends to enter their favorite language as value and use key as their names. Assume that the names are unique."
   ]
  },
  {
   "cell_type": "code",
   "execution_count": null,
   "metadata": {},
   "outputs": [],
   "source": [
    "# Create an empty dictionary\n",
    "favorite_languages = {}\n",
    "\n",
    "# Allow 4 friends to input their favorite languages\n",
    "for i in range(4):\n",
    "    name = input(f\"Enter the name of friend {i + 1}: \")\n",
    "    language = input(f\"Enter {name}'s favorite language: \")\n",
    "    favorite_languages[name] = language\n",
    "\n",
    "# Display the dictionary\n",
    "print(\"\\nFavorite languages of your friends:\")\n",
    "print(favorite_languages)\n"
   ]
  },
  {
   "cell_type": "markdown",
   "metadata": {},
   "source": [
    "7. If the names of 2 friends are same; what will happen to the program in problem 6?"
   ]
  },
  {
   "cell_type": "code",
   "execution_count": null,
   "metadata": {},
   "outputs": [],
   "source": []
  },
  {
   "cell_type": "markdown",
   "metadata": {},
   "source": [
    "8. If languages of two friends are same; what will happen to the program in problem 6?"
   ]
  },
  {
   "cell_type": "code",
   "execution_count": null,
   "metadata": {},
   "outputs": [],
   "source": []
  },
  {
   "cell_type": "markdown",
   "metadata": {},
   "source": [
    "9. Can you change the values inside a list which is contained in set S?\n",
    "s = {8, 7, 12, \"Harry\", [1,2]}"
   ]
  },
  {
   "cell_type": "code",
   "execution_count": null,
   "metadata": {},
   "outputs": [],
   "source": [
    "s = {8, 7, 12, \"Harry\", [1,2]}\n",
    "\n",
    "print(s.add(1,12))"
   ]
  }
 ],
 "metadata": {
  "kernelspec": {
   "display_name": "Python 3",
   "language": "python",
   "name": "python3"
  },
  "language_info": {
   "codemirror_mode": {
    "name": "ipython",
    "version": 3
   },
   "file_extension": ".py",
   "mimetype": "text/x-python",
   "name": "python",
   "nbconvert_exporter": "python",
   "pygments_lexer": "ipython3",
   "version": "3.12.8"
  }
 },
 "nbformat": 4,
 "nbformat_minor": 2
}
