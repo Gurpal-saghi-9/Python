{
 "cells": [
  {
   "cell_type": "markdown",
   "metadata": {},
   "source": [
    "# *** CHAPTER 5 – DICTIONARY ***\n",
    "---"
   ]
  },
  {
   "cell_type": "markdown",
   "metadata": {},
   "source": [
    "### Dictionary:-\n",
    "A dictionary in Python is a built-in data type that allows you to store data as key-value pairs. It is an unordered, mutable, and indexed collection where each key is unique and used to access its corresponding value.\n",
    "\n",
    "### Key Features of a Dictionary\n",
    "- Keys must be unique: No duplicate keys are allowed.\n",
    "- Keys must be immutable: Keys can be strings, numbers, or tuples (but not lists or other dictionaries).\n",
    "- Values can be any data type: Strings, numbers, lists, or even other dictionaries.\n",
    "- Unordered: Since Python 3.7, dictionaries maintain insertion order, but they are still considered unordered for older versions.\n",
    "\n",
    "### Example:\n",
    "a = {\n",
    "\"key\": \"value\",\n",
    "\"harry\": \"code\",\n",
    "\"marks\": \"100\",\n",
    "\"list\": [1, 2, 9]\n",
    "}\n",
    "print(a[\"key\"]) # Output: \"value\"\n",
    "print(a[\"list\"]) # Output: [1, 2, 9]"
   ]
  },
  {
   "cell_type": "markdown",
   "metadata": {},
   "source": [
    "### Creating a Dictionary"
   ]
  },
  {
   "cell_type": "code",
   "execution_count": 1,
   "metadata": {},
   "outputs": [
    {
     "name": "stdout",
     "output_type": "stream",
     "text": [
      "{'name': 'Guru', 'age': 19, 'city': 'New York', 'list': [1, 2, 9]} <class 'dict'>\n"
     ]
    }
   ],
   "source": [
    "# Empty dictionary\n",
    "my_dict = {}\n",
    "\n",
    "# Dictionary with initial key-value pairs\n",
    "my_dict = {\n",
    "            \"name\": \"Guru\", \n",
    "            \"age\": 19, \n",
    "            \"city\": \"New York\",\n",
    "            \"list\": [1,2,9]\n",
    "           }\n",
    "\n",
    "print(my_dict, type(my_dict))\n",
    "# print(my_dict[0]) # geting error because dictionary cant be using indexing\n"
   ]
  },
  {
   "cell_type": "markdown",
   "metadata": {},
   "source": [
    "### Accessing Values"
   ]
  },
  {
   "cell_type": "code",
   "execution_count": 2,
   "metadata": {},
   "outputs": [
    {
     "name": "stdout",
     "output_type": "stream",
     "text": [
      "Guru\n",
      "19\n",
      "Male\n"
     ]
    }
   ],
   "source": [
    "# Using keys\n",
    "print(my_dict[\"name\"])  # Output: Guru\n",
    "\n",
    "# Using the get() method (avoids KeyError if key is missing)\n",
    "print(my_dict.get(\"age\"))  # Output: 19\n",
    "print(my_dict.get(\"gender\", \"Male\"))  # Output: Male\n"
   ]
  },
  {
   "cell_type": "markdown",
   "metadata": {},
   "source": [
    "### Adding or Updating Elements"
   ]
  },
  {
   "cell_type": "code",
   "execution_count": 3,
   "metadata": {},
   "outputs": [],
   "source": [
    "# Adding a new key-value pair\n",
    "my_dict[\"gender\"] = \"Female\"\n",
    "\n",
    "# Updating an existing key\n",
    "my_dict[\"age\"] = 26\n"
   ]
  },
  {
   "cell_type": "markdown",
   "metadata": {},
   "source": [
    "### Removing Elements"
   ]
  },
  {
   "cell_type": "code",
   "execution_count": 4,
   "metadata": {},
   "outputs": [
    {
     "name": "stdout",
     "output_type": "stream",
     "text": [
      "26\n"
     ]
    }
   ],
   "source": [
    "# Using pop() to remove a key and return its value\n",
    "age = my_dict.pop(\"age\")\n",
    "print(age)  # Output: 26\n",
    "\n",
    "# Using del to remove a key-value pair\n",
    "del my_dict[\"city\"]\n",
    "\n",
    "# Using clear() to remove all elements\n",
    "my_dict.clear()"
   ]
  },
  {
   "cell_type": "markdown",
   "metadata": {},
   "source": [
    "### Iterating Over a Dictionary"
   ]
  },
  {
   "cell_type": "code",
   "execution_count": 5,
   "metadata": {},
   "outputs": [
    {
     "name": "stdout",
     "output_type": "stream",
     "text": [
      "name\n",
      "age\n",
      "city\n",
      "Alice\n",
      "25\n",
      "New York\n",
      "name: Alice\n",
      "age: 25\n",
      "city: New York\n"
     ]
    }
   ],
   "source": [
    "my_dict = {\"name\": \"Alice\", \"age\": 25, \"city\": \"New York\"}\n",
    "\n",
    "# Iterating over keys\n",
    "for key in my_dict:\n",
    "    print(key)\n",
    "\n",
    "# Iterating over values\n",
    "for value in my_dict.values():\n",
    "    print(value)\n",
    "\n",
    "# Iterating over key-value pairs\n",
    "for key, value in my_dict.items():\n",
    "    print(f\"{key}: {value}\")\n"
   ]
  },
  {
   "cell_type": "markdown",
   "metadata": {},
   "source": [
    "### Useful Methods"
   ]
  },
  {
   "cell_type": "code",
   "execution_count": 6,
   "metadata": {},
   "outputs": [
    {
     "name": "stdout",
     "output_type": "stream",
     "text": [
      "True\n",
      "['name', 'age', 'city']\n",
      "['Alice', 25, 'Sirhind']\n",
      "[('name', 'Alice'), ('age', 25), ('city', 'Sirhind')]\n",
      "{'name': 'Guru', 'age': 25, 'city': 'Sirhind', 'Country': 'India'}\n",
      "Guru\n",
      "Guru\n",
      "None\n",
      "a\n",
      "x\n",
      "{1: 'a', 2: 'b'}\n",
      "None\n",
      "{}\n",
      "{1: 'a', 2: 'b'}\n",
      "{'a': 0, 'b': 0, 'c': 0}\n",
      "a\n",
      "{2: 'b'}\n",
      "(2, 'b')\n",
      "{1: 'a'}\n"
     ]
    }
   ],
   "source": [
    "my_dict = {\"name\": \"Alice\", \"age\": 25, \"city\": \"Sirhind\"}\n",
    "\n",
    "# Check if a key exists\n",
    "print(\"name\" in my_dict)  # Output: True\n",
    "\n",
    "# Get a list of all keys\n",
    "print(list(my_dict.keys()))  # Output: ['name', 'age', 'city']\n",
    "\n",
    "# Get a list of all values\n",
    "print(list(my_dict.values()))  # Output: ['Alice', 25, 'Sirhind']\n",
    "\n",
    "# Get all key-value pairs in the form of tupple\n",
    "print(list(my_dict.items()))  # Output: [('name', 'Alice'), ('age', 25), ('city', 'Sirhind')]\n",
    "\n",
    "#Updates the dictionary with supplied key-value pairs\n",
    "my_dict.update({\"name\":\"Guru\", \"Country\":\"India\"})\n",
    "print(my_dict)\n",
    "\n",
    "# Get te specified keys (and value is returned)\n",
    "print(my_dict.get(\"name\")) # output is same of both\n",
    "print(my_dict[\"name\"])\n",
    "\n",
    "print(my_dict.get(\"name1\")) # Prints the None\n",
    "# print(my_dict[\"name1\"]) # Returns an error\n",
    "\n",
    "dic = {1: \"a\", 2: \"b\"}\n",
    "print(dic.get(1))      # Output: \"a\"\n",
    "print(dic.get(3, \"x\")) # Output: \"x\"\n",
    "print(dic)\n",
    "\n",
    "# Remove all elements from dict\n",
    "dic = {1:\"gur\" ,2:\"pal\" ,3:\"noor\"}\n",
    "print(dic.clear())\n",
    "print(dic)\n",
    "\n",
    "# Returns shallow copy\n",
    "dic = {1: \"a\", 2: \"b\"}\n",
    "new_dic = dic.copy()\n",
    "print(new_dic)  # Output: {1: \"a\", 2: \"b\"}\n",
    "\n",
    "# Creates a dictionary from a sequence of keys with a specified value.\n",
    "keys = [\"a\", \"b\", \"c\"]\n",
    "dic = dict.fromkeys(keys, 0)\n",
    "print(dic)  # Output: {'a': 0, 'b': 0, 'c': 0}\n",
    "\n",
    "# Removes the key and returns its value. If the key doesn’t exist, it returns the default value.\n",
    "dic = {1: \"a\", 2: \"b\"}\n",
    "print(dic.pop(1))       # Output: \"a\"\n",
    "print(dic)              # Output: {2: \"b\"}\n",
    "\n",
    "# Removes and returns the last inserted key-value pair as a tuple\n",
    "dic = {1: \"a\", 2: \"b\"}\n",
    "print(dic.popitem())    # Output: (2, \"b\")\n",
    "print(dic)              # Output: {1: \"a\"}\n"
   ]
  },
  {
   "cell_type": "markdown",
   "metadata": {},
   "source": [
    "### Nesting Dictionaries"
   ]
  },
  {
   "cell_type": "code",
   "execution_count": 7,
   "metadata": {},
   "outputs": [
    {
     "name": "stdout",
     "output_type": "stream",
     "text": [
      "Alice\n"
     ]
    }
   ],
   "source": [
    "nested_dict = {\n",
    "    \"person1\": {\"name\": \"Alice\", \"age\": 25},\n",
    "    \"person2\": {\"name\": \"Bob\", \"age\": 30}\n",
    "}\n",
    "\n",
    "print(nested_dict[\"person1\"][\"name\"])  # Output: Alice\n"
   ]
  },
  {
   "cell_type": "markdown",
   "metadata": {},
   "source": [
    "### Example Usage"
   ]
  },
  {
   "cell_type": "code",
   "execution_count": 8,
   "metadata": {},
   "outputs": [
    {
     "name": "stdout",
     "output_type": "stream",
     "text": [
      "123-456-7890\n",
      "{'Alice': '123-456-7890', 'Bob': '987-654-3210', 'Charlie': '111-222-3333'}\n"
     ]
    }
   ],
   "source": [
    "contacts = {\n",
    "    \"Alice\": \"123-456-7890\",\n",
    "    \"Bob\": \"987-654-3210\",\n",
    "    \"Eve\": \"555-555-5555\"\n",
    "}\n",
    "\n",
    "print(contacts[\"Alice\"])  # Output: 123-456-7890\n",
    "contacts[\"Charlie\"] = \"111-222-3333\"  # Adding a new contact\n",
    "del contacts[\"Eve\"]  # Removing a contact\n",
    "print(contacts)\n"
   ]
  }
 ],
 "metadata": {
  "kernelspec": {
   "display_name": "Python 3",
   "language": "python",
   "name": "python3"
  },
  "language_info": {
   "codemirror_mode": {
    "name": "ipython",
    "version": 3
   },
   "file_extension": ".py",
   "mimetype": "text/x-python",
   "name": "python",
   "nbconvert_exporter": "python",
   "pygments_lexer": "ipython3",
   "version": "3.12.8"
  }
 },
 "nbformat": 4,
 "nbformat_minor": 2
}
