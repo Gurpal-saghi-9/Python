{
 "cells": [
  {
   "cell_type": "markdown",
   "metadata": {},
   "source": [
    "# *** CHAPTER 5 – SETS ***\n",
    "---"
   ]
  },
  {
   "cell_type": "markdown",
   "metadata": {},
   "source": [
    "## Sets:-\n",
    "A set in Python is an unordered collection of unique, immutable elements. Sets are useful when you want to store non-duplicate items and perform operations like unions, intersections, and differences efficiently.\n",
    "\n",
    "### Key Features of Sets\n",
    "- Unique Elements: A set automatically removes duplicate elements.\n",
    "- Unordered: Elements are not stored in a specific order and cannot be accessed using an index.\n",
    "- Mutable: You can add or remove elements from a set.\n",
    "- Hashable Elements: Elements must be immutable (e.g., numbers, strings, tuples).\n",
    "\n",
    "### Example\n",
    "s = set() # no repetition allowed!\n",
    "s.add(1)\n",
    "s.add(2) # or set ={1,2}"
   ]
  },
  {
   "cell_type": "markdown",
   "metadata": {},
   "source": [
    "### Creating a Set"
   ]
  },
  {
   "cell_type": "code",
   "execution_count": null,
   "metadata": {},
   "outputs": [],
   "source": [
    "# Empty set\n",
    "empty_set = set()  # Note: Using {} creates an empty dictionary, not a set.\n",
    "\n",
    "# Set with initial elements\n",
    "my_set = {1, 2, 3, 4}\n",
    "\n",
    "# Set with duplicate elements (duplicates are removed)\n",
    "unique_set = {1, 2, 2, 3, 3}\n",
    "print(unique_set)  # Output: {1, 2, 3}\n"
   ]
  },
  {
   "cell_type": "markdown",
   "metadata": {},
   "source": [
    "### Accessing Set Elements:\n",
    "Sets do not support indexing because they are unordered. You can iterate over a set to access its elements."
   ]
  },
  {
   "cell_type": "code",
   "execution_count": null,
   "metadata": {},
   "outputs": [],
   "source": [
    "my_set = {1, 2, 3, 4}\n",
    "for item in my_set:\n",
    "    print(item)\n"
   ]
  },
  {
   "cell_type": "markdown",
   "metadata": {},
   "source": [
    "### Adding and Removing Elements"
   ]
  },
  {
   "cell_type": "code",
   "execution_count": 2,
   "metadata": {},
   "outputs": [
    {
     "name": "stdout",
     "output_type": "stream",
     "text": [
      "{1, 2, 3, 4}\n",
      "{1, 3, 4}\n",
      "1\n",
      "None\n",
      "set()\n"
     ]
    }
   ],
   "source": [
    "my_set = {1, 2, 3}\n",
    "\n",
    "# Adding an element\n",
    "my_set.add(4)\n",
    "print(my_set)  # Output: {1, 2, 3, 4}\n",
    "\n",
    "# Removing an element\n",
    "my_set.remove(2)  # Raises KeyError if the element is not present\n",
    "print(my_set)  # Output: {1, 3, 4}\n",
    "\n",
    "# Removing an element (no error if element is not present)\n",
    "my_set.discard(5)\n",
    "\n",
    "# Removing and returning an arbitrary element\n",
    "item = my_set.pop()\n",
    "print(item)  # Output: (some element from the set)\n",
    "\n",
    "# empty whole set\n",
    "print(my_set.clear())\n",
    "print(my_set)"
   ]
  },
  {
   "cell_type": "markdown",
   "metadata": {},
   "source": [
    "### Set Operations:-\n",
    "Sets are powerful for performing mathematical set operations like union, intersection, and difference."
   ]
  },
  {
   "cell_type": "markdown",
   "metadata": {},
   "source": [
    "- Union: Combines elements from both sets."
   ]
  },
  {
   "cell_type": "code",
   "execution_count": null,
   "metadata": {},
   "outputs": [],
   "source": [
    "set1 = {1, 2, 3}\n",
    "set2 = {3, 4, 5}\n",
    "\n",
    "print(set1.union(set2))  # Output: {1, 2, 3, 4, 5}\n"
   ]
  },
  {
   "cell_type": "markdown",
   "metadata": {},
   "source": [
    "- Intersection: Gets common elements."
   ]
  },
  {
   "cell_type": "code",
   "execution_count": 2,
   "metadata": {},
   "outputs": [
    {
     "name": "stdout",
     "output_type": "stream",
     "text": [
      "{3}\n"
     ]
    }
   ],
   "source": [
    "set1 = {1, 2, 3}\n",
    "set2 = {3, 4, 5}\n",
    "\n",
    "print(set1.intersection(set2))  # Output: {3}"
   ]
  },
  {
   "cell_type": "markdown",
   "metadata": {},
   "source": [
    "- Difference: Elements in set1 but not in set2."
   ]
  },
  {
   "cell_type": "code",
   "execution_count": 3,
   "metadata": {},
   "outputs": [
    {
     "name": "stdout",
     "output_type": "stream",
     "text": [
      "{1, 2}\n"
     ]
    }
   ],
   "source": [
    "set1 = {1, 2, 3}\n",
    "set2 = {3, 4, 5}\n",
    "\n",
    "print(set1.difference(set2))  # Output: {1, 2}"
   ]
  },
  {
   "cell_type": "markdown",
   "metadata": {},
   "source": [
    "- Symmetric Difference: Elements in either set but not both."
   ]
  },
  {
   "cell_type": "code",
   "execution_count": null,
   "metadata": {},
   "outputs": [],
   "source": [
    "set1 = {1, 2, 3}\n",
    "set2 = {3, 4, 5}\n",
    "\n",
    "print(set1.symmetric_difference(set2))  # Output: {1, 2, 4, 5}"
   ]
  },
  {
   "cell_type": "markdown",
   "metadata": {},
   "source": [
    "---\n",
    "# Set Methods"
   ]
  },
  {
   "cell_type": "code",
   "execution_count": null,
   "metadata": {},
   "outputs": [],
   "source": [
    "my_set = {1, 2, 3}\n",
    "\n",
    "# Check if an element exists\n",
    "print(2 in my_set)  # Output: True\n",
    "\n",
    "# Update a set with another set\n",
    "my_set.update({4, 5})\n",
    "print(my_set)  # Output: {1, 2, 3, 4, 5}\n",
    "\n",
    "# Clear all elements\n",
    "my_set.clear()\n",
    "print(my_set)  # Output: set()\n"
   ]
  }
 ],
 "metadata": {
  "kernelspec": {
   "display_name": "Python 3",
   "language": "python",
   "name": "python3"
  },
  "language_info": {
   "codemirror_mode": {
    "name": "ipython",
    "version": 3
   },
   "file_extension": ".py",
   "mimetype": "text/x-python",
   "name": "python",
   "nbconvert_exporter": "python",
   "pygments_lexer": "ipython3",
   "version": "3.12.8"
  }
 },
 "nbformat": 4,
 "nbformat_minor": 2
}
