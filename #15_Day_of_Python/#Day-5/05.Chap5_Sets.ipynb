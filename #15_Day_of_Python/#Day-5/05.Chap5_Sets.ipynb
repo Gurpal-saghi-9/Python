{
 "cells": [
  {
   "cell_type": "markdown",
   "metadata": {},
   "source": [
    "# *** CHAPTER 5 – SETS ***\n",
    "---"
   ]
  },
  {
   "cell_type": "markdown",
   "metadata": {},
   "source": [
    "## Sets:-\n",
    "A set in Python is an unordered collection of unique, immutable elements. Sets are useful when you want to store non-duplicate items and perform operations like unions, intersections, and differences efficiently.\n",
    "\n",
    "### Key Features of Sets\n",
    "- Unique Elements: A set automatically removes duplicate elements.\n",
    "- Unordered: Elements are not stored in a specific order and cannot be accessed using an index.\n",
    "- Mutable: You can add or remove elements from a set.\n",
    "- Hashable Elements: Elements must be immutable (e.g., numbers, strings, tuples).\n",
    "\n",
    "### Example\n",
    "s = set() # no repetition allowed!\n",
    "s.add(1)\n",
    "s.add(2) # or set ={1,2}"
   ]
  },
  {
   "cell_type": "markdown",
   "metadata": {},
   "source": [
    "### Creating a Set"
   ]
  },
  {
   "cell_type": "code",
   "execution_count": 1,
   "metadata": {},
   "outputs": [
    {
     "name": "stdout",
     "output_type": "stream",
     "text": [
      "{'Guru', 1, 2, 3}\n"
     ]
    }
   ],
   "source": [
    "# Empty set\n",
    "empty_set = set()  # Note: Using {} creates an empty dictionary, not a set.\n",
    "\n",
    "# Set with initial elements\n",
    "my_set = {1, 2, 3, 4}\n",
    "\n",
    "# Set with duplicate elements (duplicates are removed)\n",
    "unique_set = {1, 2, 2, 3, 3, \"Guru\"}\n",
    "print(unique_set)  # Output: {1, 2, 3}\n"
   ]
  },
  {
   "cell_type": "markdown",
   "metadata": {},
   "source": [
    "### Accessing Set Elements:\n",
    "Sets do not support indexing because they are unordered. You can iterate over a set to access its elements."
   ]
  },
  {
   "cell_type": "code",
   "execution_count": 2,
   "metadata": {},
   "outputs": [
    {
     "name": "stdout",
     "output_type": "stream",
     "text": [
      "1\n",
      "2\n",
      "3\n",
      "4\n"
     ]
    }
   ],
   "source": [
    "my_set = {1, 2, 3, 4}\n",
    "for item in my_set:\n",
    "    print(item)\n"
   ]
  },
  {
   "cell_type": "markdown",
   "metadata": {},
   "source": [
    "### Adding and Removing Elements"
   ]
  },
  {
   "cell_type": "code",
   "execution_count": 3,
   "metadata": {},
   "outputs": [
    {
     "name": "stdout",
     "output_type": "stream",
     "text": [
      "<class 'set'>\n",
      "{1, 2, 3, 4}\n",
      "{1, 3, 4}\n",
      "1\n",
      "None\n",
      "set()\n"
     ]
    }
   ],
   "source": [
    "my_set = {1, 2, 3}\n",
    "\n",
    "print(type(my_set))\n",
    "\n",
    "# Adding an element\n",
    "my_set.add(4)\n",
    "print(my_set)  # Output: {1, 2, 3, 4}\n",
    "\n",
    "# Removing an element\n",
    "my_set.remove(2)  # Raises KeyError if the element is not present\n",
    "print(my_set)  # Output: {1, 3, 4}\n",
    "\n",
    "# Removing an element (no error if element is not present)\n",
    "my_set.discard(5)\n",
    "\n",
    "# Removes and returns an arbitrary element from the set. Raises a KeyError if the set is empty.\n",
    "item = my_set.pop()\n",
    "print(item)  # Output: (some element from the set)\n",
    "\n",
    "# Removes all elements from the set.\n",
    "print(my_set.clear())\n",
    "print(my_set)"
   ]
  },
  {
   "cell_type": "markdown",
   "metadata": {},
   "source": [
    "### Set Operations:-\n",
    "Sets are powerful for performing mathematical set operations like union, intersection, and difference."
   ]
  },
  {
   "cell_type": "markdown",
   "metadata": {},
   "source": [
    "- Union: Combines elements from both sets."
   ]
  },
  {
   "cell_type": "code",
   "execution_count": 4,
   "metadata": {},
   "outputs": [
    {
     "name": "stdout",
     "output_type": "stream",
     "text": [
      "{1, 2, 3, 4, 5}\n",
      "{1, 2, 3, 4, 5}\n"
     ]
    }
   ],
   "source": [
    "set1 = {1, 2, 3}\n",
    "set2 = {3, 4, 5}\n",
    "\n",
    "print(set1.union(set2))  # Output: {1, 2, 3, 4, 5}\n",
    "print(set1|set2)\n"
   ]
  },
  {
   "cell_type": "markdown",
   "metadata": {},
   "source": [
    "- Intersection: Gets common elements."
   ]
  },
  {
   "cell_type": "code",
   "execution_count": 5,
   "metadata": {},
   "outputs": [
    {
     "name": "stdout",
     "output_type": "stream",
     "text": [
      "{3}\n",
      "{3}\n"
     ]
    }
   ],
   "source": [
    "set1 = {1, 2, 3}\n",
    "set2 = {3, 4, 5}\n",
    "\n",
    "print(set1.intersection(set2))  # Output: {3}\n",
    "print(set1 & set2)"
   ]
  },
  {
   "cell_type": "markdown",
   "metadata": {},
   "source": [
    "- Difference: Elements in set1 but not in set2."
   ]
  },
  {
   "cell_type": "code",
   "execution_count": 6,
   "metadata": {},
   "outputs": [
    {
     "name": "stdout",
     "output_type": "stream",
     "text": [
      "{1, 2}\n",
      "{1, 2}\n"
     ]
    }
   ],
   "source": [
    "set1 = {1, 2, 3}\n",
    "set2 = {3, 4, 5}\n",
    "\n",
    "print(set1.difference(set2))  # Output: {1, 2}\n",
    "print(set1 - set2)"
   ]
  },
  {
   "cell_type": "markdown",
   "metadata": {},
   "source": [
    "- Symmetric Difference: Elements in either set but not both."
   ]
  },
  {
   "cell_type": "code",
   "execution_count": 7,
   "metadata": {},
   "outputs": [
    {
     "name": "stdout",
     "output_type": "stream",
     "text": [
      "{1, 2, 4, 5}\n",
      "{1, 2, 4, 5}\n"
     ]
    }
   ],
   "source": [
    "set1 = {1, 2, 3}\n",
    "set2 = {3, 4, 5}\n",
    "\n",
    "print(set1.symmetric_difference(set2))  # Output: {1, 2, 4, 5}\n",
    "print(set1 ^ set2)"
   ]
  },
  {
   "cell_type": "markdown",
   "metadata": {},
   "source": [
    "---\n",
    "# Set Methods"
   ]
  },
  {
   "cell_type": "code",
   "execution_count": 8,
   "metadata": {},
   "outputs": [
    {
     "name": "stdout",
     "output_type": "stream",
     "text": [
      "3\n",
      "True\n",
      "True\n",
      "3\n",
      "1\n",
      "6\n",
      "set()\n",
      "{1, 2, 3}\n",
      "{1, 2, 3, 4, 5}\n",
      "True\n",
      "True\n",
      "True\n",
      "{2, 3}\n",
      "{1}\n",
      "{1, 2, 4, 5}\n",
      "[1, 2, 3]\n",
      "frozenset({1, 2, 3})\n",
      "0 1\n",
      "1 2\n",
      "2 3\n",
      "True\n",
      "False\n",
      "True\n",
      "False\n",
      "True\n"
     ]
    }
   ],
   "source": [
    "my_set = {1, 2, 3}\n",
    "\n",
    "# Returns the number of elements in the set.\n",
    "print(len(my_set)) # Output: 3\n",
    "\n",
    "# Check if an element exists or not\n",
    "print(2 in my_set)  # Output: True\n",
    "print(4 not in my_set) # Output: True\n",
    "\n",
    "# Returns the maximum value in the set.\n",
    "print(max(my_set)) # Output: 3\n",
    "\n",
    "# Returns the minimum value in the set.\n",
    "print(min(my_set)) # Output: 1\n",
    "\n",
    "# Returns the sum of all elements in the set.\n",
    "print(sum(my_set)) # Output: 6\n",
    "\n",
    "# Clear all elements\n",
    "my_set.clear()\n",
    "print(my_set)  # Output: set()\n",
    "\n",
    "# Returns a shallow copy of the set.\n",
    "my_set1 = {1, 2, 3}\n",
    "my_set2 = my_set1.copy()\n",
    "print(my_set2)  # Output: {1, 2, 3}\n",
    "\n",
    "\n",
    "\n",
    "# Update a set with another set\n",
    "set1 = {1, 2, 3}\n",
    "set2 = {3, 4, 5}\n",
    "set1.update(set2)\n",
    "print(set1)  # Output: {1, 2, 3, 4, 5}\n",
    "\n",
    "\n",
    "\n",
    "# Returns True if the set is a subset of another set.\n",
    "set1 = {1, 2}\n",
    "set2 = {1, 2, 3}\n",
    "print(set1.issubset(set2))  # Output: True\n",
    "\n",
    "# Returns True if the set is a superset of another set.\n",
    "set1 = {1, 2, 3}\n",
    "set2 = {1, 2}\n",
    "print(set1.issuperset(set2))  # Output: True\n",
    "\n",
    "# Returns True if the two sets have no elements in common.\n",
    "set1 = {1, 2, 3}\n",
    "set2 = {4, 5}\n",
    "print(set1.isdisjoint(set2))\n",
    "\n",
    "# Updates the set with the intersection of itself and another set.\n",
    "set1 = {1, 2, 3}\n",
    "set2 = {2, 3, 4}\n",
    "set1.intersection_update(set2)\n",
    "print(set1)  # Output: {2, 3}\n",
    "\n",
    "# Updates the set by removing elements found in another set.\n",
    "set1 = {1, 2, 3}\n",
    "set2 = {2, 3, 4}\n",
    "set1.difference_update(set2)\n",
    "print(set1)  # Output: {1}\n",
    "\n",
    "# Updates the set with the symmetric difference of itself and another set.\n",
    "set1 = {1, 2, 3}\n",
    "set2 = {3, 4, 5}\n",
    "set1.symmetric_difference_update(set2)\n",
    "print(set1)  # Output: {1, 3, 4, 5}\n",
    "\n",
    "# Returns a sorted list of elements in the set.\n",
    "my_set = {3, 1, 2}\n",
    "print(sorted(my_set))  # Output: [1, 2, 3]\n",
    "\n",
    "# Converts a set into an immutable set, which cannot be modified.\n",
    "a = {1, 2, 3}\n",
    "b = frozenset(a)\n",
    "print(b)       # Output: frozenset({1, 2, 3})\n",
    "# b.add(4)     # Raises AttributeError\n",
    "\n",
    "# Enumerates elements in the set and returns an index-element pair as a tuple.\n",
    "a = {1, 2, 3}\n",
    "for index, value in enumerate(a):\n",
    "    print(index, value)\n",
    "# Output:\n",
    "# 0 1\n",
    "# 1 2\n",
    "# 2 3\n",
    "\n",
    "# Returns True if all elements in the set are truthy.\n",
    "a = {1, 2, 3}\n",
    "print(all(a))  # Output: True\n",
    "b = {0, 1, 2}\n",
    "print(all(b))  # Output: False\n",
    "\n",
    "# Returns True if at least one element in the set is truthy.\n",
    "a = {0, 0, 3}\n",
    "print(any(a))  # Output: True\n",
    "b = {0, 0, 0}\n",
    "print(any(b))  # Output: False\n",
    "\n",
    "# Checks if a variable is a set.\n",
    "a = {1, 2, 3}\n",
    "print(isinstance(a, set))  # Output: True\n",
    "\n"
   ]
  }
 ],
 "metadata": {
  "kernelspec": {
   "display_name": "Python 3",
   "language": "python",
   "name": "python3"
  },
  "language_info": {
   "codemirror_mode": {
    "name": "ipython",
    "version": 3
   },
   "file_extension": ".py",
   "mimetype": "text/x-python",
   "name": "python",
   "nbconvert_exporter": "python",
   "pygments_lexer": "ipython3",
   "version": "3.12.8"
  }
 },
 "nbformat": 4,
 "nbformat_minor": 2
}
