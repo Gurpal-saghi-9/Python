{
 "cells": [
  {
   "cell_type": "markdown",
   "metadata": {},
   "source": [
    "# *** CHAPTER 13- PRACTICE SET ***\n",
    "---"
   ]
  },
  {
   "cell_type": "markdown",
   "metadata": {},
   "source": [
    "1. Create two virtual environments, install few packages in the first one. How do you create a similar environment in the second one?"
   ]
  },
  {
   "cell_type": "code",
   "execution_count": null,
   "metadata": {
    "vscode": {
     "languageId": "ruby"
    }
   },
   "outputs": [
    {
     "name": "stdout",
     "output_type": "stream",
     "text": [
      "^C\n",
      "Collecting numpy\n",
      "  Using cached numpy-2.2.1-cp312-cp312-win_amd64.whl.metadata (60 kB)\n",
      "Collecting pandas\n",
      "  Using cached pandas-2.2.3-cp312-cp312-win_amd64.whl.metadata (19 kB)\n",
      "Collecting python-dateutil>=2.8.2 (from pandas)\n",
      "  Using cached python_dateutil-2.9.0.post0-py2.py3-none-any.whl.metadata (8.4 kB)\n",
      "Collecting pytz>=2020.1 (from pandas)\n",
      "  Using cached pytz-2024.2-py2.py3-none-any.whl.metadata (22 kB)\n",
      "Collecting tzdata>=2022.7 (from pandas)\n",
      "  Using cached tzdata-2024.2-py2.py3-none-any.whl.metadata (1.4 kB)\n",
      "Collecting six>=1.5 (from python-dateutil>=2.8.2->pandas)\n",
      "  Using cached six-1.17.0-py2.py3-none-any.whl.metadata (1.7 kB)\n",
      "Using cached numpy-2.2.1-cp312-cp312-win_amd64.whl (12.6 MB)\n",
      "Using cached pandas-2.2.3-cp312-cp312-win_amd64.whl (11.5 MB)\n",
      "Using cached python_dateutil-2.9.0.post0-py2.py3-none-any.whl (229 kB)\n",
      "Using cached pytz-2024.2-py2.py3-none-any.whl (508 kB)\n",
      "Using cached tzdata-2024.2-py2.py3-none-any.whl (346 kB)\n",
      "Using cached six-1.17.0-py2.py3-none-any.whl (11 kB)\n",
      "Installing collected packages: pytz, tzdata, six, numpy, python-dateutil, pandas\n",
      "Successfully installed numpy-2.2.1 pandas-2.2.3 python-dateutil-2.9.0.post0 pytz-2024.2 six-1.17.0 tzdata-2024.2\n"
     ]
    }
   ],
   "source": [
    "# Create the first virtual environment\n",
    "!python -m venv env1\n",
    "\n",
    "# Activate the first virtual environment and install packages\n",
    "!env1\\Scripts\\activate && pip install numpy pandas\n",
    "\n",
    "# Freeze the installed packages to a requirements file\n",
    "!env1\\Scripts\\activate && pip freeze > requirements.txt\n",
    "\n",
    "# Create the second virtual environment\n",
    "!python -m venv env2\n",
    "\n",
    "# Activate the second virtual environment and install packages from the requirements file\n",
    "!env2\\Scripts\\activate && pip install -r requirements.txt"
   ]
  },
  {
   "cell_type": "markdown",
   "metadata": {},
   "source": [
    "2. Write a program to input name, marks and phone number of a student and format itusing the format function like below:\n",
    "\n",
    "“The name of the student is Harry, his marks are 72 and phone number is 99999888”"
   ]
  },
  {
   "cell_type": "code",
   "execution_count": 5,
   "metadata": {},
   "outputs": [
    {
     "name": "stdout",
     "output_type": "stream",
     "text": [
      "The name of the student is guru, his marks are 96 and phone number is 7658037586\n"
     ]
    }
   ],
   "source": [
    "name = input(\"Enter name: \")\n",
    "marks = int(input(\"Enter marks: \"))\n",
    "phone = int(input(\"Phone number: \"))\n",
    "\n",
    "s = \"The name of the student is {}, his marks are {} and phone number is {}\".format(name, marks, phone)\n",
    "\n",
    "print(s)"
   ]
  },
  {
   "cell_type": "code",
   "execution_count": 4,
   "metadata": {},
   "outputs": [
    {
     "name": "stdout",
     "output_type": "stream",
     "text": [
      "The name of the student is guru, his marks are 56 and phone number is 7658037586\n"
     ]
    }
   ],
   "source": [
    "name = input(\"Enter name: \")\n",
    "marks = int(input(\"Enter marks: \"))\n",
    "phone = int(input(\"Phone number: \"))\n",
    "\n",
    "s = \"The name of the student is {}, his marks are {} and phone number is {}\".format(name, marks, phone)\n",
    "\n",
    "print(s)"
   ]
  },
  {
   "cell_type": "markdown",
   "metadata": {},
   "source": [
    "3. A list contains the multiplication table of 7. write a program to convert it to vertical string of same numbers.\n",
    "```python\n",
    "7\n",
    "14\n",
    ".\n",
    ".\n",
    "."
   ]
  },
  {
   "cell_type": "code",
   "execution_count": 3,
   "metadata": {},
   "outputs": [
    {
     "name": "stdout",
     "output_type": "stream",
     "text": [
      "7\n",
      "14\n",
      "21\n",
      "28\n",
      "35\n",
      "42\n",
      "49\n",
      "56\n",
      "63\n",
      "70\n"
     ]
    }
   ],
   "source": [
    "table = [str(7*i) for i in range(1, 11)]\n",
    "\n",
    "s = \"\\n\".join(table)\n",
    "print(s)"
   ]
  },
  {
   "cell_type": "markdown",
   "metadata": {},
   "source": [
    "4. Write a program to filter a list of numbers which are divisible by 5."
   ]
  },
  {
   "cell_type": "code",
   "execution_count": 6,
   "metadata": {},
   "outputs": [
    {
     "name": "stdout",
     "output_type": "stream",
     "text": [
      "[6234235, 65, 45, 55]\n"
     ]
    }
   ],
   "source": [
    "def divisible5(n):\n",
    "    if(n%5 == 0):\n",
    "        return True\n",
    "    return False\n",
    "\n",
    "a  = [1,2,34234,53,6234235,64343, 65,754,45,55]\n",
    "\n",
    "f = list(filter(divisible5, a))\n",
    "print(f)"
   ]
  },
  {
   "cell_type": "markdown",
   "metadata": {},
   "source": [
    "5. Write a program to find the maximum of the numbers in a list using the reduce function."
   ]
  },
  {
   "cell_type": "code",
   "execution_count": 7,
   "metadata": {},
   "outputs": [
    {
     "name": "stdout",
     "output_type": "stream",
     "text": [
      "5553\n"
     ]
    }
   ],
   "source": [
    "from functools import reduce\n",
    "l  = [111, 2, 65, 5553, 635, 65, 74, 45,55]\n",
    "\n",
    "\n",
    "def greater(a, b):\n",
    "    if (a>b):\n",
    "        return a \n",
    "    return b\n",
    "\n",
    "print(reduce(greater, l))"
   ]
  },
  {
   "cell_type": "markdown",
   "metadata": {},
   "source": [
    "6. Run pip freeze for the system interpreter. Take the contents and create a similar virtualenv"
   ]
  },
  {
   "cell_type": "code",
   "execution_count": null,
   "metadata": {},
   "outputs": [],
   "source": [
    "# pip freeze > requirements.txt\n",
    "# virtualenv harryenv"
   ]
  },
  {
   "cell_type": "code",
   "execution_count": 8,
   "metadata": {},
   "outputs": [
    {
     "name": "stdout",
     "output_type": "stream",
     "text": [
      "^C\n"
     ]
    },
    {
     "name": "stdout",
     "output_type": "stream",
     "text": [
      "Collecting annotated-types==0.7.0 (from -r system_requirements.txt (line 1))\n",
      "  Using cached annotated_types-0.7.0-py3-none-any.whl.metadata (15 kB)\n",
      "Collecting anyio==4.7.0 (from -r system_requirements.txt (line 2))\n",
      "  Using cached anyio-4.7.0-py3-none-any.whl.metadata (4.7 kB)\n",
      "Collecting art==6.4 (from -r system_requirements.txt (line 3))\n",
      "  Using cached art-6.4-py3-none-any.whl.metadata (71 kB)\n",
      "Collecting asgiref==3.8.1 (from -r system_requirements.txt (line 4))\n",
      "  Using cached asgiref-3.8.1-py3-none-any.whl.metadata (9.3 kB)\n",
      "Collecting asttokens==3.0.0 (from -r system_requirements.txt (line 5))\n",
      "  Using cached asttokens-3.0.0-py3-none-any.whl.metadata (4.7 kB)\n",
      "Collecting blinker==1.9.0 (from -r system_requirements.txt (line 6))\n",
      "  Using cached blinker-1.9.0-py3-none-any.whl.metadata (1.6 kB)\n",
      "Collecting certifi==2024.12.14 (from -r system_requirements.txt (line 7))\n",
      "  Using cached certifi-2024.12.14-py3-none-any.whl.metadata (2.3 kB)\n",
      "Collecting cffi==1.17.1 (from -r system_requirements.txt (line 8))\n",
      "  Using cached cffi-1.17.1-cp312-cp312-win_amd64.whl.metadata (1.6 kB)\n",
      "Collecting charset-normalizer==3.4.1 (from -r system_requirements.txt (line 9))\n",
      "  Using cached charset_normalizer-3.4.1-cp312-cp312-win_amd64.whl.metadata (36 kB)\n",
      "Collecting chatterbot-corpus==1.2.0 (from -r system_requirements.txt (line 10))\n",
      "  Using cached chatterbot_corpus-1.2.0-py2.py3-none-any.whl.metadata (5.0 kB)\n",
      "Collecting click==8.1.8 (from -r system_requirements.txt (line 11))\n",
      "  Using cached click-8.1.8-py3-none-any.whl.metadata (2.3 kB)\n",
      "Collecting colorama==0.4.6 (from -r system_requirements.txt (line 12))\n",
      "  Using cached colorama-0.4.6-py2.py3-none-any.whl.metadata (17 kB)\n",
      "Collecting comm==0.2.2 (from -r system_requirements.txt (line 13))\n",
      "  Using cached comm-0.2.2-py3-none-any.whl.metadata (3.7 kB)\n",
      "Collecting comtypes==1.4.8 (from -r system_requirements.txt (line 14))\n",
      "  Using cached comtypes-1.4.8-py3-none-any.whl.metadata (7.1 kB)\n",
      "Collecting debugpy==1.8.11 (from -r system_requirements.txt (line 15))\n",
      "  Using cached debugpy-1.8.11-cp312-cp312-win_amd64.whl.metadata (1.1 kB)\n",
      "Collecting decorator==5.1.1 (from -r system_requirements.txt (line 16))\n",
      "  Using cached decorator-5.1.1-py3-none-any.whl.metadata (4.0 kB)\n",
      "Collecting distlib==0.3.9 (from -r system_requirements.txt (line 17))\n",
      "  Using cached distlib-0.3.9-py2.py3-none-any.whl.metadata (5.2 kB)\n",
      "Collecting distro==1.9.0 (from -r system_requirements.txt (line 18))\n",
      "  Using cached distro-1.9.0-py3-none-any.whl.metadata (6.8 kB)\n",
      "Collecting Django==5.1.4 (from -r system_requirements.txt (line 19))\n",
      "  Using cached Django-5.1.4-py3-none-any.whl.metadata (4.2 kB)\n",
      "Collecting emoji==2.14.0 (from -r system_requirements.txt (line 20))\n",
      "  Using cached emoji-2.14.0-py3-none-any.whl.metadata (5.7 kB)\n",
      "Collecting et_xmlfile==2.0.0 (from -r system_requirements.txt (line 21))\n",
      "  Using cached et_xmlfile-2.0.0-py3-none-any.whl.metadata (2.7 kB)\n",
      "Collecting executing==2.1.0 (from -r system_requirements.txt (line 22))\n",
      "  Using cached executing-2.1.0-py2.py3-none-any.whl.metadata (8.9 kB)\n",
      "Collecting filelock==3.16.1 (from -r system_requirements.txt (line 23))\n",
      "  Using cached filelock-3.16.1-py3-none-any.whl.metadata (2.9 kB)\n",
      "Collecting Flask==3.1.0 (from -r system_requirements.txt (line 24))\n",
      "  Using cached flask-3.1.0-py3-none-any.whl.metadata (2.7 kB)\n",
      "Collecting gTTS==2.5.4 (from -r system_requirements.txt (line 25))\n",
      "  Using cached gTTS-2.5.4-py3-none-any.whl.metadata (4.1 kB)\n",
      "Collecting h11==0.14.0 (from -r system_requirements.txt (line 26))\n",
      "  Using cached h11-0.14.0-py3-none-any.whl.metadata (8.2 kB)\n",
      "Collecting httpcore==1.0.7 (from -r system_requirements.txt (line 27))\n",
      "  Using cached httpcore-1.0.7-py3-none-any.whl.metadata (21 kB)\n",
      "Collecting httpx==0.28.1 (from -r system_requirements.txt (line 28))\n",
      "  Using cached httpx-0.28.1-py3-none-any.whl.metadata (7.1 kB)\n",
      "Collecting idna==3.10 (from -r system_requirements.txt (line 29))\n",
      "  Using cached idna-3.10-py3-none-any.whl.metadata (10 kB)\n",
      "Collecting ipykernel==6.29.5 (from -r system_requirements.txt (line 30))\n",
      "  Using cached ipykernel-6.29.5-py3-none-any.whl.metadata (6.3 kB)\n",
      "Collecting ipython==8.31.0 (from -r system_requirements.txt (line 31))\n",
      "  Using cached ipython-8.31.0-py3-none-any.whl.metadata (4.9 kB)\n",
      "Collecting itsdangerous==2.2.0 (from -r system_requirements.txt (line 32))\n",
      "  Using cached itsdangerous-2.2.0-py3-none-any.whl.metadata (1.9 kB)\n",
      "Collecting jedi==0.19.2 (from -r system_requirements.txt (line 33))\n",
      "  Using cached jedi-0.19.2-py2.py3-none-any.whl.metadata (22 kB)\n",
      "Collecting Jinja2==3.1.5 (from -r system_requirements.txt (line 34))\n",
      "  Using cached jinja2-3.1.5-py3-none-any.whl.metadata (2.6 kB)\n",
      "Collecting jiter==0.8.2 (from -r system_requirements.txt (line 35))\n",
      "  Using cached jiter-0.8.2-cp312-cp312-win_amd64.whl.metadata (5.3 kB)\n",
      "Collecting joblib==1.4.2 (from -r system_requirements.txt (line 36))\n",
      "  Using cached joblib-1.4.2-py3-none-any.whl.metadata (5.4 kB)\n",
      "Collecting jupyter_client==8.6.3 (from -r system_requirements.txt (line 37))\n",
      "  Using cached jupyter_client-8.6.3-py3-none-any.whl.metadata (8.3 kB)\n",
      "Collecting jupyter_core==5.7.2 (from -r system_requirements.txt (line 38))\n",
      "  Using cached jupyter_core-5.7.2-py3-none-any.whl.metadata (3.4 kB)\n",
      "Collecting markdown-it-py==3.0.0 (from -r system_requirements.txt (line 39))\n",
      "  Using cached markdown_it_py-3.0.0-py3-none-any.whl.metadata (6.9 kB)\n",
      "Collecting MarkupSafe==3.0.2 (from -r system_requirements.txt (line 40))\n",
      "  Using cached MarkupSafe-3.0.2-cp312-cp312-win_amd64.whl.metadata (4.1 kB)\n",
      "Collecting matplotlib-inline==0.1.7 (from -r system_requirements.txt (line 41))\n",
      "  Using cached matplotlib_inline-0.1.7-py3-none-any.whl.metadata (3.9 kB)\n",
      "Collecting mdurl==0.1.2 (from -r system_requirements.txt (line 42))\n",
      "  Using cached mdurl-0.1.2-py3-none-any.whl.metadata (1.6 kB)\n",
      "Collecting nest-asyncio==1.6.0 (from -r system_requirements.txt (line 43))\n",
      "  Using cached nest_asyncio-1.6.0-py3-none-any.whl.metadata (2.8 kB)\n",
      "Collecting nltk==3.9.1 (from -r system_requirements.txt (line 44))\n",
      "  Using cached nltk-3.9.1-py3-none-any.whl.metadata (2.9 kB)\n",
      "Collecting numpy==2.2.1 (from -r system_requirements.txt (line 45))\n",
      "  Using cached numpy-2.2.1-cp312-cp312-win_amd64.whl.metadata (60 kB)\n",
      "Collecting openai==1.58.1 (from -r system_requirements.txt (line 46))\n",
      "  Using cached openai-1.58.1-py3-none-any.whl.metadata (27 kB)\n",
      "Collecting openpyxl==3.1.5 (from -r system_requirements.txt (line 47))\n",
      "  Using cached openpyxl-3.1.5-py2.py3-none-any.whl.metadata (2.5 kB)\n",
      "Collecting packaging==24.2 (from -r system_requirements.txt (line 48))\n",
      "  Using cached packaging-24.2-py3-none-any.whl.metadata (3.2 kB)\n",
      "Collecting pandas==2.2.3 (from -r system_requirements.txt (line 49))\n",
      "  Using cached pandas-2.2.3-cp312-cp312-win_amd64.whl.metadata (19 kB)\n",
      "Collecting parso==0.8.4 (from -r system_requirements.txt (line 50))\n",
      "  Using cached parso-0.8.4-py2.py3-none-any.whl.metadata (7.7 kB)\n",
      "Collecting platformdirs==4.3.6 (from -r system_requirements.txt (line 51))\n",
      "  Using cached platformdirs-4.3.6-py3-none-any.whl.metadata (11 kB)\n",
      "Collecting prompt_toolkit==3.0.48 (from -r system_requirements.txt (line 52))\n",
      "  Using cached prompt_toolkit-3.0.48-py3-none-any.whl.metadata (6.4 kB)\n",
      "Collecting psutil==6.1.1 (from -r system_requirements.txt (line 53))\n",
      "  Using cached psutil-6.1.1-cp37-abi3-win_amd64.whl.metadata (23 kB)\n",
      "Collecting pure_eval==0.2.3 (from -r system_requirements.txt (line 54))\n",
      "  Using cached pure_eval-0.2.3-py3-none-any.whl.metadata (6.3 kB)\n",
      "Collecting PyAudio==0.2.14 (from -r system_requirements.txt (line 55))\n",
      "  Using cached PyAudio-0.2.14-cp312-cp312-win_amd64.whl.metadata (2.7 kB)\n",
      "Collecting pycparser==2.22 (from -r system_requirements.txt (line 56))\n",
      "  Using cached pycparser-2.22-py3-none-any.whl.metadata (943 bytes)\n",
      "Collecting pydantic==2.10.4 (from -r system_requirements.txt (line 57))\n",
      "  Using cached pydantic-2.10.4-py3-none-any.whl.metadata (29 kB)\n",
      "Collecting pydantic_core==2.27.2 (from -r system_requirements.txt (line 58))\n",
      "  Using cached pydantic_core-2.27.2-cp312-cp312-win_amd64.whl.metadata (6.7 kB)\n",
      "Collecting pygame==2.6.1 (from -r system_requirements.txt (line 59))\n",
      "  Using cached pygame-2.6.1-cp312-cp312-win_amd64.whl.metadata (13 kB)\n",
      "Collecting Pygments==2.18.0 (from -r system_requirements.txt (line 60))\n",
      "  Using cached pygments-2.18.0-py3-none-any.whl.metadata (2.5 kB)\n",
      "Collecting pyjokes==0.8.3 (from -r system_requirements.txt (line 61))\n",
      "  Using cached pyjokes-0.8.3-py3-none-any.whl.metadata (3.4 kB)\n",
      "Collecting pypiwin32==223 (from -r system_requirements.txt (line 62))\n",
      "  Using cached pypiwin32-223-py3-none-any.whl.metadata (236 bytes)\n",
      "Collecting python-dateutil==2.9.0.post0 (from -r system_requirements.txt (line 63))\n",
      "  Using cached python_dateutil-2.9.0.post0-py2.py3-none-any.whl.metadata (8.4 kB)\n",
      "Collecting pyttsx3==2.98 (from -r system_requirements.txt (line 64))\n",
      "  Using cached pyttsx3-2.98-py3-none-any.whl.metadata (3.8 kB)\n",
      "Collecting pytz==2024.2 (from -r system_requirements.txt (line 65))\n",
      "  Using cached pytz-2024.2-py2.py3-none-any.whl.metadata (22 kB)\n",
      "Collecting pywin32==308 (from -r system_requirements.txt (line 66))\n",
      "  Using cached pywin32-308-cp312-cp312-win_amd64.whl.metadata (8.3 kB)\n",
      "Collecting PyYAML==3.13 (from -r system_requirements.txt (line 67))\n",
      "  Using cached PyYAML-3.13-cp312-cp312-win_amd64.whl\n",
      "Collecting pyzmq==26.2.0 (from -r system_requirements.txt (line 68))\n",
      "  Using cached pyzmq-26.2.0-cp312-cp312-win_amd64.whl.metadata (6.2 kB)\n",
      "Collecting regex==2024.11.6 (from -r system_requirements.txt (line 69))\n",
      "  Using cached regex-2024.11.6-cp312-cp312-win_amd64.whl.metadata (41 kB)\n",
      "Collecting requests==2.32.3 (from -r system_requirements.txt (line 70))\n",
      "  Using cached requests-2.32.3-py3-none-any.whl.metadata (4.6 kB)\n",
      "Collecting rich==13.9.4 (from -r system_requirements.txt (line 71))\n",
      "  Using cached rich-13.9.4-py3-none-any.whl.metadata (18 kB)\n",
      "Collecting six==1.17.0 (from -r system_requirements.txt (line 72))\n",
      "  Using cached six-1.17.0-py2.py3-none-any.whl.metadata (1.7 kB)\n",
      "Collecting sniffio==1.3.1 (from -r system_requirements.txt (line 73))\n",
      "  Using cached sniffio-1.3.1-py3-none-any.whl.metadata (3.9 kB)\n",
      "Collecting sounddevice==0.5.1 (from -r system_requirements.txt (line 74))\n",
      "  Using cached sounddevice-0.5.1-py3-none-win_amd64.whl.metadata (1.4 kB)\n",
      "Collecting SpeechRecognition==3.12.0 (from -r system_requirements.txt (line 75))\n",
      "  Using cached SpeechRecognition-3.12.0-py3-none-any.whl.metadata (30 kB)\n",
      "Collecting sqlparse==0.5.3 (from -r system_requirements.txt (line 76))\n",
      "  Using cached sqlparse-0.5.3-py3-none-any.whl.metadata (3.9 kB)\n",
      "Collecting stack-data==0.6.3 (from -r system_requirements.txt (line 77))\n",
      "  Using cached stack_data-0.6.3-py3-none-any.whl.metadata (18 kB)\n",
      "Collecting textblob==0.18.0.post0 (from -r system_requirements.txt (line 78))\n",
      "  Using cached textblob-0.18.0.post0-py3-none-any.whl.metadata (4.5 kB)\n",
      "Collecting tornado==6.4.2 (from -r system_requirements.txt (line 79))\n",
      "  Using cached tornado-6.4.2-cp38-abi3-win_amd64.whl.metadata (2.6 kB)\n",
      "Collecting tqdm==4.67.1 (from -r system_requirements.txt (line 80))\n",
      "  Using cached tqdm-4.67.1-py3-none-any.whl.metadata (57 kB)\n",
      "Collecting traitlets==5.14.3 (from -r system_requirements.txt (line 81))\n",
      "  Using cached traitlets-5.14.3-py3-none-any.whl.metadata (10 kB)\n",
      "Collecting typing_extensions==4.12.2 (from -r system_requirements.txt (line 82))\n",
      "  Using cached typing_extensions-4.12.2-py3-none-any.whl.metadata (3.0 kB)\n",
      "Collecting tzdata==2024.2 (from -r system_requirements.txt (line 83))\n",
      "  Using cached tzdata-2024.2-py2.py3-none-any.whl.metadata (1.4 kB)\n",
      "Collecting urllib3==2.3.0 (from -r system_requirements.txt (line 84))\n",
      "  Using cached urllib3-2.3.0-py3-none-any.whl.metadata (6.5 kB)\n",
      "Collecting virtualenv==20.28.1 (from -r system_requirements.txt (line 85))\n",
      "  Using cached virtualenv-20.28.1-py3-none-any.whl.metadata (4.5 kB)\n",
      "Collecting wcwidth==0.2.13 (from -r system_requirements.txt (line 86))\n",
      "  Using cached wcwidth-0.2.13-py2.py3-none-any.whl.metadata (14 kB)\n",
      "Collecting Werkzeug==3.1.3 (from -r system_requirements.txt (line 87))\n",
      "  Using cached werkzeug-3.1.3-py3-none-any.whl.metadata (3.7 kB)\n",
      "Using cached annotated_types-0.7.0-py3-none-any.whl (13 kB)\n",
      "Using cached anyio-4.7.0-py3-none-any.whl (93 kB)\n",
      "Using cached art-6.4-py3-none-any.whl (608 kB)\n",
      "Using cached asgiref-3.8.1-py3-none-any.whl (23 kB)\n",
      "Using cached asttokens-3.0.0-py3-none-any.whl (26 kB)\n",
      "Using cached blinker-1.9.0-py3-none-any.whl (8.5 kB)\n",
      "Using cached certifi-2024.12.14-py3-none-any.whl (164 kB)\n",
      "Using cached cffi-1.17.1-cp312-cp312-win_amd64.whl (181 kB)\n",
      "Using cached charset_normalizer-3.4.1-cp312-cp312-win_amd64.whl (102 kB)\n",
      "Using cached chatterbot_corpus-1.2.0-py2.py3-none-any.whl (117 kB)\n",
      "Using cached click-8.1.8-py3-none-any.whl (98 kB)\n",
      "Using cached colorama-0.4.6-py2.py3-none-any.whl (25 kB)\n",
      "Using cached comm-0.2.2-py3-none-any.whl (7.2 kB)\n",
      "Using cached comtypes-1.4.8-py3-none-any.whl (229 kB)\n",
      "Using cached debugpy-1.8.11-cp312-cp312-win_amd64.whl (5.3 MB)\n",
      "Using cached decorator-5.1.1-py3-none-any.whl (9.1 kB)\n",
      "Using cached distlib-0.3.9-py2.py3-none-any.whl (468 kB)\n",
      "Using cached distro-1.9.0-py3-none-any.whl (20 kB)\n",
      "Using cached Django-5.1.4-py3-none-any.whl (8.3 MB)\n",
      "Using cached emoji-2.14.0-py3-none-any.whl (586 kB)\n",
      "Using cached et_xmlfile-2.0.0-py3-none-any.whl (18 kB)\n",
      "Using cached executing-2.1.0-py2.py3-none-any.whl (25 kB)\n",
      "Using cached filelock-3.16.1-py3-none-any.whl (16 kB)\n",
      "Using cached flask-3.1.0-py3-none-any.whl (102 kB)\n",
      "Using cached gTTS-2.5.4-py3-none-any.whl (29 kB)\n",
      "Using cached h11-0.14.0-py3-none-any.whl (58 kB)\n",
      "Using cached httpcore-1.0.7-py3-none-any.whl (78 kB)\n",
      "Using cached httpx-0.28.1-py3-none-any.whl (73 kB)\n",
      "Using cached idna-3.10-py3-none-any.whl (70 kB)\n",
      "Using cached ipykernel-6.29.5-py3-none-any.whl (117 kB)\n",
      "Using cached ipython-8.31.0-py3-none-any.whl (821 kB)\n",
      "Using cached itsdangerous-2.2.0-py3-none-any.whl (16 kB)\n",
      "Using cached jedi-0.19.2-py2.py3-none-any.whl (1.6 MB)\n",
      "Using cached jinja2-3.1.5-py3-none-any.whl (134 kB)\n",
      "Using cached jiter-0.8.2-cp312-cp312-win_amd64.whl (204 kB)\n",
      "Using cached joblib-1.4.2-py3-none-any.whl (301 kB)\n",
      "Using cached jupyter_client-8.6.3-py3-none-any.whl (106 kB)\n",
      "Using cached jupyter_core-5.7.2-py3-none-any.whl (28 kB)\n",
      "Using cached markdown_it_py-3.0.0-py3-none-any.whl (87 kB)\n",
      "Using cached MarkupSafe-3.0.2-cp312-cp312-win_amd64.whl (15 kB)\n",
      "Using cached matplotlib_inline-0.1.7-py3-none-any.whl (9.9 kB)\n",
      "Using cached mdurl-0.1.2-py3-none-any.whl (10.0 kB)\n",
      "Using cached nest_asyncio-1.6.0-py3-none-any.whl (5.2 kB)\n",
      "Using cached nltk-3.9.1-py3-none-any.whl (1.5 MB)\n",
      "Using cached numpy-2.2.1-cp312-cp312-win_amd64.whl (12.6 MB)\n",
      "Using cached openai-1.58.1-py3-none-any.whl (454 kB)\n",
      "Using cached openpyxl-3.1.5-py2.py3-none-any.whl (250 kB)\n",
      "Using cached packaging-24.2-py3-none-any.whl (65 kB)\n",
      "Using cached pandas-2.2.3-cp312-cp312-win_amd64.whl (11.5 MB)\n",
      "Using cached parso-0.8.4-py2.py3-none-any.whl (103 kB)\n",
      "Using cached platformdirs-4.3.6-py3-none-any.whl (18 kB)\n",
      "Using cached prompt_toolkit-3.0.48-py3-none-any.whl (386 kB)\n",
      "Using cached psutil-6.1.1-cp37-abi3-win_amd64.whl (254 kB)\n",
      "Using cached pure_eval-0.2.3-py3-none-any.whl (11 kB)\n",
      "Using cached PyAudio-0.2.14-cp312-cp312-win_amd64.whl (164 kB)\n",
      "Using cached pycparser-2.22-py3-none-any.whl (117 kB)\n",
      "Using cached pydantic-2.10.4-py3-none-any.whl (431 kB)\n",
      "Using cached pydantic_core-2.27.2-cp312-cp312-win_amd64.whl (2.0 MB)\n",
      "Using cached pygame-2.6.1-cp312-cp312-win_amd64.whl (10.6 MB)\n",
      "Using cached pygments-2.18.0-py3-none-any.whl (1.2 MB)\n",
      "Using cached pyjokes-0.8.3-py3-none-any.whl (47 kB)\n",
      "Using cached pypiwin32-223-py3-none-any.whl (1.7 kB)\n",
      "Using cached python_dateutil-2.9.0.post0-py2.py3-none-any.whl (229 kB)\n",
      "Using cached pyttsx3-2.98-py3-none-any.whl (34 kB)\n",
      "Using cached pytz-2024.2-py2.py3-none-any.whl (508 kB)\n",
      "Using cached pywin32-308-cp312-cp312-win_amd64.whl (6.5 MB)\n",
      "Using cached pyzmq-26.2.0-cp312-cp312-win_amd64.whl (637 kB)\n",
      "Using cached regex-2024.11.6-cp312-cp312-win_amd64.whl (273 kB)\n",
      "Using cached requests-2.32.3-py3-none-any.whl (64 kB)\n",
      "Using cached rich-13.9.4-py3-none-any.whl (242 kB)\n",
      "Using cached six-1.17.0-py2.py3-none-any.whl (11 kB)\n",
      "Using cached sniffio-1.3.1-py3-none-any.whl (10 kB)\n",
      "Using cached sounddevice-0.5.1-py3-none-win_amd64.whl (363 kB)\n",
      "Using cached SpeechRecognition-3.12.0-py3-none-any.whl (32.8 MB)\n",
      "Using cached sqlparse-0.5.3-py3-none-any.whl (44 kB)\n",
      "Using cached stack_data-0.6.3-py3-none-any.whl (24 kB)\n",
      "Using cached textblob-0.18.0.post0-py3-none-any.whl (626 kB)\n",
      "Using cached tornado-6.4.2-cp38-abi3-win_amd64.whl (438 kB)\n",
      "Using cached tqdm-4.67.1-py3-none-any.whl (78 kB)\n",
      "Using cached traitlets-5.14.3-py3-none-any.whl (85 kB)\n",
      "Using cached typing_extensions-4.12.2-py3-none-any.whl (37 kB)\n",
      "Using cached tzdata-2024.2-py2.py3-none-any.whl (346 kB)\n",
      "Using cached urllib3-2.3.0-py3-none-any.whl (128 kB)\n",
      "Using cached virtualenv-20.28.1-py3-none-any.whl (4.3 MB)\n",
      "Using cached wcwidth-0.2.13-py2.py3-none-any.whl (34 kB)\n",
      "Using cached werkzeug-3.1.3-py3-none-any.whl (224 kB)\n",
      "Installing collected packages: wcwidth, PyYAML, pywin32, pytz, PyAudio, pure_eval, distlib, urllib3, tzdata, typing_extensions, traitlets, tornado, sqlparse, sniffio, six, regex, pyzmq, pypiwin32, pyjokes, Pygments, pygame, pycparser, psutil, prompt_toolkit, platformdirs, parso, packaging, numpy, nest-asyncio, mdurl, MarkupSafe, joblib, jiter, itsdangerous, idna, h11, filelock, executing, et_xmlfile, emoji, distro, decorator, debugpy, comtypes, colorama, chatterbot-corpus, charset-normalizer, certifi, blinker, asttokens, asgiref, art, annotated-types, Werkzeug, virtualenv, tqdm, stack-data, SpeechRecognition, requests, pyttsx3, python-dateutil, pydantic_core, openpyxl, matplotlib-inline, markdown-it-py, jupyter_core, Jinja2, jedi, httpcore, Django, comm, click, cffi, anyio, sounddevice, rich, pydantic, pandas, nltk, jupyter_client, ipython, httpx, gTTS, Flask, textblob, openai, ipykernel\n"
     ]
    },
    {
     "name": "stderr",
     "output_type": "stream",
     "text": [
      "ERROR: Could not install packages due to an OSError: [WinError 5] Access is denied: 'c:\\\\Users\\\\DELL\\\\Desktop\\\\Python\\\\#15_Day_of_Python\\\\#Day-13\\\\new_env\\\\Lib\\\\site-packages\\\\openai-1.58.1.dist-info\\\\RECORDbcp9y5so.tmp' -> 'c:\\\\Users\\\\DELL\\\\Desktop\\\\Python\\\\#15_Day_of_Python\\\\#Day-13\\\\new_env\\\\Lib\\\\site-packages\\\\openai-1.58.1.dist-info\\\\RECORD'\n",
      "Check the permissions.\n",
      "\n"
     ]
    }
   ],
   "source": [
    "# Run pip freeze for the system interpreter and save the contents to a requirements file\n",
    "!pip freeze > system_requirements.txt\n",
    "\n",
    "# Create a new virtual environment\n",
    "!python -m venv new_env\n",
    "\n",
    "# Activate the new virtual environment and install packages from the requirements file\n",
    "!new_env\\Scripts\\activate && pip install -r system_requirements.txt"
   ]
  },
  {
   "cell_type": "markdown",
   "metadata": {},
   "source": [
    "7. Explore the ‘Flask’ module and create a web server using Flask & Python"
   ]
  },
  {
   "cell_type": "code",
   "execution_count": 9,
   "metadata": {},
   "outputs": [
    {
     "name": "stdout",
     "output_type": "stream",
     "text": [
      " * Serving Flask app '__main__'\n",
      " * Debug mode: off\n"
     ]
    },
    {
     "name": "stderr",
     "output_type": "stream",
     "text": [
      "WARNING: This is a development server. Do not use it in a production deployment. Use a production WSGI server instead.\n",
      " * Running on http://127.0.0.1:5000\n",
      "Press CTRL+C to quit\n",
      "127.0.0.1 - - [10/Jan/2025 15:51:58] \"GET / HTTP/1.1\" 200 -\n",
      "127.0.0.1 - - [10/Jan/2025 15:51:58] \"GET /favicon.ico HTTP/1.1\" 404 -\n"
     ]
    }
   ],
   "source": [
    "from flask import Flask\n",
    "\n",
    "app = Flask(__name__)\n",
    "\n",
    "@app.route(\"/\")\n",
    "def hello_world():\n",
    "    return \"<p>Hello, World!</p>\"\n",
    "\n",
    "app.run()"
   ]
  }
 ],
 "metadata": {
  "kernelspec": {
   "display_name": "Python 3",
   "language": "python",
   "name": "python3"
  },
  "language_info": {
   "codemirror_mode": {
    "name": "ipython",
    "version": 3
   },
   "file_extension": ".py",
   "mimetype": "text/x-python",
   "name": "python",
   "nbconvert_exporter": "python",
   "pygments_lexer": "ipython3",
   "version": "3.12.8"
  }
 },
 "nbformat": 4,
 "nbformat_minor": 2
}
