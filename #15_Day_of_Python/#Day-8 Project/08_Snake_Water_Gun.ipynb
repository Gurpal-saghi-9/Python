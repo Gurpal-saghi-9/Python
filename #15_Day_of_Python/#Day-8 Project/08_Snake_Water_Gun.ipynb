{
 "cells": [
  {
   "cell_type": "markdown",
   "metadata": {},
   "source": [
    "# *** PROJECT 1: SNAKE, WATER, GUN GAME ***\n",
    "---\n",
    "\n",
    "We all have played snake, water gun game in our childhood. If you haven’t, google the rules of this game and write a python program capable of playing this game with the user"
   ]
  },
  {
   "cell_type": "markdown",
   "metadata": {},
   "source": [
    "1 for snake\n",
    "-1 for water\n",
    "0 for gun"
   ]
  },
  {
   "cell_type": "code",
   "execution_count": null,
   "metadata": {},
   "outputs": [],
   "source": [
    "%pip install random"
   ]
  },
  {
   "cell_type": "code",
   "execution_count": 2,
   "metadata": {},
   "outputs": [
    {
     "name": "stdout",
     "output_type": "stream",
     "text": [
      "You choose Snake and computer choose Snake \n",
      "It's a draw\n"
     ]
    }
   ],
   "source": [
    "import random\n",
    "\n",
    "computer = random.choice([-1, 0, 1])\n",
    "\n",
    "youstr = input(\"Enter your choice: \")\n",
    "\n",
    "youDict = {\"s\" : 1, \"w\" : -1, \"g\" : 0}\n",
    "reverseDict = {1 : \"Snake\", -1 : \"Water\", 0 : \"Gun\"}\n",
    "\n",
    "you = youDict[youstr]\n",
    "\n",
    "print(f\"You choose {reverseDict[you]} and computer choose {reverseDict[computer]} \")\n",
    "\n",
    "if computer == you:\n",
    "    print(\"It's a draw\")\n",
    "\n",
    "else:\n",
    "    if computer == -1 and you == 1:\n",
    "        print(\"You win!\")\n",
    "\n",
    "    elif computer == -1 and you == 0:\n",
    "        print(\"You Lose!\")\n",
    "\n",
    "    elif computer == 1 and you == -1:\n",
    "        print(\"You Lose!\")\n",
    "\n",
    "    elif computer == 1 and you == 0:\n",
    "        print(\"You Win!\")\n",
    "\n",
    "    elif computer == 0 and you == -1:\n",
    "        print(\"You Win!\")\n",
    "\n",
    "    elif computer == 0 and you == 1:\n",
    "        print(\"You Lose!\")\n",
    "\n",
    "    else:\n",
    "        print(\"Something went wrong!\")\n"
   ]
  }
 ],
 "metadata": {
  "kernelspec": {
   "display_name": "Python 3",
   "language": "python",
   "name": "python3"
  },
  "language_info": {
   "codemirror_mode": {
    "name": "ipython",
    "version": 3
   },
   "file_extension": ".py",
   "mimetype": "text/x-python",
   "name": "python",
   "nbconvert_exporter": "python",
   "pygments_lexer": "ipython3",
   "version": "3.12.8"
  }
 },
 "nbformat": 4,
 "nbformat_minor": 2
}
