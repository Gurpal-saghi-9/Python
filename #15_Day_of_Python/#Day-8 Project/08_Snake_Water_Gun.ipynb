{
 "cells": [
  {
   "cell_type": "markdown",
   "metadata": {},
   "source": [
    "# *** PROJECT 1: SNAKE, WATER, GUN GAME ***\n",
    "---\n",
    "\n",
    "We all have played snake, water gun game in our childhood. If you haven’t, google the rules of this game and write a python program capable of playing this game with the user"
   ]
  },
  {
   "cell_type": "markdown",
   "metadata": {},
   "source": [
    "1 for snake\n",
    "-1 for water\n",
    "0 for gun"
   ]
  },
  {
   "cell_type": "code",
   "execution_count": 1,
   "metadata": {},
   "outputs": [
    {
     "name": "stdout",
     "output_type": "stream",
     "text": [
      "Defaulting to user installation because normal site-packages is not writeable\n",
      "Note: you may need to restart the kernel to use updated packages.\n"
     ]
    },
    {
     "name": "stderr",
     "output_type": "stream",
     "text": [
      "ERROR: Could not find a version that satisfies the requirement random (from versions: none)\n",
      "ERROR: No matching distribution found for random\n"
     ]
    }
   ],
   "source": [
    "%pip install random"
   ]
  },
  {
   "cell_type": "code",
   "execution_count": 2,
   "metadata": {},
   "outputs": [
    {
     "name": "stdout",
     "output_type": "stream",
     "text": [
      "You chose Snake and the computer chose Gun.\n",
      "You Lose!\n"
     ]
    }
   ],
   "source": [
    "import random\n",
    "\n",
    "# The computer randomly chooses between -1, 0, and 1. These represent Water, Gun, and Snake respectively.\n",
    "computer = random.choice([-1, 0, 1])\n",
    "\n",
    "# The user enters their choice as a string: 's' for Snake, 'w' for Water, or 'g' for Gun.\n",
    "youstr = input(\"Enter your choice (s for Snake, w for Water, g for Gun): \")\n",
    "\n",
    "# Dictionary to map user input to the corresponding game value.\n",
    "youDict = {\"s\": 1, \"w\": -1, \"g\": 0}\n",
    "# Reverse dictionary to map game values back to their names for display purposes.\n",
    "reverseDict = {1: \"Snake\", -1: \"Water\", 0: \"Gun\"}\n",
    "\n",
    "# Convert the user's input into the corresponding game value using youDict.\n",
    "you = youDict[youstr]\n",
    "\n",
    "# Display the choices made by the user and the computer.\n",
    "print(f\"You chose {reverseDict[you]} and the computer chose {reverseDict[computer]}.\")\n",
    "\n",
    "# Check for a draw situation where both make the same choice.\n",
    "if computer == you:\n",
    "    print(\"It's a draw\")\n",
    "\n",
    "else:\n",
    "    # Implement the game logic to decide the winner.\n",
    "    if computer == -1 and you == 1:\n",
    "        # If the computer chooses Water (-1) and you choose Snake (1), you win.\n",
    "        print(\"You win!\")\n",
    "\n",
    "    elif computer == -1 and you == 0:\n",
    "        # If the computer chooses Water (-1) and you choose Gun (0), you lose.\n",
    "        print(\"You Lose!\")\n",
    "\n",
    "    elif computer == 1 and you == -1:\n",
    "        # If the computer chooses Snake (1) and you choose Water (-1), you lose.\n",
    "        print(\"You Lose!\")\n",
    "\n",
    "    elif computer == 1 and you == 0:\n",
    "        # If the computer chooses Snake (1) and you choose Gun (0), you win.\n",
    "        print(\"You Win!\")\n",
    "\n",
    "    elif computer == 0 and you == -1:\n",
    "        # If the computer chooses Gun (0) and you choose Water (-1), you win.\n",
    "        print(\"You Win!\")\n",
    "\n",
    "    elif computer == 0 and you == 1:\n",
    "        # If the computer chooses Gun (0) and you choose Snake (1), you lose.\n",
    "        print(\"You Lose!\")\n",
    "\n",
    "    else:\n",
    "        # If no valid game condition matches, something unexpected occurred.\n",
    "        print(\"Something went wrong!\")\n"
   ]
  }
 ],
 "metadata": {
  "kernelspec": {
   "display_name": "Python 3",
   "language": "python",
   "name": "python3"
  },
  "language_info": {
   "codemirror_mode": {
    "name": "ipython",
    "version": 3
   },
   "file_extension": ".py",
   "mimetype": "text/x-python",
   "name": "python",
   "nbconvert_exporter": "python",
   "pygments_lexer": "ipython3",
   "version": "3.12.8"
  }
 },
 "nbformat": 4,
 "nbformat_minor": 2
}
