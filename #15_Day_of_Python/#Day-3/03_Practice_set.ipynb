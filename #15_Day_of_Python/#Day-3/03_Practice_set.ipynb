{
 "cells": [
  {
   "cell_type": "markdown",
   "metadata": {},
   "source": [
    "# *** CHAPTER 2 – PRACTICE SET ***\n",
    "---"
   ]
  },
  {
   "cell_type": "markdown",
   "metadata": {},
   "source": [
    "### 1. Write a python program to display a user entered name followed by Good Afternoon using input () function."
   ]
  },
  {
   "cell_type": "code",
   "execution_count": 2,
   "metadata": {},
   "outputs": [
    {
     "name": "stdout",
     "output_type": "stream",
     "text": [
      "Good Afternoon Gurpal singh\n"
     ]
    }
   ],
   "source": [
    "name = input()\n",
    "\n",
    "print(f\"Good Afternoon {name}\")"
   ]
  },
  {
   "cell_type": "markdown",
   "metadata": {},
   "source": [
    "### 2. Write a program to fill in a letter template given below with name and date.\n",
    "letter = ''' \n",
    "        Dear <|Name|>,\n",
    "        You are selected!\n",
    "        <|Date|>\n",
    "        '''"
   ]
  },
  {
   "cell_type": "code",
   "execution_count": 3,
   "metadata": {},
   "outputs": [
    {
     "name": "stdout",
     "output_type": "stream",
     "text": [
      "Dear Harry, \n",
      "You are selected! \n",
      "29 December 2025> \n"
     ]
    }
   ],
   "source": [
    "letter = '''Dear <|Name|>, \n",
    "You are selected! \n",
    "<|Date|> '''\n",
    "\n",
    "print(letter.replace(\"<|Name|>\", \"Guru\").replace(\"<|Date|\", \"29 December 2025\"))"
   ]
  },
  {
   "cell_type": "markdown",
   "metadata": {},
   "source": [
    "### 3. Write a program to detect double space in a string."
   ]
  },
  {
   "cell_type": "code",
   "execution_count": 4,
   "metadata": {},
   "outputs": [
    {
     "name": "stdout",
     "output_type": "stream",
     "text": [
      "15\n"
     ]
    }
   ],
   "source": [
    "name = \"Guru is a good  boy and  \"\n",
    "\n",
    "print(name.find(\"  \"))"
   ]
  },
  {
   "cell_type": "markdown",
   "metadata": {},
   "source": [
    "### 4. Replace the double space from problem 3 with single spaces."
   ]
  },
  {
   "cell_type": "code",
   "execution_count": 6,
   "metadata": {},
   "outputs": [
    {
     "name": "stdout",
     "output_type": "stream",
     "text": [
      "Guru is a good boy and \n",
      "Guru is a good  boy and  \n"
     ]
    }
   ],
   "source": [
    "name = \"Guru is a good  boy and  \"\n",
    "\n",
    "print(name.replace(\"  \", \" \"))\n",
    "print(name) # Strings are immutable which means that you cannot change them by running functions on them"
   ]
  },
  {
   "cell_type": "markdown",
   "metadata": {},
   "source": [
    "### 5. Write a program to format the following letter using escape sequence characters.\n",
    "letter = \"Dear Harry, this python course is nice. Thanks!\""
   ]
  },
  {
   "cell_type": "code",
   "execution_count": 8,
   "metadata": {},
   "outputs": [
    {
     "name": "stdout",
     "output_type": "stream",
     "text": [
      "Dear Gurpal singh,\n",
      "\tThis python course is nice.\n",
      "Thanks!\n"
     ]
    }
   ],
   "source": [
    "letter = \"Dear Gurpal singh,\\n\\tThis python course is nice.\\nThanks!\"\n",
    "\n",
    "print(letter)"
   ]
  }
 ],
 "metadata": {
  "kernelspec": {
   "display_name": "Python 3",
   "language": "python",
   "name": "python3"
  },
  "language_info": {
   "codemirror_mode": {
    "name": "ipython",
    "version": 3
   },
   "file_extension": ".py",
   "mimetype": "text/x-python",
   "name": "python",
   "nbconvert_exporter": "python",
   "pygments_lexer": "ipython3",
   "version": "3.12.8"
  }
 },
 "nbformat": 4,
 "nbformat_minor": 2
}
