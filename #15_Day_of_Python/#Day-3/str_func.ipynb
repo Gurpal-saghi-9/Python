{
 "cells": [
  {
   "cell_type": "markdown",
   "metadata": {},
   "source": [
    "# *** STRING FUNCTIONS ***\n",
    "---\n",
    "Some of the commonly used functions to perform operations on or manipulate strings are as follows. Let us assume there is a string ‘str’ as follows:\n",
    "                    str = 'harry'\n"
   ]
  },
  {
   "cell_type": "markdown",
   "metadata": {},
   "source": [
    "Now when operated on this string ‘str’, these functions do the following:"
   ]
  },
  {
   "cell_type": "markdown",
   "metadata": {},
   "source": [
    "### 1. len () function –  This function returns the length of the strings"
   ]
  },
  {
   "cell_type": "code",
   "execution_count": 1,
   "metadata": {},
   "outputs": [
    {
     "name": "stdout",
     "output_type": "stream",
     "text": [
      "18\n"
     ]
    }
   ],
   "source": [
    "str = \"This is the string\"\n",
    "\n",
    "print(len(str)) # ==> 18"
   ]
  },
  {
   "cell_type": "markdown",
   "metadata": {},
   "source": [
    "### 2. String.endswith(\"pal\") – This function_ tells whether the variable string ends withthe string \"pal\" or not. If string is \"Gurpal\", it returns true for \"pal\" since Gurpal ends with pal."
   ]
  },
  {
   "cell_type": "code",
   "execution_count": 8,
   "metadata": {},
   "outputs": [
    {
     "name": "stdout",
     "output_type": "stream",
     "text": [
      "True\n",
      "False\n"
     ]
    }
   ],
   "source": [
    "name = \"Gurpal\"\n",
    "print(name.endswith(\"pal\")) # ==> True\n",
    "\n",
    "print(name.endswith(\"lkm\")) # == False"
   ]
  },
  {
   "cell_type": "markdown",
   "metadata": {},
   "source": [
    "### 3. String.startswith(\"gu\") – This function_ tells whether the variable string starts with the string \"gu\" or not. If string is \"guru\", it returns true for \"gu\" since guru starts with gu."
   ]
  },
  {
   "cell_type": "code",
   "execution_count": 6,
   "metadata": {},
   "outputs": [
    {
     "name": "stdout",
     "output_type": "stream",
     "text": [
      "True\n",
      "False\n"
     ]
    }
   ],
   "source": [
    "name = \"guru\"\n",
    "\n",
    "print(name.startswith(\"gu\")) # ==> True\n",
    "\n",
    "print(name.startswith(\"ug\")) # ==> False"
   ]
  },
  {
   "cell_type": "markdown",
   "metadata": {},
   "source": [
    "### 4. string.count(\"c\") – counts the total number of occurrences of any character"
   ]
  },
  {
   "cell_type": "code",
   "execution_count": 4,
   "metadata": {},
   "outputs": [
    {
     "name": "stdout",
     "output_type": "stream",
     "text": [
      "2\n",
      "1\n",
      "0\n"
     ]
    }
   ],
   "source": [
    "name = \"guru\"\n",
    "\n",
    "print(name.count(\"u\")) # ==> 2\n",
    "\n",
    "print(name.count(\"g\")) # ==> 1\n",
    "print(name.count(\"l\")) # ==> 0"
   ]
  },
  {
   "cell_type": "markdown",
   "metadata": {},
   "source": [
    "### 5. string.capitalize() - the first character of a given string is capitalized"
   ]
  },
  {
   "cell_type": "code",
   "execution_count": 9,
   "metadata": {},
   "outputs": [
    {
     "name": "stdout",
     "output_type": "stream",
     "text": [
      "Guru\n"
     ]
    }
   ],
   "source": [
    "name = \"guru\"\n",
    "print(name.capitalize()) #Guru"
   ]
  },
  {
   "cell_type": "markdown",
   "metadata": {},
   "source": [
    "### 6. string.title() - the first character of each word of strings is capitalized"
   ]
  },
  {
   "cell_type": "code",
   "execution_count": 28,
   "metadata": {},
   "outputs": [
    {
     "name": "stdout",
     "output_type": "stream",
     "text": [
      "My Name Is Gurpal Singh\n"
     ]
    }
   ],
   "source": [
    "line = \"my name is gurpal singh\"\n",
    "\n",
    "print(line.title())"
   ]
  },
  {
   "cell_type": "markdown",
   "metadata": {},
   "source": [
    "### 6. string.upper() - the all character of a given string coverts to uppercase"
   ]
  },
  {
   "cell_type": "code",
   "execution_count": 15,
   "metadata": {},
   "outputs": [
    {
     "name": "stdout",
     "output_type": "stream",
     "text": [
      "GURPAL SINGH\n"
     ]
    }
   ],
   "source": [
    "name =\"GuRpAl SiNgH\"\n",
    "\n",
    "print(name.upper())"
   ]
  },
  {
   "cell_type": "markdown",
   "metadata": {},
   "source": [
    "### 7. string.lower() - the all character of a given string coverts to lowercase"
   ]
  },
  {
   "cell_type": "code",
   "execution_count": 14,
   "metadata": {},
   "outputs": [
    {
     "name": "stdout",
     "output_type": "stream",
     "text": [
      "gurpal singh\n"
     ]
    }
   ],
   "source": [
    "name =\"GuRpAl SiNgH\"\n",
    "\n",
    "print(name.lower())"
   ]
  },
  {
   "cell_type": "markdown",
   "metadata": {},
   "source": [
    "### 8. string strip() - Removes leading and trailing whitespace (or specified characters)."
   ]
  },
  {
   "cell_type": "code",
   "execution_count": 19,
   "metadata": {},
   "outputs": [
    {
     "name": "stdout",
     "output_type": "stream",
     "text": [
      "Gurpal\n",
      "Gurpal  \n",
      "  Gurpal\n"
     ]
    }
   ],
   "source": [
    "name = \"  Gurpal  \"\n",
    "\n",
    "print(name.strip())\n",
    "print(name.lstrip())\n",
    "print(name.rstrip())"
   ]
  },
  {
   "cell_type": "markdown",
   "metadata": {},
   "source": [
    "### 9. string.replace (old word, new word ) – This function replace the old word with new word in the entire string."
   ]
  },
  {
   "cell_type": "code",
   "execution_count": 22,
   "metadata": {},
   "outputs": [
    {
     "name": "stdout",
     "output_type": "stream",
     "text": [
      "Good Evening , Gurpal\n"
     ]
    }
   ],
   "source": [
    "Greet =\"Good Morning\"\n",
    "\n",
    "print(Greet.replace(\"Morning\",\"Evening\"),\", Gurpal\")"
   ]
  },
  {
   "cell_type": "markdown",
   "metadata": {},
   "source": [
    "### 10. string.find(word) – This function finds a word and returns the index of first occurrence of that word in the string."
   ]
  },
  {
   "cell_type": "code",
   "execution_count": 26,
   "metadata": {},
   "outputs": [
    {
     "name": "stdout",
     "output_type": "stream",
     "text": [
      "6\n",
      "-1\n"
     ]
    }
   ],
   "source": [
    "s = \"Hello World\"\n",
    "\n",
    "print(s.find(\"World\"))  # Output: 6\n",
    "\n",
    "print(s.find(\"world\"))  # Output: -1"
   ]
  },
  {
   "cell_type": "markdown",
   "metadata": {},
   "source": [
    "### 11. string.join() – This function Joins a list of strings into a single string with a specified separator."
   ]
  },
  {
   "cell_type": "code",
   "execution_count": 30,
   "metadata": {},
   "outputs": [
    {
     "name": "stdout",
     "output_type": "stream",
     "text": [
      "a,b,c,1,2,3\n"
     ]
    }
   ],
   "source": [
    "lst = [\"a\", \"b\", \"c\"]\n",
    "lst2 =[\"1\",\"2\",\"3\"]\n",
    "\n",
    "print(\",\".join(lst + lst2))  # Output: a,b,c,1,2,3"
   ]
  }
 ],
 "metadata": {
  "kernelspec": {
   "display_name": "Python 3",
   "language": "python",
   "name": "python3"
  },
  "language_info": {
   "codemirror_mode": {
    "name": "ipython",
    "version": 3
   },
   "file_extension": ".py",
   "mimetype": "text/x-python",
   "name": "python",
   "nbconvert_exporter": "python",
   "pygments_lexer": "ipython3",
   "version": "3.12.8"
  }
 },
 "nbformat": 4,
 "nbformat_minor": 2
}
