{
 "cells": [
  {
   "cell_type": "markdown",
   "metadata": {},
   "source": [
    "# *** STRING FUNCTIONS ***\n",
    "---\n",
    "Some of the commonly used functions to perform operations on or manipulate strings are as follows. Let us assume there is a string ‘str’ as follows:\n",
    "                    str = 'harry'\n"
   ]
  },
  {
   "cell_type": "markdown",
   "metadata": {},
   "source": [
    "Now when operated on this string ‘str’, these functions do the following:"
   ]
  },
  {
   "cell_type": "markdown",
   "metadata": {},
   "source": [
    "1. ***len () function – *** This function returns the length of the strings"
   ]
  },
  {
   "cell_type": "markdown",
   "metadata": {},
   "source": [
    "2. String.endswith(\"rry\") – This function_ tells whether the variable string ends withthe string \"rry\" or not. If string is \"harry\", it returns true for \"rry\" since Harry ends with rry."
   ]
  },
  {
   "cell_type": "markdown",
   "metadata": {},
   "source": [
    "3. string.count(\"c\") – counts the total number of occurrences of any character"
   ]
  },
  {
   "cell_type": "markdown",
   "metadata": {},
   "source": [
    "4. the first character of a given string"
   ]
  },
  {
   "cell_type": "markdown",
   "metadata": {},
   "source": [
    "5. string.find(word) – This function friends a word and returns the index of first occurrence of that word in the string."
   ]
  },
  {
   "cell_type": "markdown",
   "metadata": {},
   "source": [
    "6. string.replace (old word, new word ) – This function replace the old word with new word in the entire string."
   ]
  }
 ],
 "metadata": {
  "language_info": {
   "name": "python"
  }
 },
 "nbformat": 4,
 "nbformat_minor": 2
}
