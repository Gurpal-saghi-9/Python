{
 "cells": [
  {
   "cell_type": "markdown",
   "metadata": {},
   "source": [
    "# *** STRING FUNCTIONS ***\n",
    "---\n",
    "Some of the commonly used functions to perform operations on or manipulate strings are as follows. Let us assume there is a string ‘str’ as follows:\n",
    "                    str = 'harry'\n"
   ]
  },
  {
   "cell_type": "markdown",
   "metadata": {},
   "source": [
    "Now when operated on this string ‘str’, these functions do the following:"
   ]
  },
  {
   "cell_type": "markdown",
   "metadata": {},
   "source": [
    "### 1. len () function –  This function returns the length of the strings"
   ]
  },
  {
   "cell_type": "code",
   "execution_count": 1,
   "metadata": {},
   "outputs": [
    {
     "name": "stdout",
     "output_type": "stream",
     "text": [
      "18\n"
     ]
    }
   ],
   "source": [
    "str = \"This is the string\"\n",
    "\n",
    "print(len(str)) # ==> 18"
   ]
  },
  {
   "cell_type": "markdown",
   "metadata": {},
   "source": [
    "### 2. String.endswith(\"pal\") – This function_ tells whether the variable string ends withthe string \"pal\" or not. If string is \"Gurpal\", it returns true for \"pal\" since Gurpal ends with pal."
   ]
  },
  {
   "cell_type": "code",
   "execution_count": 2,
   "metadata": {},
   "outputs": [
    {
     "name": "stdout",
     "output_type": "stream",
     "text": [
      "True\n",
      "False\n"
     ]
    }
   ],
   "source": [
    "name = \"Gurpal\"\n",
    "print(name.endswith(\"pal\")) # ==> True\n",
    "\n",
    "print(name.endswith(\"lkm\")) # == False"
   ]
  },
  {
   "cell_type": "markdown",
   "metadata": {},
   "source": [
    "### 3. String.startswith(\"gu\") – This function_ tells whether the variable string starts with the string \"gu\" or not. If string is \"guru\", it returns true for \"gu\" since guru starts with gu."
   ]
  },
  {
   "cell_type": "code",
   "execution_count": 3,
   "metadata": {},
   "outputs": [
    {
     "name": "stdout",
     "output_type": "stream",
     "text": [
      "True\n",
      "False\n"
     ]
    }
   ],
   "source": [
    "name = \"guru\"\n",
    "\n",
    "print(name.startswith(\"gu\")) # ==> True\n",
    "\n",
    "print(name.startswith(\"ug\")) # ==> False"
   ]
  },
  {
   "cell_type": "markdown",
   "metadata": {},
   "source": [
    "### 4. string.count(\"c\") – counts the total number of occurrences of any character"
   ]
  },
  {
   "cell_type": "code",
   "execution_count": 4,
   "metadata": {},
   "outputs": [
    {
     "name": "stdout",
     "output_type": "stream",
     "text": [
      "2\n",
      "1\n",
      "0\n"
     ]
    }
   ],
   "source": [
    "name = \"guru\"\n",
    "\n",
    "print(name.count(\"u\")) # ==> 2\n",
    "\n",
    "print(name.count(\"g\")) # ==> 1\n",
    "print(name.count(\"l\")) # ==> 0"
   ]
  },
  {
   "cell_type": "markdown",
   "metadata": {},
   "source": [
    "### 5. string.capitalize() - the first character of a given string is capitalized"
   ]
  },
  {
   "cell_type": "code",
   "execution_count": 5,
   "metadata": {},
   "outputs": [
    {
     "name": "stdout",
     "output_type": "stream",
     "text": [
      "Guru\n"
     ]
    }
   ],
   "source": [
    "name = \"guru\"\n",
    "print(name.capitalize()) #Guru"
   ]
  },
  {
   "cell_type": "markdown",
   "metadata": {},
   "source": [
    "### 6. string.title() - the first character of each word of strings is capitalized"
   ]
  },
  {
   "cell_type": "code",
   "execution_count": 6,
   "metadata": {},
   "outputs": [
    {
     "name": "stdout",
     "output_type": "stream",
     "text": [
      "My Name Is Gurpal Singh\n"
     ]
    }
   ],
   "source": [
    "line = \"my name is gurpal singh\"\n",
    "\n",
    "print(line.title())"
   ]
  },
  {
   "cell_type": "markdown",
   "metadata": {},
   "source": [
    "### 7. string.upper() - the all character of a given string coverts to uppercase"
   ]
  },
  {
   "cell_type": "code",
   "execution_count": 7,
   "metadata": {},
   "outputs": [
    {
     "name": "stdout",
     "output_type": "stream",
     "text": [
      "GURPAL SINGH\n"
     ]
    }
   ],
   "source": [
    "name =\"GuRpAl SiNgH\"\n",
    "\n",
    "print(name.upper())"
   ]
  },
  {
   "cell_type": "markdown",
   "metadata": {},
   "source": [
    "### 8. string.lower() - the all character of a given string coverts to lowercase"
   ]
  },
  {
   "cell_type": "code",
   "execution_count": 8,
   "metadata": {},
   "outputs": [
    {
     "name": "stdout",
     "output_type": "stream",
     "text": [
      "gurpal singh\n"
     ]
    }
   ],
   "source": [
    "name =\"GuRpAl SiNgH\"\n",
    "\n",
    "print(name.lower())"
   ]
  },
  {
   "cell_type": "markdown",
   "metadata": {},
   "source": [
    "### 9. string strip() - Removes leading and trailing whitespace (or specified characters)."
   ]
  },
  {
   "cell_type": "code",
   "execution_count": 9,
   "metadata": {},
   "outputs": [
    {
     "name": "stdout",
     "output_type": "stream",
     "text": [
      "Gurpal\n",
      "Gurpal  \n",
      "  Gurpal\n"
     ]
    }
   ],
   "source": [
    "name = \"  Gurpal  \"\n",
    "\n",
    "print(name.strip())\n",
    "print(name.lstrip())\n",
    "print(name.rstrip())"
   ]
  },
  {
   "cell_type": "markdown",
   "metadata": {},
   "source": [
    "### 10. string.replace (old word, new word ) – This function replace the old word with new word in the entire string."
   ]
  },
  {
   "cell_type": "code",
   "execution_count": 10,
   "metadata": {},
   "outputs": [
    {
     "name": "stdout",
     "output_type": "stream",
     "text": [
      "Good Evening, Sir. My Evening is very good ......\n"
     ]
    }
   ],
   "source": [
    "Greet =\"Good Morning, Sir. My Morning is very good ......\"\n",
    "\n",
    "\n",
    "print(Greet.replace(\"Morning\",\"Evening\"))"
   ]
  },
  {
   "cell_type": "markdown",
   "metadata": {},
   "source": [
    "### 11. string.find(word) – This function finds a word and returns the index of first occurrence of that word in the string."
   ]
  },
  {
   "cell_type": "code",
   "execution_count": 11,
   "metadata": {},
   "outputs": [
    {
     "name": "stdout",
     "output_type": "stream",
     "text": [
      "6\n",
      "-1\n"
     ]
    }
   ],
   "source": [
    "s = \"Hello World\"\n",
    "\n",
    "print(s.find(\"World\"))  # Output: 6\n",
    "\n",
    "print(s.find(\"world\"))  # Output: -1"
   ]
  },
  {
   "cell_type": "markdown",
   "metadata": {},
   "source": [
    "### 12. string.join() – This function Joins a list of strings into a single string with a specified separator."
   ]
  },
  {
   "cell_type": "code",
   "execution_count": 12,
   "metadata": {},
   "outputs": [
    {
     "name": "stdout",
     "output_type": "stream",
     "text": [
      "a,b,c,1,2,3\n"
     ]
    }
   ],
   "source": [
    "lst = [\"a\", \"b\", \"c\"]\n",
    "lst2 =[\"1\",\"2\",\"3\"]\n",
    "\n",
    "print(\",\".join(lst + lst2))  # Output: a,b,c,1,2,3"
   ]
  },
  {
   "cell_type": "markdown",
   "metadata": {},
   "source": [
    "### 13. string.split() – This function Splits a string into a list of substrings based on a delimiter."
   ]
  },
  {
   "cell_type": "code",
   "execution_count": 13,
   "metadata": {},
   "outputs": [
    {
     "name": "stdout",
     "output_type": "stream",
     "text": [
      "['a', 'b', 'c']\n"
     ]
    }
   ],
   "source": [
    "s = \"a,b,c\"\n",
    "\n",
    "print(s.split(\",\"))  # Output: ['a', 'b', 'c']"
   ]
  },
  {
   "cell_type": "markdown",
   "metadata": {},
   "source": [
    "### 14. string.isalnum() – This function Returns True if the string contains only alphanumeric characters."
   ]
  },
  {
   "cell_type": "code",
   "execution_count": 14,
   "metadata": {},
   "outputs": [
    {
     "name": "stdout",
     "output_type": "stream",
     "text": [
      "True\n",
      "True\n",
      "True\n",
      "False\n",
      "False\n",
      "False\n"
     ]
    }
   ],
   "source": [
    "q = \"Hello123\"\n",
    "r = \"1234\"\n",
    "s = \"hell0\"\n",
    "t = \"heelo@123\"\n",
    "u = \"heelo 123\"\n",
    "v = \"heelo_123\"\n",
    "\n",
    "print(q.isalnum()) \n",
    "print(r.isalnum())\n",
    "print(s.isalnum())\n",
    "print(t.isalnum())\n",
    "print(u.isalnum())\n",
    "print(v.isalnum())"
   ]
  },
  {
   "cell_type": "markdown",
   "metadata": {},
   "source": [
    "### 15. string.isalpha() – This function Returns True if the string contains only alphabetic characters."
   ]
  },
  {
   "cell_type": "code",
   "execution_count": 15,
   "metadata": {},
   "outputs": [
    {
     "name": "stdout",
     "output_type": "stream",
     "text": [
      "True\n",
      "False\n",
      "False\n"
     ]
    }
   ],
   "source": [
    "Greet1 = \"Hello\"\n",
    "Greet2 = \"Hello Guru\"\n",
    "Greet3 = \"hello123\"\n",
    "\n",
    "print(Greet1.isalpha())  # Output: True\n",
    "print(Greet2.isalpha())  # Output: False because it contain space\n",
    "print(Greet3.isalpha())  # Output: False because it contain number"
   ]
  },
  {
   "cell_type": "markdown",
   "metadata": {},
   "source": [
    "### 16. string.isdigit() – This function Returns True if the string contains only digits."
   ]
  },
  {
   "cell_type": "code",
   "execution_count": 16,
   "metadata": {},
   "outputs": [
    {
     "name": "stdout",
     "output_type": "stream",
     "text": [
      "True\n",
      "False\n",
      "False\n"
     ]
    }
   ],
   "source": [
    "s1 = \"123\"\n",
    "s2 = \"123 456\"\n",
    "s3 = \"123hello\"\n",
    "\n",
    "print(s1.isdigit())  # Output: True\n",
    "print(s2.isdigit())  # Output: False because it contain space\n",
    "print(s3.isdigit())  # Output: False because it contain alphabet"
   ]
  },
  {
   "cell_type": "markdown",
   "metadata": {},
   "source": [
    "### 17. string.islower() – This function Checks if all characters in the string are lowercase."
   ]
  },
  {
   "cell_type": "code",
   "execution_count": 17,
   "metadata": {},
   "outputs": [
    {
     "name": "stdout",
     "output_type": "stream",
     "text": [
      "True\n",
      "False\n"
     ]
    }
   ],
   "source": [
    "greet1 = \"hello\"\n",
    "greet2 = \"Hello\"\n",
    "\n",
    "print(greet1.islower())  # Output: True\n",
    "print(greet2.islower())  # Output: False because it contain uppercase word "
   ]
  },
  {
   "cell_type": "markdown",
   "metadata": {},
   "source": [
    "### 18. string.isupper() – This function Checks if all characters in the string are uppercase."
   ]
  },
  {
   "cell_type": "code",
   "execution_count": 18,
   "metadata": {},
   "outputs": [
    {
     "name": "stdout",
     "output_type": "stream",
     "text": [
      "True\n",
      "False\n"
     ]
    }
   ],
   "source": [
    "greet1 = \"HELLO\"\n",
    "greet2 = \"Hello\"\n",
    "\n",
    "print(greet1.isupper())  # Output: True\n",
    "print(greet2.isupper())  # Output: False because it contain lowercase word "
   ]
  },
  {
   "cell_type": "markdown",
   "metadata": {},
   "source": [
    "### 19. string.zfill() – This function Pads the string with zeros on the left to fill the specified width."
   ]
  },
  {
   "cell_type": "code",
   "execution_count": 19,
   "metadata": {},
   "outputs": [
    {
     "name": "stdout",
     "output_type": "stream",
     "text": [
      "042\n",
      "00042\n",
      "0000000042\n"
     ]
    }
   ],
   "source": [
    "s = \"42\"\n",
    "print(s.zfill(3))  # Output: 042\n",
    "print(s.zfill(5))  # Output: 00042\n",
    "print(s.zfill(10))  # Output: 0000000042"
   ]
  },
  {
   "cell_type": "markdown",
   "metadata": {},
   "source": [
    "### 20. string.format() – This function Formats strings using placeholders."
   ]
  },
  {
   "cell_type": "code",
   "execution_count": 20,
   "metadata": {},
   "outputs": [
    {
     "name": "stdout",
     "output_type": "stream",
     "text": [
      "My name is Guru and I am 19 years old.\n"
     ]
    }
   ],
   "source": [
    "name = \"Guru\"\n",
    "age = 19\n",
    "\n",
    "print(\"My name is {} and I am {} years old.\".format(name, age))\n",
    "# Output: My name is John and I am 30 years old."
   ]
  },
  {
   "cell_type": "markdown",
   "metadata": {},
   "source": [
    "### 21. string.center() – This function Centers the string, padding it with a specified character (default is space)."
   ]
  },
  {
   "cell_type": "code",
   "execution_count": 21,
   "metadata": {},
   "outputs": [
    {
     "name": "stdout",
     "output_type": "stream",
     "text": [
      "--------Hello guru-------\n"
     ]
    }
   ],
   "source": [
    "s = \"Hello guru\"\n",
    "\n",
    "print(s.center(25, \"-\"))  "
   ]
  },
  {
   "cell_type": "markdown",
   "metadata": {},
   "source": [
    "### 22. string.isspace() – This function Returns True if the string contains only whitespace characters."
   ]
  },
  {
   "cell_type": "code",
   "execution_count": 22,
   "metadata": {},
   "outputs": [
    {
     "name": "stdout",
     "output_type": "stream",
     "text": [
      "True\n",
      "False\n"
     ]
    }
   ],
   "source": [
    "s1 = \"   \"\n",
    "s2 = \" g \"\n",
    "\n",
    "print(s1.isspace())  \n",
    "print(s2.isspace())  "
   ]
  },
  {
   "cell_type": "markdown",
   "metadata": {},
   "source": [
    "### 22. string.swapcase() – This function Swaps the case of all characters in the string."
   ]
  },
  {
   "cell_type": "code",
   "execution_count": 23,
   "metadata": {},
   "outputs": [
    {
     "name": "stdout",
     "output_type": "stream",
     "text": [
      "gURPAL sINGH\n"
     ]
    }
   ],
   "source": [
    "Name = \"Gurpal Singh\"\n",
    "print(Name.swapcase())"
   ]
  }
 ],
 "metadata": {
  "kernelspec": {
   "display_name": "Python 3",
   "language": "python",
   "name": "python3"
  },
  "language_info": {
   "codemirror_mode": {
    "name": "ipython",
    "version": 3
   },
   "file_extension": ".py",
   "mimetype": "text/x-python",
   "name": "python",
   "nbconvert_exporter": "python",
   "pygments_lexer": "ipython3",
   "version": "3.12.8"
  }
 },
 "nbformat": 4,
 "nbformat_minor": 2
}
