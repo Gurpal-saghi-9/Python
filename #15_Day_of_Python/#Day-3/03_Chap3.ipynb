{
 "cells": [
  {
   "cell_type": "markdown",
   "metadata": {},
   "source": [
    "# *** CHAPTER 3 – STRINGS ***\n",
    "---"
   ]
  },
  {
   "cell_type": "markdown",
   "metadata": {},
   "source": [
    "String is a data type in python.\n",
    "String is a sequence of characters enclosed in quotes.\n",
    "We can primarily write a string in these three ways."
   ]
  },
  {
   "cell_type": "code",
   "execution_count": 2,
   "metadata": {},
   "outputs": [
    {
     "name": "stdout",
     "output_type": "stream",
     "text": [
      "Hello Gurpal Singh Saghi\n"
     ]
    }
   ],
   "source": [
    "name_1 = 'Gurpal'  # Single quoted string\n",
    "name_2 = \"Singh\"  # Double quoted string\n",
    "name_3 = '''Saghi''' # Triple quoted string\n",
    "\n",
    "print(f\"Hello {name_1} {name_2} {name_3}\")"
   ]
  },
  {
   "cell_type": "markdown",
   "metadata": {},
   "source": [
    "### STRING SLICIN\n",
    "\n",
    "A string in python can be sliced for getting a part of the strings.\n",
    "\n",
    "The index in a sting starts from 0 to (length -1) in Python. In order to slice a string, we use the following syntax:\n",
    "                SL = name[ind_start : ind_end]\n",
    "            example:\n",
    "                    name = \"gurpal\"\n",
    "                    sort1_name = name[0 : 3] =>> returns \"gur\" -------> Character from 0 to 3\n",
    "                    sort2_name = name[1:3] =>> returns \"ur\" -------> Character from 1 to 3"
   ]
  },
  {
   "cell_type": "code",
   "execution_count": 12,
   "metadata": {},
   "outputs": [
    {
     "name": "stdout",
     "output_type": "stream",
     "text": [
      "12\n",
      "Good\n",
      "Good Morning\n",
      "Good Mornin\n",
      "G\n"
     ]
    }
   ],
   "source": [
    "Greet = \"Good Morning\"\n",
    "\n",
    "print(len(Greet))\n",
    "\n",
    "greet_short1 = Greet[0 : 4] # start from index 0 all the way till 4 (Excluding 4)\n",
    "print(greet_short1)\n",
    "\n",
    "greet_short2 = Greet[0:]\n",
    "print(greet_short2)\n",
    "\n",
    "character1 = Greet[0]\n",
    "print(character1)"
   ]
  },
  {
   "cell_type": "markdown",
   "metadata": {},
   "source": [
    "Negative Indices: Negative indices can also be used as shown in the figure above. -1 corresponds to the (length - 1) index, -2 to (length - 2)."
   ]
  }
 ],
 "metadata": {
  "kernelspec": {
   "display_name": "Python 3",
   "language": "python",
   "name": "python3"
  },
  "language_info": {
   "codemirror_mode": {
    "name": "ipython",
    "version": 3
   },
   "file_extension": ".py",
   "mimetype": "text/x-python",
   "name": "python",
   "nbconvert_exporter": "python",
   "pygments_lexer": "ipython3",
   "version": "3.12.8"
  }
 },
 "nbformat": 4,
 "nbformat_minor": 2
}
