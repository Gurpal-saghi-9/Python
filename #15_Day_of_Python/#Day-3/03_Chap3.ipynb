{
 "cells": [
  {
   "cell_type": "markdown",
   "metadata": {},
   "source": [
    "# *** CHAPTER 3 – STRINGS ***\n",
    "---"
   ]
  },
  {
   "cell_type": "markdown",
   "metadata": {},
   "source": [
    "String is a data type in python.\n",
    "String is a sequence of characters enclosed in quotes.\n",
    "We can primarily write a string in these three ways."
   ]
  },
  {
   "cell_type": "code",
   "execution_count": 2,
   "metadata": {},
   "outputs": [
    {
     "name": "stdout",
     "output_type": "stream",
     "text": [
      "Hello Gurpal Singh Saghi\n"
     ]
    }
   ],
   "source": [
    "name_1 = 'Gurpal'  # Single quoted string\n",
    "name_2 = \"Singh\"  # Double quoted string\n",
    "name_3 = '''Saghi''' # Triple quoted string\n",
    "\n",
    "print(f\"Hello {name_1} {name_2} {name_3}\")"
   ]
  },
  {
   "cell_type": "markdown",
   "metadata": {},
   "source": [
    "### STRING SLICIN\n",
    "\n",
    "A string in python can be sliced for getting a part of the strings.\n",
    "\n",
    "The index in a sting starts from 0 to (length -1) in Python. In order to slice a string, we use the following syntax:\n",
    "                SL = name[ind_start : ind_end]\n",
    "            example:\n",
    "                    name = \"gurpal\"\n",
    "                    sort1_name = name[0 : 3] =>> returns \"gur\" -------> Character from 0 to 3\n",
    "                    sort2_name = name[1:3] =>> returns \"ur\" -------> Character from 1 to 3"
   ]
  },
  {
   "cell_type": "markdown",
   "metadata": {},
   "source": [
    "### Negative Indices: \n",
    "Negative indices can also be used as shown in the figure above. -1 corresponds to the (length - 1) index, -2 to (length - 2)."
   ]
  },
  {
   "cell_type": "code",
   "execution_count": 24,
   "metadata": {},
   "outputs": [
    {
     "name": "stdout",
     "output_type": "stream",
     "text": [
      "12\n",
      "Good\n",
      "Good M\n",
      "ood Morning\n",
      "G\n"
     ]
    }
   ],
   "source": [
    "Greet = \"Good Morning\"\n",
    "\n",
    "print(len(Greet))\n",
    "\n",
    "greet_short1 = Greet[0 : 4] # start from index 0 all the way till 4 (Excluding 4)\n",
    "print(greet_short1)\n",
    "\n",
    "print(Greet[:6])\n",
    "\n",
    "print(Greet[1:])\n",
    "\n",
    "\n",
    "character1 = Greet[0]\n",
    "print(character1)"
   ]
  },
  {
   "cell_type": "code",
   "execution_count": 23,
   "metadata": {},
   "outputs": [
    {
     "name": "stdout",
     "output_type": "stream",
     "text": [
      "l\n",
      "Gurpa\n",
      "l\n",
      "rpa\n",
      "rpa\n",
      "urpal\n",
      "urpal\n"
     ]
    }
   ],
   "source": [
    "name = \"Gurpal\"\n",
    "\n",
    "print(name[-1]) # ==> l\n",
    "print(name[0 : -1]) # ==> Gurpa\n",
    "print(name[-1: ])\n",
    "print(name[-4:-1]) # ==> rpa\n",
    "print(name[2:5])\n",
    "print(name[1:6])\n",
    "print(name[1:])"
   ]
  },
  {
   "cell_type": "markdown",
   "metadata": {},
   "source": [
    "### SLICING WITH SKIP VALUE\n",
    "We can provide a skip value as a part of our slice like this:\n",
    "       Example: word = \"amazing\"\n",
    "       print(word[1:6:2])\n",
    "\n",
    "Other advanced slicing techniques:\n",
    "       Example: word = \"amazing\"\n",
    "                Word = [:7] # word [0:7] – 'amazing'\n",
    "                Word = [0:] # word [0:7] – 'amazing'"
   ]
  },
  {
   "cell_type": "code",
   "execution_count": 27,
   "metadata": {},
   "outputs": [
    {
     "name": "stdout",
     "output_type": "stream",
     "text": [
      "mzn\n",
      "25\n",
      "bfjnr\n"
     ]
    }
   ],
   "source": [
    "word = \"amazing\"\n",
    "print(word[1:6:2])\n",
    "\n",
    "num = \"123456789\"\n",
    "print(num[1:7:3])\n",
    "\n",
    "alpha = \"abcdefghijklmnopqrstuvwxyz\"\n",
    "print(alpha[1:20:4])"
   ]
  },
  {
   "cell_type": "markdown",
   "metadata": {},
   "source": [
    "### ESCAPE SEQUENCE CHARACTERS\n",
    "Sequence of characters after backslash \"\\\" → Escape Sequence characters\n",
    "Escape Sequence characters comprise of more than one character but represent one character when used within the strings.\n",
    "\n",
    "Example:\n",
    "1. \\n for new line\n",
    "2. \\t for tab\n",
    "3. \\' for single quote\n",
    "4. \\'\\ backlash"
   ]
  }
 ],
 "metadata": {
  "kernelspec": {
   "display_name": "Python 3",
   "language": "python",
   "name": "python3"
  },
  "language_info": {
   "codemirror_mode": {
    "name": "ipython",
    "version": 3
   },
   "file_extension": ".py",
   "mimetype": "text/x-python",
   "name": "python",
   "nbconvert_exporter": "python",
   "pygments_lexer": "ipython3",
   "version": "3.12.8"
  }
 },
 "nbformat": 4,
 "nbformat_minor": 2
}
