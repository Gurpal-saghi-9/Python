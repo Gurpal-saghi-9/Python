{
 "cells": [
  {
   "cell_type": "markdown",
   "metadata": {},
   "source": [
    "# *** CHAPTER 6 – PRACTICE SET ***\n",
    "---"
   ]
  },
  {
   "cell_type": "markdown",
   "metadata": {},
   "source": [
    "1. Write a program to find the greatest of four numbers entered by the user."
   ]
  },
  {
   "cell_type": "code",
   "execution_count": 1,
   "metadata": {},
   "outputs": [
    {
     "name": "stdout",
     "output_type": "stream",
     "text": [
      "numbers entered by the user: 45, 34, 5, 76\n",
      "Greatest number is num4: 76\n"
     ]
    }
   ],
   "source": [
    "num1 = int(input(\"Enter no.1 value: \"))\n",
    "num2 = int(input(\"Enter no.2 value: \"))\n",
    "num3 = int(input(\"Enter no.3 value: \"))\n",
    "num4 = int(input(\"Enter no.4 value: \"))\n",
    "\n",
    "print(f\"numbers entered by the user: {num1}, {num2}, {num3}, {num4}\")\n",
    "\n",
    "if num1 > num2 and num1 > num3 and num1 > num4:\n",
    "    print(f\"Greatest number is num1: {num1}\")\n",
    "elif num2 > num1 and num2 > num3 and num2 > num4:\n",
    "    print(f\"Greatest number is num2: {num2}\")\n",
    "elif num3 > num1 and num3 > num2 and num3 > num4:\n",
    "    print(f\"Greatest number is num3: {num3}\")\n",
    "elif num4 > num1 and num4 > num2 and num4 > num3:\n",
    "    print(f\"Greatest number is num4: {num4}\")"
   ]
  },
  {
   "cell_type": "code",
   "execution_count": 2,
   "metadata": {},
   "outputs": [
    {
     "name": "stdout",
     "output_type": "stream",
     "text": [
      "The greatest number is: 54\n"
     ]
    }
   ],
   "source": [
    "# Inputint numbers from the user\n",
    "num1 = int(input(\"Enter the first number: \"))\n",
    "num2 = int(input(\"Enter the second number: \"))\n",
    "num3 = int(input(\"Enter the third number: \"))\n",
    "num4 = int(input(\"Enter the fourth number: \"))\n",
    "\n",
    "# Use the max() function to find the greatest number\n",
    "greatest = max(num1, num2, num3, num4)\n",
    "\n",
    "# Display the result\n",
    "print(f\"The greatest number is: {greatest}\")"
   ]
  },
  {
   "cell_type": "markdown",
   "metadata": {},
   "source": [
    "2. Write a program to find out whether a student has passed or failed if it requires a total of 40% and at least 33% in each subject to pass. Assume 3 subjects and take marks as an input from the user."
   ]
  },
  {
   "cell_type": "code",
   "execution_count": 7,
   "metadata": {},
   "outputs": [
    {
     "name": "stdout",
     "output_type": "stream",
     "text": [
      "Entered marks 50, 45, 60, 58\n",
      "You are passed! Total percentage: 53.25\n"
     ]
    }
   ],
   "source": [
    "Java = int(input(\"Enter java marks: \"))\n",
    "Python = int(input(\"Enter python marks: \"))\n",
    "Rust = int(input(\"Enter Rust marks: \"))\n",
    "Javascript = int(input(\"Enter Javascript marks: \"))\n",
    "\n",
    "print(f\"Entered marks {Java}, {Python}, {Rust}, {Javascript}\")\n",
    "\n",
    "total_marks = Java + Python + Rust + Javascript\n",
    "\n",
    "total_percentage = (total_marks / 400) * 100\n",
    "\n",
    "if total_percentage >= 40 and Java >= 33 and Python >= 33 and Rust >= 33 and Javascript >= 3:\n",
    "    print(f\"You are passed! Total percentage: {total_percentage}\")\n",
    "\n",
    "else:\n",
    "    print(f\"You are failed. Total percentage: {total_percentage}\")"
   ]
  },
  {
   "cell_type": "markdown",
   "metadata": {},
   "source": [
    "3. A spam comment is defined as a text containing following keywords: “Make a lot of money”, “buy now”, “subscribe this”, “click this”. Write a program to detect these spams."
   ]
  },
  {
   "cell_type": "code",
   "execution_count": 9,
   "metadata": {},
   "outputs": [
    {
     "name": "stdout",
     "output_type": "stream",
     "text": [
      "This comment is a spam\n"
     ]
    }
   ],
   "source": [
    "p1 = \"Make a lot of money\"\n",
    "p2 = \"buy now\"  \n",
    "p3 = \"subscribe this\"  \n",
    "p4 = \"click this\"\n",
    "\n",
    "message = input(\"Enter your comment: \")\n",
    "\n",
    "if((p1 in message) or (p2 in message )or (p3 in message) or (p4 in message)):\n",
    "    print(\"This comment is a spam\")\n",
    "\n",
    "else:\n",
    "    print(\"This comment is not a spam\")"
   ]
  },
  {
   "cell_type": "code",
   "execution_count": null,
   "metadata": {},
   "outputs": [],
   "source": [
    "# List of spam keywords\n",
    "spam_keywords = [\"make a lot of money\", \"buy now\", \"subscribe this\", \"click this\"]\n",
    "\n",
    "# Input comment from the user\n",
    "comment = input(\"Enter a comment: \").lower()  # Convert to lowercase for case-insensitive matching\n",
    "\n",
    "# Check if the comment contains any spam keywords\n",
    "is_spam = any(keyword in comment for keyword in spam_keywords)\n",
    "\n",
    "# Output the result\n",
    "if is_spam:\n",
    "    print(\"This is a spam comment.\")\n",
    "else:\n",
    "    print(\"This is not a spam comment.\")\n"
   ]
  },
  {
   "cell_type": "markdown",
   "metadata": {},
   "source": [
    "4. Write a program to find whether a given username contains less than 10 characters or not."
   ]
  },
  {
   "cell_type": "code",
   "execution_count": 10,
   "metadata": {},
   "outputs": [
    {
     "name": "stdout",
     "output_type": "stream",
     "text": [
      "Your username contains more than or equal to 10 characters\n"
     ]
    }
   ],
   "source": [
    "username = input(\"Enter username: \")\n",
    "\n",
    "if len(username) < 10:\n",
    "    print(\"Your username contains less than 10 characters\")\n",
    "\n",
    "else:\n",
    "    print(\"Your username contains more than or equal to 10 characters\")"
   ]
  },
  {
   "cell_type": "markdown",
   "metadata": {},
   "source": [
    "5. Write a program which finds out whether a given name is present in a list or not"
   ]
  },
  {
   "cell_type": "code",
   "execution_count": 12,
   "metadata": {},
   "outputs": [
    {
     "name": "stdout",
     "output_type": "stream",
     "text": [
      "ENterd name is guru\n",
      "guru is not present in the list\n"
     ]
    }
   ],
   "source": [
    "names_list = [\"Guru\", \"Aish\", \"Sagar\", \"Amrit\", \"Afzal\"]\n",
    "\n",
    "name = input(\"ENter your name: \")\n",
    "\n",
    "print(f\"ENterd name is {name}\")\n",
    "\n",
    "if name in names_list:\n",
    "    print(f\"{name} is present in the list\")\n",
    "else:\n",
    "    print(f\"{name} is not present in the list\")"
   ]
  },
  {
   "cell_type": "markdown",
   "metadata": {},
   "source": [
    "6. Write a program to calculate the grade of a student from his marks from the following scheme:\n",
    "90 – 100 => Ex\n",
    "80 – 90 => A\n",
    "70 – 80 => B\n",
    "60 – 70 =>C\n",
    "50 – 60 => D\n",
    "<50 => F"
   ]
  },
  {
   "cell_type": "code",
   "execution_count": null,
   "metadata": {},
   "outputs": [],
   "source": [
    "marks = int(input(\"Enter your marks: \"))\n",
    "\n",
    "if marks <= 100 and marks >= 90:\n",
    "    grade = \"Ex\"\n",
    "elif marks < 90 and marks >= 80:\n",
    "    grade = \"A\"\n",
    "elif marks < 80 and marks >= 70:\n",
    "    grade = \"B\"\n",
    "elif marks < 70 and marks >= 60:\n",
    "    grade = \"C\"\n",
    "elif marks < 60 and marks >= 50:\n",
    "    grade = \"D\"\n",
    "elif marks < 50:\n",
    "    grade = \"F\"\n",
    "\n",
    "print(\"Your grade is:\", grade)"
   ]
  },
  {
   "cell_type": "markdown",
   "metadata": {},
   "source": [
    "7. Write a program to find out whether a given post is talking about “Harry” or not."
   ]
  },
  {
   "cell_type": "code",
   "execution_count": null,
   "metadata": {},
   "outputs": [],
   "source": [
    "# Input the post from the user\n",
    "post = input(\"Enter the post: \")\n",
    "\n",
    "# Check if the post mentions \"Harry\" (case-insensitive)\n",
    "if \"harry\" in post.lower():\n",
    "    print(\"The post is talking about Harry.\")\n",
    "    \n",
    "else:\n",
    "    print(\"The post is not talking about Harry.\")\n"
   ]
  }
 ],
 "metadata": {
  "kernelspec": {
   "display_name": "Python 3",
   "language": "python",
   "name": "python3"
  },
  "language_info": {
   "codemirror_mode": {
    "name": "ipython",
    "version": 3
   },
   "file_extension": ".py",
   "mimetype": "text/x-python",
   "name": "python",
   "nbconvert_exporter": "python",
   "pygments_lexer": "ipython3",
   "version": "3.12.8"
  }
 },
 "nbformat": 4,
 "nbformat_minor": 2
}
