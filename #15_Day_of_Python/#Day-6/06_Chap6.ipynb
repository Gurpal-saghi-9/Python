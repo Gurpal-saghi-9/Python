{
 "cells": [
  {
   "cell_type": "markdown",
   "metadata": {},
   "source": [
    "# *** CHAPTER 6 – CONDITIONAL EXPRESSION ***\n",
    "---"
   ]
  },
  {
   "cell_type": "markdown",
   "metadata": {},
   "source": [
    "Conditional statements in Python allow you to control the flow of your program by executing different blocks of code based on certain conditions. These include if, elif, and else statements.\n",
    "Examples:-\n",
    "- Sometimes we want to play PUBG on our phone if the day is Sunday.\n",
    "- Sometimes we order Ice Cream online if the day is sunny.\n",
    "- Sometimes we go hiking if our parents allow.\n",
    "All these are decisions which depend on a condition being met.\n",
    "In python programming too, we must be able to execute instructions on a condition(s) \n",
    "being met.\n"
   ]
  }
 ],
 "metadata": {
  "language_info": {
   "name": "python"
  }
 },
 "nbformat": 4,
 "nbformat_minor": 2
}
