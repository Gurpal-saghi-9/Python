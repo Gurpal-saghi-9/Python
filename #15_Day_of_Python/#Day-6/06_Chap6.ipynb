{
 "cells": [
  {
   "cell_type": "markdown",
   "metadata": {},
   "source": [
    "# *** CHAPTER 6 – CONDITIONAL EXPRESSION ***\n",
    "---"
   ]
  },
  {
   "cell_type": "markdown",
   "metadata": {},
   "source": [
    "Conditional statements in Python allow you to control the flow of your program by executing different blocks of code based on certain conditions. These include if, elif, and else statements.\n",
    "\n",
    "Examples:-\n",
    "- Sometimes we want to play PUBG on our phone if the day is Sunday.\n",
    "- Sometimes we order Ice Cream online if the day is sunny.\n",
    "- Sometimes we go hiking if our parents allow.\n",
    "All these are decisions which depend on a condition being met.\n",
    "In python programming too, we must be able to execute instructions on a condition(s) being met.\n"
   ]
  },
  {
   "cell_type": "markdown",
   "metadata": {},
   "source": [
    "## 1. if statement:- \n",
    "The if statement in Python is used to execute a block of code only if a specified condition evaluates to True.\n",
    "Syntax of if Statement:\n",
    "if condition:\n",
    "    # Code to execute if the condition is True"
   ]
  },
  {
   "cell_type": "code",
   "execution_count": 6,
   "metadata": {},
   "outputs": [
    {
     "name": "stdout",
     "output_type": "stream",
     "text": [
      "x is greater than 5\n",
      "out  of condition body\n"
     ]
    }
   ],
   "source": [
    "x = 10\n",
    "if x > 5:\n",
    "    print(\"x is greater than 5\")\n",
    "# Output: x is greater than 5\n",
    "\n",
    "print(\"out  of condition body\")"
   ]
  },
  {
   "cell_type": "code",
   "execution_count": 7,
   "metadata": {},
   "outputs": [
    {
     "name": "stdout",
     "output_type": "stream",
     "text": [
      "You are eligible to vote.\n"
     ]
    }
   ],
   "source": [
    "age = int(input(\"Enter your age: \"))\n",
    "\n",
    "if age >= 18:\n",
    "    print(\"You are eligible to vote.\")\n",
    "    \n",
    "# If the input is 20, the output will be:\n",
    "# Output: You are eligible to vote.\n"
   ]
  },
  {
   "cell_type": "code",
   "execution_count": 8,
   "metadata": {},
   "outputs": [
    {
     "name": "stdout",
     "output_type": "stream",
     "text": [
      "x is not equal to 10\n"
     ]
    }
   ],
   "source": [
    "x = 15\n",
    "\n",
    "if x != 10:\n",
    "    print(\"x is not equal to 10\")\n",
    "# Output: x is not equal to 10"
   ]
  },
  {
   "cell_type": "markdown",
   "metadata": {},
   "source": [
    "### Using Logical Operators with if\n",
    "You can combine multiple conditions using logical operators:\n",
    "\n",
    "- and: All conditions must be True.\n",
    "- or: At least one condition must be True.\n",
    "- not: Negates the condition."
   ]
  },
  {
   "cell_type": "code",
   "execution_count": 9,
   "metadata": {},
   "outputs": [
    {
     "name": "stdout",
     "output_type": "stream",
     "text": [
      "x is between 5 and 20\n"
     ]
    }
   ],
   "source": [
    "x = 10\n",
    "\n",
    "if x > 5 and x < 20:\n",
    "    print(\"x is between 5 and 20\")\n",
    "# Output: x is between 5 and 20\n"
   ]
  },
  {
   "cell_type": "markdown",
   "metadata": {},
   "source": [
    "### Nested if Statements:- \n",
    "You can place an if statement inside another to check multiple levels of conditions."
   ]
  },
  {
   "cell_type": "code",
   "execution_count": 11,
   "metadata": {},
   "outputs": [
    {
     "name": "stdout",
     "output_type": "stream",
     "text": [
      "10 is greater than 5 and even\n"
     ]
    }
   ],
   "source": [
    "x = int(input(\"Enter a active no.: \"))\n",
    "\n",
    "if x > 5:\n",
    "    if x % 2 == 0:\n",
    "        print(f\"{x} is greater than 5 and even\")\n",
    "# Output: x is greater than 5 and even\n"
   ]
  },
  {
   "cell_type": "markdown",
   "metadata": {},
   "source": [
    "### Using if in One Line"
   ]
  },
  {
   "cell_type": "code",
   "execution_count": null,
   "metadata": {},
   "outputs": [],
   "source": [
    "x = 10\n",
    "if x > 5: print(\"x is greater than 5\")\n",
    "# Output: x is greater than 5\n"
   ]
  },
  {
   "cell_type": "markdown",
   "metadata": {},
   "source": [
    "---\n",
    "## 2. If-else:- \n",
    "\n",
    "The if-else statement in Python is used to execute one block of code if a condition is True and a different block if the condition is False."
   ]
  },
  {
   "cell_type": "code",
   "execution_count": null,
   "metadata": {},
   "outputs": [],
   "source": [
    "x = 10\n",
    "\n",
    "if x > 5:\n",
    "    print(\"x is greater than 5\")\n",
    "else:\n",
    "    print(\"x is less than or equal to 5\")\n",
    "# Output: x is greater than 5\n"
   ]
  },
  {
   "cell_type": "code",
   "execution_count": null,
   "metadata": {},
   "outputs": [],
   "source": [
    "age = int(input(\"Enter your age: \"))\n",
    "\n",
    "if age >= 18:\n",
    "    print(\"You are eligible to vote.\")\n",
    "else:\n",
    "    print(\"You are not eligible to vote.\")\n"
   ]
  },
  {
   "cell_type": "markdown",
   "metadata": {},
   "source": [
    "### Using Logical Operators in if-else\n",
    "Logical operators like and, or, and not can combine multiple conditions:\n",
    "\n",
    "- and: Both conditions must be True.\n",
    "- or: At least one condition must be True.\n",
    "- not: Negates the condition."
   ]
  },
  {
   "cell_type": "code",
   "execution_count": null,
   "metadata": {},
   "outputs": [],
   "source": [
    "x = 15\n",
    "if x > 10 and x < 20:\n",
    "    print(\"x is between 10 and 20\")\n",
    "else:\n",
    "    print(\"x is not between 10 and 20\")\n",
    "# Output: x is between 10 and 20\n"
   ]
  },
  {
   "cell_type": "markdown",
   "metadata": {},
   "source": [
    "### Nested if-else\n",
    "An if-else statement can be nested inside another if-else."
   ]
  },
  {
   "cell_type": "code",
   "execution_count": null,
   "metadata": {},
   "outputs": [],
   "source": [
    "x = 5\n",
    "\n",
    "if x > 0:\n",
    "    if x % 2 == 0:\n",
    "        print(\"x is positive and even\")\n",
    "    else:\n",
    "        print(\"x is positive and odd\")\n",
    "else:\n",
    "    print(\"x is not positive\")\n",
    "# Output: x is positive and odd\n"
   ]
  },
  {
   "cell_type": "markdown",
   "metadata": {},
   "source": [
    "### Shorthand if-else"
   ]
  },
  {
   "cell_type": "code",
   "execution_count": null,
   "metadata": {},
   "outputs": [],
   "source": [
    "x = int(input(\"ENter a number:- \"))\n",
    "\n",
    "result = \"Positive\" if x > 0 else \"Non-Positive\"\n",
    "print(result)\n",
    "# Output: Positive\n"
   ]
  },
  {
   "cell_type": "markdown",
   "metadata": {},
   "source": [
    "---\n",
    "## 3. if-elif-else ladder\n",
    "An if-elif-else ladder in Python is used when you have multiple conditions to check sequentially. It allows you to test multiple expressions one after the other and execute the block of code for the first condition that evaluates to True.\n",
    "\n",
    "How It Works:\n",
    "- The first if condition is evaluated. If it is True, the corresponding block executes, and the rest of the ladder is skipped.\n",
    "- If the first if condition is False, the next elif condition is checked, and so on.\n",
    "- The else block is optional and executes only if all previous conditions are False."
   ]
  },
  {
   "cell_type": "code",
   "execution_count": null,
   "metadata": {},
   "outputs": [],
   "source": [
    "marks = 85\n",
    "\n",
    "if marks >= 90:\n",
    "    print(\"Grade: A\")\n",
    "elif marks >= 80:\n",
    "    print(\"Grade: B\")\n",
    "elif marks >= 70:\n",
    "    print(\"Grade: C\")\n",
    "else:\n",
    "    print(\"Grade: F\")\n",
    "# Output: Grade: B\n"
   ]
  },
  {
   "cell_type": "code",
   "execution_count": null,
   "metadata": {},
   "outputs": [],
   "source": [
    "age = int(input(\"Enter your age: \"))\n",
    "\n",
    "if age < 18:\n",
    "    print(\"You are a minor.\")\n",
    "elif 18 <= age < 60:\n",
    "    print(\"You are an adult.\")\n",
    "elif 60 <= age < 100:\n",
    "    print(\"You are a senior citizen.\")\n",
    "else:\n",
    "    print(\"Invalid age!\")\n"
   ]
  },
  {
   "cell_type": "markdown",
   "metadata": {},
   "source": [
    "### Nested if-elif:\n",
    "You can combine if-elif ladders with other conditional statements:"
   ]
  },
  {
   "cell_type": "code",
   "execution_count": null,
   "metadata": {},
   "outputs": [],
   "source": [
    "x = 15\n",
    "\n",
    "if x > 0:\n",
    "    if x % 2 == 0:\n",
    "        print(\"x is positive and even\")\n",
    "    else:\n",
    "        print(\"x is positive and odd\")\n",
    "elif x == 0:\n",
    "    print(\"x is zero\")\n",
    "else:\n",
    "    print(\"x is negative\")\n",
    "# Output: x is positive and odd\n"
   ]
  }
 ],
 "metadata": {
  "kernelspec": {
   "display_name": "Python 3",
   "language": "python",
   "name": "python3"
  },
  "language_info": {
   "codemirror_mode": {
    "name": "ipython",
    "version": 3
   },
   "file_extension": ".py",
   "mimetype": "text/x-python",
   "name": "python",
   "nbconvert_exporter": "python",
   "pygments_lexer": "ipython3",
   "version": "3.12.8"
  }
 },
 "nbformat": 4,
 "nbformat_minor": 2
}
