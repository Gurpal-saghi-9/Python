{
 "cells": [
  {
   "cell_type": "markdown",
   "metadata": {},
   "source": [
    "# *** CHAPTER 6 – CONDITIONAL EXPRESSION ***\n",
    "---"
   ]
  },
  {
   "cell_type": "markdown",
   "metadata": {},
   "source": [
    "Conditional statements in Python allow you to control the flow of your program by executing different blocks of code based on certain conditions. These include if, elif, and else statements.\n",
    "\n",
    "Examples:-\n",
    "- Sometimes we want to play PUBG on our phone if the day is Sunday.\n",
    "- Sometimes we order Ice Cream online if the day is sunny.\n",
    "- Sometimes we go hiking if our parents allow.\n",
    "All these are decisions which depend on a condition being met.\n",
    "In python programming too, we must be able to execute instructions on a condition(s) being met.\n"
   ]
  },
  {
   "cell_type": "markdown",
   "metadata": {},
   "source": [
    "## 1. if statement:- \n",
    "The if statement in Python is used to execute a block of code only if a specified condition evaluates to True.\n",
    "Syntax of if Statement:\n",
    "if condition:\n",
    "    # Code to execute if the condition is True"
   ]
  },
  {
   "cell_type": "code",
   "execution_count": 6,
   "metadata": {},
   "outputs": [
    {
     "name": "stdout",
     "output_type": "stream",
     "text": [
      "x is greater than 5\n",
      "out  of condition body\n"
     ]
    }
   ],
   "source": [
    "x = 10\n",
    "if x > 5:\n",
    "    print(\"x is greater than 5\")\n",
    "# Output: x is greater than 5\n",
    "\n",
    "print(\"out  of condition body\")"
   ]
  },
  {
   "cell_type": "code",
   "execution_count": 7,
   "metadata": {},
   "outputs": [
    {
     "name": "stdout",
     "output_type": "stream",
     "text": [
      "You are eligible to vote.\n"
     ]
    }
   ],
   "source": [
    "age = int(input(\"Enter your age: \"))\n",
    "\n",
    "if age >= 18:\n",
    "    print(\"You are eligible to vote.\")\n",
    "    \n",
    "# If the input is 20, the output will be:\n",
    "# Output: You are eligible to vote.\n"
   ]
  },
  {
   "cell_type": "code",
   "execution_count": 8,
   "metadata": {},
   "outputs": [
    {
     "name": "stdout",
     "output_type": "stream",
     "text": [
      "x is not equal to 10\n"
     ]
    }
   ],
   "source": [
    "x = 15\n",
    "\n",
    "if x != 10:\n",
    "    print(\"x is not equal to 10\")\n",
    "# Output: x is not equal to 10"
   ]
  },
  {
   "cell_type": "markdown",
   "metadata": {},
   "source": [
    "### Using Logical Operators with if\n",
    "You can combine multiple conditions using logical operators:\n",
    "\n",
    "- and: All conditions must be True.\n",
    "- or: At least one condition must be True.\n",
    "- not: Negates the condition."
   ]
  },
  {
   "cell_type": "code",
   "execution_count": 9,
   "metadata": {},
   "outputs": [
    {
     "name": "stdout",
     "output_type": "stream",
     "text": [
      "x is between 5 and 20\n"
     ]
    }
   ],
   "source": [
    "x = 10\n",
    "\n",
    "if x > 5 and x < 20:\n",
    "    print(\"x is between 5 and 20\")\n",
    "# Output: x is between 5 and 20\n"
   ]
  },
  {
   "cell_type": "markdown",
   "metadata": {},
   "source": [
    "### Nested if Statements:- \n",
    "You can place an if statement inside another to check multiple levels of conditions."
   ]
  },
  {
   "cell_type": "code",
   "execution_count": 11,
   "metadata": {},
   "outputs": [
    {
     "name": "stdout",
     "output_type": "stream",
     "text": [
      "10 is greater than 5 and even\n"
     ]
    }
   ],
   "source": [
    "x = int(input(\"Enter a active no.: \"))\n",
    "\n",
    "if x > 5:\n",
    "    if x % 2 == 0:\n",
    "        print(f\"{x} is greater than 5 and even\")\n",
    "# Output: x is greater than 5 and even\n"
   ]
  },
  {
   "cell_type": "markdown",
   "metadata": {},
   "source": [
    "### Using if in One Line"
   ]
  },
  {
   "cell_type": "code",
   "execution_count": null,
   "metadata": {},
   "outputs": [],
   "source": [
    "x = 10\n",
    "if x > 5: print(\"x is greater than 5\")\n",
    "# Output: x is greater than 5\n"
   ]
  },
  {
   "cell_type": "markdown",
   "metadata": {},
   "source": [
    "---\n",
    "## 2. if-else:- \n",
    "The if-else statement in Python is used to execute one block of code if a condition is True and a different block if the condition is False.\n",
    "Syntax of if-else Statement:\n",
    "if condition:\n",
    "    # Code to execute if the condition is True\n",
    "else:\n",
    "    # Code to execute if the condition is False\n"
   ]
  }
 ],
 "metadata": {
  "kernelspec": {
   "display_name": "Python 3",
   "language": "python",
   "name": "python3"
  },
  "language_info": {
   "codemirror_mode": {
    "name": "ipython",
    "version": 3
   },
   "file_extension": ".py",
   "mimetype": "text/x-python",
   "name": "python",
   "nbconvert_exporter": "python",
   "pygments_lexer": "ipython3",
   "version": "3.12.8"
  }
 },
 "nbformat": 4,
 "nbformat_minor": 2
}
