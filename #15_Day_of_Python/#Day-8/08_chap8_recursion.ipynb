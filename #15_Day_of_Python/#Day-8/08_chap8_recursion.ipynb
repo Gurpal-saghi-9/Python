{
 "cells": [
  {
   "cell_type": "markdown",
   "metadata": {},
   "source": [
    "# *** Recursion ***\n",
    "---"
   ]
  },
  {
   "cell_type": "markdown",
   "metadata": {},
   "source": [
    "### Recursion:-\n",
    "Recursion is a process where a function calls itself in order to solve a problem. This technique is often used to break a problem down into smaller, more manageable sub-problems. Recursion typically involves two parts:\n",
    "\n",
    "- Base case: A condition that stops the recursion.\n",
    "- Recursive case: The part where the function calls itself with modified arguments."
   ]
  },
  {
   "cell_type": "markdown",
   "metadata": {},
   "source": [
    "### How Recursion Works\n",
    "\n",
    "- A recursive function makes a self-call with new arguments.\n",
    "- The recursion continues until it reaches the **base case**.\n",
    "- Once the base case is reached, the recursion starts to \"unwind\" and returns the results.\n",
    "\n",
    "### Example of Recursion: Factorial\n",
    "\n",
    "The factorial of a number is the product of all integers from 1 to that number. The recursive definition of factorial is:\n",
    "\n",
    "<p align=\"center\">\n",
    "  factorial(n) = n × factorial(n−1) for n > 1<br>\n",
    "  factorial(1) = 1 (base case)\n",
    "</p>\n"
   ]
  }
 ],
 "metadata": {
  "language_info": {
   "name": "python"
  }
 },
 "nbformat": 4,
 "nbformat_minor": 2
}
