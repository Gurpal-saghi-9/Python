{
 "cells": [
  {
   "cell_type": "markdown",
   "metadata": {},
   "source": [
    "# *** Recursion ***\n",
    "---"
   ]
  },
  {
   "cell_type": "markdown",
   "metadata": {},
   "source": [
    "### Recursion:-\n",
    "Recursion is a process where a function calls itself in order to solve a problem. This technique is often used to break a problem down into smaller, more manageable sub-problems. Recursion typically involves two parts:\n",
    "\n",
    "- Base case: A condition that stops the recursion.\n",
    "- Recursive case: The part where the function calls itself with modified arguments."
   ]
  },
  {
   "cell_type": "markdown",
   "metadata": {},
   "source": [
    "### How Recursion Works\n",
    "\n",
    "- A recursive function makes a self-call with new arguments.\n",
    "- The recursion continues until it reaches the **base case**.\n",
    "- Once the base case is reached, the recursion starts to \"unwind\" and returns the results.\n",
    "\n",
    "---\n",
    "\n",
    "### Example of Recursion: Factorial\n",
    "\n",
    "The factorial of a number is the product of all integers from 1 to that number. The recursive definition of factorial is:\n",
    "\n",
    "<p align=\"center\">\n",
    "  factorial(n) = n × factorial(n−1) for n > 1<br>\n",
    "  factorial(1) = 1 (base case)\n",
    "</p>\n"
   ]
  },
  {
   "cell_type": "code",
   "execution_count": 1,
   "metadata": {},
   "outputs": [
    {
     "name": "stdout",
     "output_type": "stream",
     "text": [
      "120\n"
     ]
    }
   ],
   "source": [
    "# Factorial in Python (Recursive Implementation):\n",
    "def factorial(n):\n",
    "    # Base case\n",
    "    if n == 0 or n == 1:\n",
    "        return 1\n",
    "    # Recursive case\n",
    "    else:\n",
    "        return n * factorial(n - 1)\n",
    "\n",
    "result = factorial(5)\n",
    "print(result)  # Output: 120\n",
    "\n",
    "# Explanation:\n",
    "# 1. When factorial(5) is called, it calls factorial(4), which calls factorial(3), and so on.\n",
    "# 2. When factorial(1) is called, the function returns 1 (base case).\n",
    "# 3. The recursion then \"unwinds,\" and the results are multiplied together to give the final output 120.\n"
   ]
  },
  {
   "cell_type": "markdown",
   "metadata": {},
   "source": [
    "--- \n",
    "### Example: Fibonacci Sequence\n",
    "The Fibonacci sequence is a series of numbers in which each number is the sum of the two preceding ones. The recursive formula is:\n",
    "\n",
    "fib(n) = fib(n − 1) + fib(n − 2) forn > 1\n",
    "fib(0) = 0, fib(1) = 1"
   ]
  },
  {
   "cell_type": "code",
   "execution_count": 2,
   "metadata": {},
   "outputs": [
    {
     "name": "stdout",
     "output_type": "stream",
     "text": [
      "5\n"
     ]
    }
   ],
   "source": [
    "def fibonacci(n):\n",
    "    # Base case\n",
    "    if n == 0:\n",
    "        return 0\n",
    "    elif n == 1:\n",
    "        return 1\n",
    "    # Recursive case\n",
    "    else:\n",
    "        return fibonacci(n - 1) + fibonacci(n - 2)\n",
    "\n",
    "result = fibonacci(5)\n",
    "print(result)  # Output: 5\n",
    "\n",
    "\n",
    "# Explanation:\n",
    "# 1. fibonacci(5) calls fibonacci(4) and fibonacci(3), continuing the pattern until the base cases are reached.\n",
    "# 2. The result is the sum of the values returned by the two recursive calls."
   ]
  },
  {
   "cell_type": "markdown",
   "metadata": {},
   "source": [
    "---"
   ]
  }
 ],
 "metadata": {
  "kernelspec": {
   "display_name": "Python 3",
   "language": "python",
   "name": "python3"
  },
  "language_info": {
   "codemirror_mode": {
    "name": "ipython",
    "version": 3
   },
   "file_extension": ".py",
   "mimetype": "text/x-python",
   "name": "python",
   "nbconvert_exporter": "python",
   "pygments_lexer": "ipython3",
   "version": "3.12.8"
  }
 },
 "nbformat": 4,
 "nbformat_minor": 2
}
