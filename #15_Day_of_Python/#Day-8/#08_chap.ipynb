{
 "cells": [
  {
   "cell_type": "markdown",
   "metadata": {},
   "source": [
    "# *** CHAPTER 8 – FUNCTIONS & RECURSIONS ***\n",
    "---"
   ]
  },
  {
   "cell_type": "markdown",
   "metadata": {},
   "source": [
    "## Function:- \n",
    "A function in Python is a block of organized, reusable code that performs a specific task. Functions allow you to write modular code, making your programs easier to read, maintain, and reuse.\n",
    "\n",
    "### Syntax of a Function\n",
    "```python\n",
    "def function_name(parameters):\n",
    "    # Function body\n",
    "    return value  # Optional\n",
    "```\n",
    "\n",
    "### Key Points\n",
    "- def keyword: Used to define a function.\n",
    "- Function name: A unique identifier for the function.\n",
    "- Parameters: Optional inputs to the function, enclosed in parentheses. A function can have none, one, or multiple parameters.\n",
    "- Function body: Contains the code that the function executes.\n",
    "- Return statement: Optional; used to send the result of the function back to the caller.\n",
    "\n",
    "### EXAMPLE\n",
    "``` python\n",
    "def greet():\n",
    "    print(\"Hello, World!\")\n",
    "    \n",
    "greet()  # Output: Hello, World!\n",
    "```"
   ]
  },
  {
   "cell_type": "code",
   "execution_count": 8,
   "metadata": {},
   "outputs": [
    {
     "name": "stdout",
     "output_type": "stream",
     "text": [
      "average of 2 3 4 = 3.0\n",
      "average of 5 6 34 = 15.0\n",
      "average of 64 34 65 = 54.333333333333336\n",
      "average of 2 43 54 = 33.0\n",
      "average of 23 23 44 = 30.0\n"
     ]
    }
   ],
   "source": [
    "# a = 23\n",
    "# b = 24\n",
    "# c = 43\n",
    "\n",
    "# average = (a+b+c)/3\n",
    "# print(average)\n",
    "\n",
    "# a = 34\n",
    "# b = 2\n",
    "# c = 56\n",
    "\n",
    "# average = (a+b+c)/3\n",
    "# print(average)\n",
    "\n",
    "#instead of above\n",
    "\n",
    "# Function definition for calculating the average of three numbers\n",
    "def avg():\n",
    "    # Taking input for the first number and converting it to an integer\n",
    "    a = int(input(\"Enter your number: \"))\n",
    "    # Taking input for the second number and converting it to an integer\n",
    "    b = int(input(\"Enter your number: \"))\n",
    "    # Taking input for the third number and converting it to an integer\n",
    "    c = int(input(\"Enter your number: \"))\n",
    "    \n",
    "    # Calculating the average of the three numbers\n",
    "    average = (a + b + c) / 3\n",
    "    # Printing the calculated average along with the input numbers\n",
    "    print(f\"average of {a} {b} {c} = {average}\")\n",
    "\n",
    "# Calling the avg function to execute the code\n",
    "avg()\n",
    "avg()\n",
    "avg()\n",
    "avg()\n",
    "avg()\n"
   ]
  },
  {
   "cell_type": "code",
   "execution_count": null,
   "metadata": {},
   "outputs": [],
   "source": [
    "\n",
    "def greet():\n",
    "    print(\"Hello, World!\")\n",
    "    \n",
    "greet()  # Output: Hello, World!\n"
   ]
  },
  {
   "cell_type": "markdown",
   "metadata": {},
   "source": [
    "### Why Use Functions?\n",
    "- Reusability: Write once, use many times.\n",
    "- Modularity: Break down complex problems into simpler, manageable parts.\n",
    "- Readability: Makes code easier to understand and maintain.\n",
    "- Debugging: Easier to debug small sections of code than a large, monolithic block."
   ]
  },
  {
   "cell_type": "markdown",
   "metadata": {},
   "source": [
    "Quick Quiz: Write a program to greet a user with “Good day” using functions."
   ]
  },
  {
   "cell_type": "code",
   "execution_count": null,
   "metadata": {},
   "outputs": [],
   "source": [
    "def goodDay():\n",
    "    print(\"Good Day\")\n",
    "\n",
    "goodDay()"
   ]
  },
  {
   "cell_type": "markdown",
   "metadata": {},
   "source": [
    "### Types of Functions in Python\n",
    "#### 1. Built-in Functions:\n",
    "Predefined functions provided by Python, such as print(), len(), type(), etc.\n",
    "\n",
    "#### 2. User-defined Functions:\n",
    "Functions created by the user."
   ]
  },
  {
   "cell_type": "markdown",
   "metadata": {},
   "source": [
    "### Examples of Functions"
   ]
  },
  {
   "cell_type": "code",
   "execution_count": null,
   "metadata": {},
   "outputs": [],
   "source": [
    "# No Parameters, No Return\n",
    "def greet():\n",
    "    print(\"Hello, World!\")\n",
    "\n",
    "greet()  # Output: Hello, World!\n"
   ]
  },
  {
   "cell_type": "code",
   "execution_count": 9,
   "metadata": {},
   "outputs": [],
   "source": [
    "# With Parameters and Return Value\n",
    "def multiply(a, b):\n",
    "    return a * b\n",
    "\n",
    "result = multiply(3, 4)\n",
    "print(result)  # Output: 12\n"
   ]
  },
  {
   "cell_type": "code",
   "execution_count": null,
   "metadata": {},
   "outputs": [],
   "source": [
    "# Default Parameters\n",
    "def greet_user(name=\"Guest\"):\n",
    "    print(f\"Hello, {name}!\")\n",
    "\n",
    "greet_user(\"Guru\")  # Output: Hello, Guru!\n",
    "greet_user()        # Output: Hello, Guest!\n"
   ]
  },
  {
   "cell_type": "code",
   "execution_count": null,
   "metadata": {},
   "outputs": [],
   "source": [
    "# Using Return\n",
    "def square(number):\n",
    "    return number ** 2\n",
    "\n",
    "result = square(5)\n",
    "print(result)  # Output: 25\n"
   ]
  }
 ],
 "metadata": {
  "kernelspec": {
   "display_name": "Python 3",
   "language": "python",
   "name": "python3"
  },
  "language_info": {
   "codemirror_mode": {
    "name": "ipython",
    "version": 3
   },
   "file_extension": ".py",
   "mimetype": "text/x-python",
   "name": "python",
   "nbconvert_exporter": "python",
   "pygments_lexer": "ipython3",
   "version": "3.12.8"
  }
 },
 "nbformat": 4,
 "nbformat_minor": 2
}
