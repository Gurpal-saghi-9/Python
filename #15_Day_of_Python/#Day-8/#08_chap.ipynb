{
 "cells": [
  {
   "cell_type": "markdown",
   "metadata": {},
   "source": [
    "# *** CHAPTER 8 – FUNCTIONS & RECURSIONS ***\n",
    "---"
   ]
  },
  {
   "cell_type": "markdown",
   "metadata": {},
   "source": [
    "## Function:- \n",
    "A function in Python is a block of organized, reusable code that performs a specific task. Functions allow you to write modular code, making your programs easier to read, maintain, and reuse.\n",
    "\n",
    "### Syntax of a Function\n",
    "```python\n",
    "def function_name(parameters):\n",
    "    # Function body\n",
    "    return value  # Optional\n",
    "```\n",
    "\n",
    "### Key Points\n",
    "- def keyword: Used to define a function.\n",
    "- Function name: A unique identifier for the function.\n",
    "- Parameters: Optional inputs to the function, enclosed in parentheses. A function can have none, one, or multiple parameters.\n",
    "- Function body: Contains the code that the function executes.\n",
    "- Return statement: Optional; used to send the result of the function back to the caller.\n",
    "\n",
    "### EXAMPLE\n",
    "``` python\n",
    "def greet():\n",
    "    print(\"Hello, World!\")\n",
    "    \n",
    "greet()  # Output: Hello, World!\n",
    "```"
   ]
  },
  {
   "cell_type": "code",
   "execution_count": 1,
   "metadata": {},
   "outputs": [
    {
     "name": "stdout",
     "output_type": "stream",
     "text": [
      "average of 4 54 65 = 41.0\n",
      "average of 34 54 65 = 51.0\n"
     ]
    }
   ],
   "source": [
    "# a = 23\n",
    "# b = 24\n",
    "# c = 43\n",
    "\n",
    "# average = (a+b+c)/3\n",
    "# print(average)\n",
    "\n",
    "# a = 34\n",
    "# b = 2\n",
    "# c = 56\n",
    "\n",
    "# average = (a+b+c)/3\n",
    "# print(average)\n",
    "\n",
    "#instead of above\n",
    "\n",
    "# Function definition for calculating the average of three numbers\n",
    "def avg():\n",
    "    # Taking input for the first number and converting it to an integer\n",
    "    a = int(input(\"Enter your number: \"))\n",
    "    # Taking input for the second number and converting it to an integer\n",
    "    b = int(input(\"Enter your number: \"))\n",
    "    # Taking input for the third number and converting it to an integer\n",
    "    c = int(input(\"Enter your number: \"))\n",
    "    \n",
    "    # Calculating the average of the three numbers\n",
    "    average = (a + b + c) / 3\n",
    "    # Printing the calculated average along with the input numbers\n",
    "    print(f\"average of {a} {b} {c} = {average}\")\n",
    "\n",
    "# Calling the avg function to execute the code\n",
    "avg()\n",
    "avg()\n",
    "\n"
   ]
  },
  {
   "cell_type": "code",
   "execution_count": 2,
   "metadata": {},
   "outputs": [
    {
     "name": "stdout",
     "output_type": "stream",
     "text": [
      "Hello, World!\n"
     ]
    }
   ],
   "source": [
    "\n",
    "def greet():\n",
    "    print(\"Hello, World!\")\n",
    "    \n",
    "greet()  # Output: Hello, World!\n"
   ]
  },
  {
   "cell_type": "markdown",
   "metadata": {},
   "source": [
    "---\n",
    "### Why Use Functions?\n",
    "- Reusability: Write once, use many times.\n",
    "- Modularity: Break down complex problems into simpler, manageable parts.\n",
    "- Readability: Makes code easier to understand and maintain.\n",
    "- Debugging: Easier to debug small sections of code than a large, monolithic block."
   ]
  },
  {
   "cell_type": "markdown",
   "metadata": {},
   "source": [
    "Quick Quiz: Write a program to greet a user with “Good day” using functions."
   ]
  },
  {
   "cell_type": "code",
   "execution_count": 3,
   "metadata": {},
   "outputs": [
    {
     "name": "stdout",
     "output_type": "stream",
     "text": [
      "Good Day\n"
     ]
    }
   ],
   "source": [
    "def goodDay():\n",
    "    print(\"Good Day\")\n",
    "\n",
    "goodDay()"
   ]
  },
  {
   "cell_type": "markdown",
   "metadata": {},
   "source": [
    "---\n",
    "### Types of Functions in Python\n",
    "#### 1. Built-in Functions:\n",
    "Predefined functions provided by Python, such as print(), len(), type(), etc.\n",
    "\n",
    "#### 2. User-defined Functions:\n",
    "Functions created by the user.\n"
   ]
  },
  {
   "cell_type": "markdown",
   "metadata": {},
   "source": [
    "---\n",
    "### Examples of Functions"
   ]
  },
  {
   "cell_type": "code",
   "execution_count": 4,
   "metadata": {},
   "outputs": [
    {
     "name": "stdout",
     "output_type": "stream",
     "text": [
      "Hello, World!\n"
     ]
    }
   ],
   "source": [
    "# Function definition with no parameters and no return value\n",
    "def greet():\n",
    "    # Printing a simple greeting message\n",
    "    print(\"Hello, World!\")\n",
    "\n",
    "# Calling the greet function\n",
    "greet()  # Output: \"Hello, World!\"\n"
   ]
  },
  {
   "cell_type": "markdown",
   "metadata": {},
   "source": [
    "----\n",
    "#### FUNCTIONS WITH ARGUMENTS\n",
    "A function can accept some value it can work with. We can put these values in the parentheses.\n",
    "A function can also return value as shown below:"
   ]
  },
  {
   "cell_type": "code",
   "execution_count": 5,
   "metadata": {},
   "outputs": [
    {
     "name": "stdout",
     "output_type": "stream",
     "text": [
      "12\n"
     ]
    }
   ],
   "source": [
    "# Function definition to multiply two numbers and return the result\n",
    "def multiply(a, b):\n",
    "    # Returning the result of multiplying the two input values\n",
    "    return a * b\n",
    "\n",
    "# Calling the multiply function with 3 and 4 as arguments\n",
    "result = multiply(3, 4)\n",
    "\n",
    "# Printing the result of the multiplication\n",
    "print(result)  # Output: 12\n"
   ]
  },
  {
   "cell_type": "code",
   "execution_count": 6,
   "metadata": {},
   "outputs": [
    {
     "name": "stdout",
     "output_type": "stream",
     "text": [
      "HelloGuru\n"
     ]
    }
   ],
   "source": [
    "# Function definition that greets a person with their name\n",
    "def greet(name):\n",
    "    # Concatenating \"Hello\" with the provided name and storing it in the variable 'gr'\n",
    "    gr = \"Hello\" + name\n",
    "    # Returning the greeting message stored in 'gr'\n",
    "    return gr\n",
    "\n",
    "# Calling the greet function with \"uru\" as the argument and storing the result in variable 'a'\n",
    "a = greet(\"Guru\")\n",
    "\n",
    "# Printing the result stored in 'a'\n",
    "print(a)  # Output: \"Hellouru\"\n"
   ]
  },
  {
   "cell_type": "code",
   "execution_count": 7,
   "metadata": {},
   "outputs": [
    {
     "name": "stdout",
     "output_type": "stream",
     "text": [
      "Good Day, Guru\n",
      "Thank you\n",
      "ok\n"
     ]
    }
   ],
   "source": [
    "# Function definition that greets a person and prints a custom ending\n",
    "def goodDay(name, ending):\n",
    "    # Printing a greeting message with the provided name\n",
    "    print(\"Good Day, \" + name)\n",
    "    # Printing the ending message\n",
    "    print(ending)\n",
    "    # Returning the string \"ok\" after the greeting and ending\n",
    "    return \"ok\"\n",
    "\n",
    "# Calling the goodDay function with arguments \"Guru\" for the name and \"Thank you\" for the ending\n",
    "a = goodDay(\"Guru\", \"Thank you\")  # This will print the greeting and return \"ok\"\n",
    "\n",
    "# Printing the value returned by the goodDay function\n",
    "print(a)  # Output: \"ok\", because that’s what is returned by the function\n"
   ]
  },
  {
   "cell_type": "markdown",
   "metadata": {},
   "source": [
    "---\n",
    "#### DEFAULT PARAMETER VALUE\n",
    "We can have a value as default as default argument in a function.\n",
    "If we specify name = “stranger” in the line containing def, this value is used when no argument is passed.\n"
   ]
  },
  {
   "cell_type": "code",
   "execution_count": 8,
   "metadata": {},
   "outputs": [
    {
     "name": "stdout",
     "output_type": "stream",
     "text": [
      "Hello, Guru!\n",
      "Hello, Guest!\n"
     ]
    }
   ],
   "source": [
    "# Function definition for greeting a user with a default name\n",
    "def greet_user(name=\"Guest\"):\n",
    "    # Printing a personalized greeting message using the provided name or the default name\n",
    "    print(f\"Hello, {name}!\")\n",
    "\n",
    "# Calling the greet_user function with \"Guru\" as the argument for name\n",
    "greet_user(\"Guru\")  # Output: \"Hello, Guru!\" because \"Guru\" is passed as the argument\n",
    "\n",
    "# Calling the greet_user function without passing any argument, so it uses the default \"Guest\"\n",
    "greet_user()  # Output: \"Hello, Guest!\" because no name is provided, and the default is used\n"
   ]
  },
  {
   "cell_type": "code",
   "execution_count": 9,
   "metadata": {},
   "outputs": [
    {
     "name": "stdout",
     "output_type": "stream",
     "text": [
      "Hello, stranger\n",
      "Hello, Guru\n"
     ]
    }
   ],
   "source": [
    "# Function definition for greeting someone with a default name\n",
    "def greet(name = \"stranger\"):\n",
    "    # Printing the greeting message using the provided name or the default name if not provided\n",
    "    print(f\"Hello, {name}\")\n",
    "\n",
    "# Calling the greet function without passing any argument, so it uses the default \"stranger\"\n",
    "greet()  # Output: \"Hello, stranger\"\n",
    "\n",
    "# Calling the greet function with the name \"Guru\" as an argument\n",
    "greet(\"Guru\")  # Output: \"Hello, Guru\"\n"
   ]
  },
  {
   "cell_type": "code",
   "execution_count": 10,
   "metadata": {},
   "outputs": [
    {
     "name": "stdout",
     "output_type": "stream",
     "text": [
      "Good Day, Guru\n",
      "Thanks\n",
      "Good Day, Rohan\n",
      "Thank you\n"
     ]
    }
   ],
   "source": [
    "# Function definition for greeting someone with a customizable ending message\n",
    "def goodDay(name, ending=\"Thank you\"):\n",
    "    # Printing the greeting message using the provided name\n",
    "    print(f\"Good Day, {name}\")\n",
    "    # Printing the ending message (default is \"Thank you\" if not provided)\n",
    "    print(ending)\n",
    "\n",
    "# Calling the goodDay function with both name and a custom ending message\n",
    "goodDay(\"Guru\", \"Thanks\")  # Output: \"Good Day, Guru\" followed by \"Thanks\"\n",
    "\n",
    "# Calling the goodDay function with only the name; it uses the default ending message\n",
    "goodDay(\"Rohan\")  # Output: \"Good Day, Rohan\" followed by \"Thank you\"\n"
   ]
  },
  {
   "cell_type": "code",
   "execution_count": 11,
   "metadata": {},
   "outputs": [
    {
     "name": "stdout",
     "output_type": "stream",
     "text": [
      "25\n"
     ]
    }
   ],
   "source": [
    "# Using Return\n",
    "# Function definition for calculating the square of a number\n",
    "def square(number):\n",
    "    # The function takes an input number and returns its square (number raised to the power of 2)\n",
    "    return number ** 2\n",
    "\n",
    "# Calling the square function with the argument 5\n",
    "result = square(5)\n",
    "# The result variable stores the value returned by the square function\n",
    "\n",
    "# Printing the result of squaring the number 5\n",
    "print(result)  # Output: 25\n",
    "\n"
   ]
  }
 ],
 "metadata": {
  "kernelspec": {
   "display_name": "Python 3",
   "language": "python",
   "name": "python3"
  },
  "language_info": {
   "codemirror_mode": {
    "name": "ipython",
    "version": 3
   },
   "file_extension": ".py",
   "mimetype": "text/x-python",
   "name": "python",
   "nbconvert_exporter": "python",
   "pygments_lexer": "ipython3",
   "version": "3.12.8"
  }
 },
 "nbformat": 4,
 "nbformat_minor": 2
}
