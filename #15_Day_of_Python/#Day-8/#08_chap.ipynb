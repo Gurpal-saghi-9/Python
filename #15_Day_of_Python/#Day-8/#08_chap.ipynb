{
 "cells": [
  {
   "cell_type": "markdown",
   "metadata": {},
   "source": [
    "# *** CHAPTER 8 – FUNCTIONS & RECURSIONS ***\n",
    "---"
   ]
  },
  {
   "cell_type": "markdown",
   "metadata": {},
   "source": [
    "## Function:- \n",
    "A function in Python is a block of organized, reusable code that performs a specific task. Functions allow you to write modular code, making your programs easier to read, maintain, and reuse.\n",
    "\n",
    "### Syntax of a Function\n",
    "```python\n",
    "def function_name(parameters):\n",
    "    # Function body\n",
    "    return value  # Optional\n",
    "```\n",
    "\n",
    "### Key Points\n",
    "- def keyword: Used to define a function.\n",
    "- Function name: A unique identifier for the function.\n",
    "- Parameters: Optional inputs to the function, enclosed in parentheses. A function can have none, one, or multiple parameters.\n",
    "- Function body: Contains the code that the function executes.\n",
    "- Return statement: Optional; used to send the result of the function back to the caller.\n",
    "\n",
    "### EXAMPLE\n",
    "``` python\n",
    "def greet():\n",
    "    print(\"Hello, World!\")\n",
    "    \n",
    "greet()  # Output: Hello, World!\n",
    "```"
   ]
  },
  {
   "cell_type": "code",
   "execution_count": 1,
   "metadata": {},
   "outputs": [
    {
     "name": "stdout",
     "output_type": "stream",
     "text": [
      "Hello, World!\n"
     ]
    }
   ],
   "source": []
  }
 ],
 "metadata": {
  "kernelspec": {
   "display_name": "Python 3",
   "language": "python",
   "name": "python3"
  },
  "language_info": {
   "codemirror_mode": {
    "name": "ipython",
    "version": 3
   },
   "file_extension": ".py",
   "mimetype": "text/x-python",
   "name": "python",
   "nbconvert_exporter": "python",
   "pygments_lexer": "ipython3",
   "version": "3.12.8"
  }
 },
 "nbformat": 4,
 "nbformat_minor": 2
}
