{
 "cells": [
  {
   "cell_type": "markdown",
   "metadata": {},
   "source": [
    "# *** CHAPTER 8 – FUNCTIONS & RECURSIONS ***\n",
    "---"
   ]
  },
  {
   "cell_type": "markdown",
   "metadata": {},
   "source": [
    "## Function:- \n",
    "A function in Python is a block of organized, reusable code that performs a specific task. Functions allow you to write modular code, making your programs easier to read, maintain, and reuse.\n",
    "\n",
    "### Syntax of a Function\n",
    "```python\n",
    "def function_name(parameters):\n",
    "    # Function body\n",
    "    return value  # Optional\n",
    "```\n",
    "\n",
    "### Key Points\n",
    "- def keyword: Used to define a function.\n",
    "- Function name: A unique identifier for the function.\n",
    "- Parameters: Optional inputs to the function, enclosed in parentheses. A function can have none, one, or multiple parameters.\n",
    "- Function body: Contains the code that the function executes.\n",
    "- Return statement: Optional; used to send the result of the function back to the caller."
   ]
  },
  {
   "cell_type": "code",
   "execution_count": null,
   "metadata": {
    "vscode": {
     "languageId": "plaintext"
    }
   },
   "outputs": [],
   "source": []
  }
 ],
 "metadata": {
  "language_info": {
   "name": "python"
  }
 },
 "nbformat": 4,
 "nbformat_minor": 2
}
