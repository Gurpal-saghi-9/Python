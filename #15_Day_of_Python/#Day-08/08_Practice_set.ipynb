{
 "cells": [
  {
   "cell_type": "markdown",
   "metadata": {},
   "source": [
    "# *** CHAPTER 8 – PRACTICE SET ***\n",
    "---"
   ]
  },
  {
   "cell_type": "markdown",
   "metadata": {},
   "source": [
    "1. Write a program using functions to find greatest of three numbers"
   ]
  },
  {
   "cell_type": "code",
   "execution_count": 5,
   "metadata": {},
   "outputs": [
    {
     "name": "stdout",
     "output_type": "stream",
     "text": [
      "46 is greatest from given numbers\n"
     ]
    }
   ],
   "source": [
    "def greatest(n1, n2,n3):\n",
    "    if n1 > n2 and n1 > n3:\n",
    "        print(f\"{n1} is gratest from given numbers\")\n",
    "    elif n2 > n1 and n2 > n3:\n",
    "        print(f\"{n2} is greatest from given numbers\")\n",
    "    elif n3 > n1 and n3 > n2:\n",
    "        print(f\"{n3} is greatest from given number\")\n",
    "\n",
    "n1 = 32\n",
    "n2 = 46\n",
    "n3 = 41\n",
    "\n",
    "greatest(n1, n2, n3)"
   ]
  },
  {
   "cell_type": "markdown",
   "metadata": {},
   "source": [
    "2. Write a python program using function to convert Celsius to Fahrenheit."
   ]
  },
  {
   "cell_type": "code",
   "execution_count": 12,
   "metadata": {},
   "outputs": [
    {
     "name": "stdout",
     "output_type": "stream",
     "text": [
      "37.78C\n"
     ]
    }
   ],
   "source": [
    "def f_to_c(t):\n",
    "    return 5*(t-32)/9\n",
    "\n",
    "temp = int(input(\"Enter a temprature in F: \"))\n",
    "\n",
    "cel = f_to_c(temp)\n",
    "\n",
    "print(f\"{round(cel, 2)} °C\")"
   ]
  },
  {
   "cell_type": "markdown",
   "metadata": {},
   "source": [
    "3. How do you prevent a python print() function to print a new line at the end."
   ]
  },
  {
   "cell_type": "code",
   "execution_count": 13,
   "metadata": {},
   "outputs": [
    {
     "name": "stdout",
     "output_type": "stream",
     "text": [
      "a\n",
      "b\n",
      "cd"
     ]
    },
    {
     "data": {
      "text/plain": [
       "(None,)"
      ]
     },
     "execution_count": 13,
     "metadata": {},
     "output_type": "execute_result"
    }
   ],
   "source": [
    "print(\"a\")\n",
    "print(\"b\")\n",
    "print(\"c\", end=\"\")\n",
    "print(\"d\", end=\"\")"
   ]
  },
  {
   "cell_type": "markdown",
   "metadata": {},
   "source": [
    "4. Write a recursive function to calculate the sum of first n natural numbers."
   ]
  },
  {
   "cell_type": "code",
   "execution_count": 14,
   "metadata": {},
   "outputs": [
    {
     "name": "stdout",
     "output_type": "stream",
     "text": [
      "10\n"
     ]
    }
   ],
   "source": [
    "'''\n",
    "sum(1) = 1\n",
    "sum(2) = 1 + 2\n",
    "sum(3) = 1 + 2 + 3\n",
    "sum(4) = 1 + 2 + 3 + 4\n",
    "sum(5) = 1 + 2 + 3 + 4 + 5\n",
    "\n",
    "sum(n) = 1 + 2 + 3 + 4.... n -1 + n\n",
    "sum(n) = sum(n-1) + n\n",
    "'''\n",
    "\n",
    "def sum(n):\n",
    "    if(n==1):\n",
    "        return 1\n",
    "    return sum(n-1) + n\n",
    "\n",
    "print(sum(4))"
   ]
  },
  {
   "cell_type": "markdown",
   "metadata": {},
   "source": [
    "5. Write a python function to print first n lines of the following pattern:\n",
    "``` python\n",
    "***\n",
    "** - for n = 3\n",
    "*"
   ]
  },
  {
   "cell_type": "code",
   "execution_count": 15,
   "metadata": {},
   "outputs": [
    {
     "name": "stdout",
     "output_type": "stream",
     "text": [
      "***\n",
      "**\n",
      "*\n"
     ]
    }
   ],
   "source": [
    "def pattern(n):\n",
    "    if(n==0):\n",
    "        return\n",
    "    print(\"*\" * n)\n",
    "    pattern(n-1)\n",
    "\n",
    "\n",
    "pattern(3)"
   ]
  },
  {
   "cell_type": "markdown",
   "metadata": {},
   "source": [
    "6. Write a python function which converts inches to cms"
   ]
  },
  {
   "cell_type": "code",
   "execution_count": 19,
   "metadata": {},
   "outputs": [
    {
     "name": "stdout",
     "output_type": "stream",
     "text": [
      "The corresponding value in cms is 17.78\n"
     ]
    }
   ],
   "source": [
    "def inch_to_cms(inch):\n",
    "    return inch * 2.54\n",
    "\n",
    "inch = int(input(\"Enter value in inches: \"))\n",
    "\n",
    "cms = inch_to_cms(inch)\n",
    "\n",
    "print (f\"The corresponding value in cms is {cms}\")"
   ]
  },
  {
   "cell_type": "markdown",
   "metadata": {},
   "source": [
    "7. Write a python function to remove a given word from a list ad strip it at the same time."
   ]
  },
  {
   "cell_type": "code",
   "execution_count": 26,
   "metadata": {},
   "outputs": [
    {
     "name": "stdout",
     "output_type": "stream",
     "text": [
      "['guru', 'rohit', 'Ridh', 'soh', 'ritu']\n",
      "['Harry', 'Roh', 'Shubham']\n"
     ]
    }
   ],
   "source": [
    "def rem(l, word):\n",
    "    n = []\n",
    "    for item in l:\n",
    "        # l.remove(word)\n",
    "        if not(item == word):\n",
    "            n.append(item.strip(word))\n",
    "    return n\n",
    "\n",
    "l = [\"guru\", \"rohit\", \"Ridham\", \"soham\", \"ritu\"]\n",
    "print(rem(l, \"am\"))\n",
    "\n",
    "l = [\"Harry\", \"Rohan\", \"Shubham\", \"an\"]\n",
    "\n",
    "print(rem(l, \"an\"))"
   ]
  },
  {
   "cell_type": "markdown",
   "metadata": {},
   "source": [
    "8. Write a python function to print multiplication table of a given number."
   ]
  },
  {
   "cell_type": "code",
   "execution_count": 37,
   "metadata": {},
   "outputs": [
    {
     "name": "stdout",
     "output_type": "stream",
     "text": [
      "6 * 1 = 6\n",
      "6 * 2 = 12\n",
      "6 * 3 = 18\n",
      "6 * 4 = 24\n",
      "6 * 5 = 30\n",
      "6 * 6 = 36\n",
      "6 * 7 = 42\n",
      "6 * 8 = 48\n",
      "6 * 9 = 54\n",
      "6 * 10 = 60\n"
     ]
    }
   ],
   "source": [
    "def multiply(n):\n",
    "    # i = 1\n",
    "    # while(i < 11):\n",
    "    #     print(f\"{n} * {i} = {i*n}\")\n",
    "    #     i += 1\n",
    "\n",
    "    for i in range (1, 11):\n",
    "        print(f\"{n} * {i} = {n * i}\")\n",
    "\n",
    "n = int(input(\"Enter a number: \"))\n",
    "multiply(n)"
   ]
  }
 ],
 "metadata": {
  "kernelspec": {
   "display_name": "Python 3",
   "language": "python",
   "name": "python3"
  },
  "language_info": {
   "codemirror_mode": {
    "name": "ipython",
    "version": 3
   },
   "file_extension": ".py",
   "mimetype": "text/x-python",
   "name": "python",
   "nbconvert_exporter": "python",
   "pygments_lexer": "ipython3",
   "version": "3.12.8"
  }
 },
 "nbformat": 4,
 "nbformat_minor": 2
}
