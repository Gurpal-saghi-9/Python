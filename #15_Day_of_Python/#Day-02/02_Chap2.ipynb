{
 "cells": [
  {
   "cell_type": "markdown",
   "metadata": {},
   "source": [
    "# *** CHAPTER 2 – VARIABLES, DATATYPE, OPERATOR, TYPE FUNC AND INPUT FUNC ***\n",
    "---"
   ]
  },
  {
   "cell_type": "markdown",
   "metadata": {},
   "source": [
    "### 1. A  variable is the name given to a memory location in a program. For example."
   ]
  },
  {
   "cell_type": "code",
   "execution_count": 1,
   "metadata": {},
   "outputs": [
    {
     "name": "stdout",
     "output_type": "stream",
     "text": [
      "3\n",
      "10\n",
      "Gurpal singh\n"
     ]
    }
   ],
   "source": [
    "num1 = 1 # num1 is a variable\n",
    "\n",
    "num2 = 2 # variables = container to store a value.\n",
    "\n",
    "num3 = 7 # keywords = reserved words in python\n",
    "\n",
    "f_num = 71.23 # identifiers = class/function/variable nam\n",
    "\n",
    "name = \"Gurpal singh\"\n",
    "\n",
    "print(num1 + num2)\n",
    "print(num1 + num2 + num3)\n",
    "\n",
    "print(name)"
   ]
  },
  {
   "cell_type": "markdown",
   "metadata": {},
   "source": [
    "### 2. Primarily these are the following data types in Python:\n",
    "    1. Integers\n",
    "    2. Floating point numbers\n",
    "    3. Strings\n",
    "    4. Booleans \n",
    "    5. None\n",
    "    Python is a fantastic language that automatically identifies the type of data for us"
   ]
  },
  {
   "cell_type": "code",
   "execution_count": 2,
   "metadata": {},
   "outputs": [],
   "source": [
    "num1 = 23 # num1 is integer\n",
    "\n",
    "num2 = 3.43 # num2 is floating point number\n",
    "\n",
    "name = \"guru\" # name is string \n",
    "\n",
    "is_student = True # is_student is a boolean variable\n",
    "\n",
    "iv = None # iv is a none type variable"
   ]
  },
  {
   "cell_type": "markdown",
   "metadata": {},
   "source": [
    "#### Rules for defining a variable name \n",
    "- A variable name can contain alphabets, digits, and underscores\n",
    "- A variable name can only start with an alphabet and underscores.\n",
    "- A variable name can’t start with a digit.\n",
    "- No while space is allowed to be used inside a variable name.\n"
   ]
  },
  {
   "cell_type": "code",
   "execution_count": 3,
   "metadata": {},
   "outputs": [],
   "source": [
    "a = 23\n",
    "\n",
    "aaa = 435\n",
    "\n",
    "guru = 34\n",
    "\n",
    "sameer = 45\n",
    "\n",
    "_samerr = 34\n",
    "\n",
    "guru234 = 33\n",
    "\n",
    "# @sameer = 56 # Invalid due to @ symbol\n",
    "# s@meer # Invalid due to @ symbol\n",
    "# gur pal = 33 #invalid due to space\n",
    "# 33gur = 234 # Invalid due to digit at the start"
   ]
  },
  {
   "cell_type": "markdown",
   "metadata": {},
   "source": [
    "### 3. OPERATORS IN PYTHON\n",
    "\n",
    "Following are some common operators in python:\n",
    "1. Arithmetic operators: +, -, *, / etc.\n",
    "2. Assignment operators: =, +=, -= etc.\n",
    "3. Comparison operators: ==, >, >=, <, != etc.\n",
    "4. Logical operators: and, or, not."
   ]
  },
  {
   "cell_type": "code",
   "execution_count": 4,
   "metadata": {},
   "outputs": [
    {
     "name": "stdout",
     "output_type": "stream",
     "text": [
      "Addition of 25 + 34 = 59\n",
      "Subtraction of 25 - 34 = -9\n",
      "Division of 45/2 = 22.5\n",
      "Num1 before increment: 25\n",
      "Num1 after increment: 28\n",
      "Num2 before decrement: 34\n",
      "Num2 after decrement: 30\n",
      "False\n",
      "True\n",
      "True or True is  True\n",
      "True or False is  True\n",
      "False or True is  True\n",
      "False or False is  False\n",
      "True and True is  True\n",
      "True and False is  False\n",
      "False and True is  False\n",
      "False and False is  False\n",
      "False\n"
     ]
    }
   ],
   "source": [
    "# Arithmetic Operators\n",
    "\n",
    "num1 = 25\n",
    "num2 = 34\n",
    "add = num1 + num2\n",
    "sub = num1 - num2\n",
    "print(f\"Addition of {num1} + {num2} = {add}\")\n",
    "print(f\"Subtraction of {num1} - {num2} = {sub}\")\n",
    "\n",
    "# Assignment Operator\n",
    "\n",
    "num = 45 / 2 # Assign 45/2 in num\n",
    "print(f\"Division of 45/2 = {num}\")\n",
    "\n",
    "dig = 56 # normal assignment of the data to the variable\n",
    "\n",
    "print(f\"Num1 before increment: {num1}\")\n",
    "num1 += 3 # Increment the value of the num1 by 3\n",
    "print(f\"Num1 after increment: {num1}\")\n",
    "\n",
    "print(f\"Num2 before decrement: {num2}\")\n",
    "num2 -= 4 # Decrement the value of the num2 by 3\n",
    "print(f\"Num2 after decrement: {num2}\")\n",
    "\n",
    "# Comparison Operators \n",
    "\n",
    "check1 = 2562 == 5345\n",
    "print(check1)\n",
    "check2 = 45 > 34\n",
    "print(check2)\n",
    "\n",
    "# Logical operators\n",
    "\n",
    "# Truth table of 'or' \n",
    "print(\"True or True is \", True or True)\n",
    "print(\"True or False is \", True or False)\n",
    "print(\"False or True is \", False or True)\n",
    "print(\"False or False is \", False or False)\n",
    "\n",
    "# Truth table of 'and' \n",
    "print(\"True and True is \", True and True)\n",
    "print(\"True and False is \", True and False)\n",
    "print(\"False and True is \", False and True)\n",
    "print(\"False and False is \", False and False)\n",
    "\n",
    "print(not(True))\n",
    "\n"
   ]
  },
  {
   "cell_type": "markdown",
   "metadata": {},
   "source": [
    "### TYPE() FUNCTION AND TYPECASTING.\n",
    "type() function is used to find the data type of a given variable in python."
   ]
  },
  {
   "cell_type": "code",
   "execution_count": 5,
   "metadata": {},
   "outputs": [
    {
     "name": "stdout",
     "output_type": "stream",
     "text": [
      "<class 'int'>\n",
      "<class 'str'>\n",
      "<class 'float'>\n"
     ]
    }
   ],
   "source": [
    "dig = 313\n",
    "print(type(dig)) # class <int>\n",
    "st = \"31\"\n",
    "print(type (st)) # class <str>\n",
    "fl = 31.53\n",
    "print(type (fl)) # <class 'float'>\n"
   ]
  },
  {
   "cell_type": "markdown",
   "metadata": {},
   "source": [
    "- A number can be converted into a string and vice versa (if possible)\n",
    "- There are many functions to convert one data type into another\n"
   ]
  },
  {
   "cell_type": "code",
   "execution_count": 6,
   "metadata": {},
   "outputs": [
    {
     "name": "stdout",
     "output_type": "stream",
     "text": [
      "313  =  <class 'str'>\n",
      "313  =  <class 'int'>\n",
      "313.0  =  <class 'float'>\n",
      "45  =  <class 'str'>\n",
      "56.78  =  <class 'str'>\n"
     ]
    }
   ],
   "source": [
    "st = \"313\" \n",
    "print(st , \" = \" , type(st)) # class <str>\n",
    "\n",
    "dig = int(st)\n",
    "print(dig , \" = \" , type(dig)) # string to integer conversion\n",
    "\n",
    "fl = float(dig)\n",
    "print(fl , \" = \" , type(fl)) # integer to float conversion\n",
    "\n",
    "i_num = 45\n",
    "f_num = 56.78\n",
    "st = str(i_num)\n",
    "print(st , \" = \" , type(st)) # integer to string conversion\n",
    "\n",
    "st = str(f_num)\n",
    "print(st , \" = \" , type(st)) # float to string conversion\n"
   ]
  },
  {
   "cell_type": "markdown",
   "metadata": {},
   "source": [
    "### INPUT () FUNCTION\n",
    "This function allows the user to take input from the keyboard as a string"
   ]
  },
  {
   "cell_type": "code",
   "execution_count": 7,
   "metadata": {},
   "outputs": [
    {
     "name": "stdout",
     "output_type": "stream",
     "text": [
      "Good Morning, guru\n",
      "12\n",
      "Number num1 is:  5\n",
      "Number num2 is: 7\n",
      "Sum is  12\n"
     ]
    }
   ],
   "source": [
    "name = input(\"Enter Your name: \")\n",
    "print(f\"Good Morning, {name}\")\n",
    "\n",
    "a = input(\"Enter a first number \") # get input as an string of a\n",
    "b = input(\"Enter a second number: \")  # get input as an string of b\n",
    "print(a + b) # its output is concatination on string means if input is 1 and 2 output is 12 \n",
    "\n",
    "num1 = int(input(\"Enter number 1: \"))\n",
    "\n",
    "num2 = int(input(\"Enter number 2: \"))\n",
    "\n",
    "print(\"Number num1 is: \", num1)\n",
    "print(f\"Number num2 is: {num2}\") \n",
    "print(\"Sum is \", num1 + num2)"
   ]
  },
  {
   "cell_type": "markdown",
   "metadata": {},
   "source": [
    "It is important to note that the output of input is always a string (even is a number is entered)."
   ]
  }
 ],
 "metadata": {
  "kernelspec": {
   "display_name": "Python 3",
   "language": "python",
   "name": "python3"
  },
  "language_info": {
   "codemirror_mode": {
    "name": "ipython",
    "version": 3
   },
   "file_extension": ".py",
   "mimetype": "text/x-python",
   "name": "python",
   "nbconvert_exporter": "python",
   "pygments_lexer": "ipython3",
   "version": "3.12.8"
  }
 },
 "nbformat": 4,
 "nbformat_minor": 2
}
