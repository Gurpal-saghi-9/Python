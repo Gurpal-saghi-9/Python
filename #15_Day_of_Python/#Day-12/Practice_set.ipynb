{
 "cells": [
  {
   "cell_type": "markdown",
   "metadata": {},
   "source": [
    "# *** CHAPTER 12 – PRACTICE SET ***\n",
    "---"
   ]
  },
  {
   "cell_type": "markdown",
   "metadata": {},
   "source": [
    "1. Write a program to open three files 1.txt, 2.txt and 3.txt if any these files are not present, a message without exiting the program must be printed prompting the same."
   ]
  },
  {
   "cell_type": "code",
   "execution_count": 1,
   "metadata": {},
   "outputs": [
    {
     "name": "stdout",
     "output_type": "stream",
     "text": [
      "[Errno 2] No such file or directory: '1.txt'\n",
      "[Errno 2] No such file or directory: '2.txt'\n",
      "[Errno 2] No such file or directory: '3.txt'\n",
      "Thank You!\n"
     ]
    }
   ],
   "source": [
    "\n",
    "try:\n",
    "    with open(\"1.txt\", \"r\") as f:\n",
    "        print(f.read())\n",
    "except Exception as e:\n",
    "    print(e)\n",
    "\n",
    "try:\n",
    "    with open(\"2.txt\", \"r\") as f:\n",
    "        print(f.read())\n",
    "except Exception as e:\n",
    "    print(e)\n",
    "\n",
    "try:\n",
    "    with open(\"3.txt\", \"r\") as f:\n",
    "        print(f.read())\n",
    "except Exception as e:\n",
    "    print(e)\n",
    "\n",
    "\n",
    "print(\"Thank You!\")"
   ]
  },
  {
   "cell_type": "code",
   "execution_count": 2,
   "metadata": {},
   "outputs": [
    {
     "name": "stdout",
     "output_type": "stream",
     "text": [
      "1.txt not found.\n",
      "2.txt not found.\n",
      "3.txt not found.\n"
     ]
    }
   ],
   "source": [
    "filenames = ['1.txt', '2.txt', '3.txt']\n",
    "\n",
    "for filename in filenames:\n",
    "    try:\n",
    "        with open(filename, 'r') as file:\n",
    "            print(f\"{filename} opened successfully.\")\n",
    "    except FileNotFoundError:\n",
    "        print(f\"{filename} not found.\")"
   ]
  },
  {
   "cell_type": "markdown",
   "metadata": {},
   "source": [
    "2. Write a program to print third, fifth and seventh element from a list using enumerate function"
   ]
  },
  {
   "cell_type": "code",
   "execution_count": 4,
   "metadata": {},
   "outputs": [
    {
     "name": "stdout",
     "output_type": "stream",
     "text": [
      "3\n",
      "5\n",
      "7\n"
     ]
    }
   ],
   "source": [
    "l = [1, 2, 3, 4, 5, 6 ,7 , 8]\n",
    "\n",
    "for i, item in enumerate(l):\n",
    "    if i == 2 or i == 4 or i == 6:\n",
    "        print(item)"
   ]
  },
  {
   "cell_type": "code",
   "execution_count": 3,
   "metadata": {},
   "outputs": [
    {
     "name": "stdout",
     "output_type": "stream",
     "text": [
      "Element at index 3: 30\n",
      "Element at index 5: 50\n",
      "Element at index 7: 70\n"
     ]
    }
   ],
   "source": [
    "my_list = [10, 20, 30, 40, 50, 60, 70, 80, 90, 100]\n",
    "\n",
    "for index, value in enumerate(my_list):\n",
    "    if index in [2, 4, 6]:\n",
    "        print(f\"Element at index {index + 1}: {value}\")"
   ]
  },
  {
   "cell_type": "markdown",
   "metadata": {},
   "source": [
    "3. Write a list comprehension to print a list which contains the multiplication table of a user entered number."
   ]
  },
  {
   "cell_type": "code",
   "execution_count": null,
   "metadata": {},
   "outputs": [],
   "source": [
    "n = int(input(\"Enter a number: \"))\n",
    "\n",
    "table = [n*i for i in range(1, 11)]\n",
    "print(table)"
   ]
  },
  {
   "cell_type": "code",
   "execution_count": 5,
   "metadata": {},
   "outputs": [
    {
     "name": "stdout",
     "output_type": "stream",
     "text": [
      "[5, 10, 15, 20, 25, 30, 35, 40, 45, 50]\n"
     ]
    }
   ],
   "source": [
    "number = int(input(\"Enter a number: \"))\n",
    "multiplication_table = [number * i for i in range(1, 11)]\n",
    "print(multiplication_table)"
   ]
  },
  {
   "cell_type": "markdown",
   "metadata": {},
   "source": [
    "4. Write a program to display a/b where a and b are integers. If b=0, display infinite by handling the ‘ZeroDivisionError’"
   ]
  },
  {
   "cell_type": "code",
   "execution_count": 11,
   "metadata": {},
   "outputs": [
    {
     "name": "stdout",
     "output_type": "stream",
     "text": [
      "8 / 0 = Infinite\n"
     ]
    }
   ],
   "source": [
    "try:\n",
    "    a = int(input(\"Enter a: \"))\n",
    "    b = int(input(\"Enter b: \"))\n",
    "    print(f\"{a} / {b} = {round(a/b)}\")\n",
    "except ZeroDivisionError as v:\n",
    "    print(f\"{a} / {b} = Infinite\")"
   ]
  },
  {
   "cell_type": "code",
   "execution_count": 9,
   "metadata": {},
   "outputs": [
    {
     "name": "stdout",
     "output_type": "stream",
     "text": [
      "The result of 5/0 is: infinite\n"
     ]
    }
   ],
   "source": [
    "a = int(input(\"Enter the value of a: \"))\n",
    "b = int(input(\"Enter the value of b: \"))\n",
    "\n",
    "try:\n",
    "    result = a / b\n",
    "except ZeroDivisionError:\n",
    "    result = \"infinite\"\n",
    "\n",
    "print(f\"The result of {a}/{b} is: {result}\")"
   ]
  },
  {
   "cell_type": "markdown",
   "metadata": {},
   "source": [
    "5. Store the multiplication tables generated in problem 3 in a file named Tables.txt"
   ]
  },
  {
   "cell_type": "code",
   "execution_count": 12,
   "metadata": {},
   "outputs": [],
   "source": [
    "n = int(input(\"Enter a number: \"))\n",
    "\n",
    "table = [n*i for i in range(1, 11)]\n",
    "with open(\"tables.txt\", \"a\") as f:\n",
    "    f.write(f\"Table of {n}: {str(table)} \\n\")"
   ]
  },
  {
   "cell_type": "code",
   "execution_count": 13,
   "metadata": {},
   "outputs": [
    {
     "name": "stdout",
     "output_type": "stream",
     "text": [
      "Multiplication table of 8 has been written to Tables.txt\n"
     ]
    }
   ],
   "source": [
    "number = int(input(\"Enter a number: \"))\n",
    "multiplication_table = [number * i for i in range(1, 11)]\n",
    "\n",
    "with open(\"Tables.txt\", \"w\") as file:\n",
    "    for value in multiplication_table:\n",
    "        file.write(f\"{value}\\n\")\n",
    "\n",
    "print(f\"Multiplication table of {number} has been written to Tables.txt\")"
   ]
  }
 ],
 "metadata": {
  "kernelspec": {
   "display_name": "Python 3",
   "language": "python",
   "name": "python3"
  },
  "language_info": {
   "codemirror_mode": {
    "name": "ipython",
    "version": 3
   },
   "file_extension": ".py",
   "mimetype": "text/x-python",
   "name": "python",
   "nbconvert_exporter": "python",
   "pygments_lexer": "ipython3",
   "version": "3.12.8"
  }
 },
 "nbformat": 4,
 "nbformat_minor": 2
}
