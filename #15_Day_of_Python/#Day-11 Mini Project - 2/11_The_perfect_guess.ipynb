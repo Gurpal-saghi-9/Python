{
 "cells": [
  {
   "cell_type": "markdown",
   "metadata": {},
   "source": [
    "# *** PROJECT 2 – THE PERFECT GUESS ***\n",
    "---\n",
    "\n",
    "We are going to write a program that generates a random number and asks the user to guess it.\n",
    "If the player’s guess is higher than the actualnumber, the program displays “Lower number please”. Similarly, if the user’s guess is too low, the program prints “higher number please” When the user guesses the correct number, the program displays the number of guesses the player used to arrive at the number.\n",
    "\n",
    "Hint: Use the random module"
   ]
  },
  {
   "cell_type": "code",
   "execution_count": 4,
   "metadata": {},
   "outputs": [
    {
     "name": "stdout",
     "output_type": "stream",
     "text": [
      "You guess 56! Higher number Please\n",
      "You guess 78! Higher number Please\n",
      "You guess 89! Lower number please\n",
      "You guess 85! Lower number please\n",
      "You guess 80! Higher number Please\n",
      "You guess 84! Lower number please\n",
      "You guess 83! Lower number please\n",
      "You have guessed the number 82 correctly in 8 attempts\n"
     ]
    }
   ],
   "source": [
    "import random\n",
    "n = random.randint(1, 100) \n",
    "a = -1\n",
    "guesses = 1\n",
    "while(a != n):\n",
    "    a = int(input(\"Guess the number: \")) \n",
    "    if(a >n):\n",
    "        print(f\"You guess {a}! Lower number please\")\n",
    "        guesses +=1\n",
    "    elif(a<n):\n",
    "        print(f\"You guess {a}! Higher number Please\")\n",
    "        guesses +=1\n",
    "\n",
    "print(f\"You have guessed the number {n} correctly in {guesses} attempts\")"
   ]
  }
 ],
 "metadata": {
  "kernelspec": {
   "display_name": "Python 3",
   "language": "python",
   "name": "python3"
  },
  "language_info": {
   "codemirror_mode": {
    "name": "ipython",
    "version": 3
   },
   "file_extension": ".py",
   "mimetype": "text/x-python",
   "name": "python",
   "nbconvert_exporter": "python",
   "pygments_lexer": "ipython3",
   "version": "3.12.8"
  }
 },
 "nbformat": 4,
 "nbformat_minor": 2
}
