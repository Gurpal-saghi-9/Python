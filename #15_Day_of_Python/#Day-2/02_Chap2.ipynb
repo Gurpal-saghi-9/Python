{
 "cells": [
  {
   "cell_type": "markdown",
   "metadata": {},
   "source": [
    "# *** CHAPTER 2 – VARIABLES AND DATATYPE ***\n",
    "---"
   ]
  },
  {
   "cell_type": "markdown",
   "metadata": {},
   "source": [
    "### 1. A  variable is the name given to a memory location in a program. For example."
   ]
  },
  {
   "cell_type": "code",
   "execution_count": 4,
   "metadata": {},
   "outputs": [
    {
     "name": "stdout",
     "output_type": "stream",
     "text": [
      "3\n",
      "10\n",
      "Gurpal singh\n"
     ]
    }
   ],
   "source": [
    "num1 = 1 # num1 is a variable\n",
    "\n",
    "num2 = 2 # variables = container to store a value.\n",
    "\n",
    "num3 = 7 # keywords = reserved words in python\n",
    "\n",
    "f_num = 71.23 # identifiers = class/function/variable nam\n",
    "\n",
    "name = \"Gurpal singh\"\n",
    "\n",
    "print(num1 + num2)\n",
    "print(num1 + num2 + num3)\n",
    "\n",
    "print(name)"
   ]
  },
  {
   "cell_type": "markdown",
   "metadata": {},
   "source": [
    "### 2. rimarily these are the following data types in Python:\n",
    "    1. Integers\n",
    "    2. Floating point numbers\n",
    "    3. Strings\n",
    "    4. Booleans \n",
    "    5. None\n",
    "Python is a fantastic language that automatically identifies the type of data for us"
   ]
  }
 ],
 "metadata": {
  "kernelspec": {
   "display_name": "Python 3",
   "language": "python",
   "name": "python3"
  },
  "language_info": {
   "codemirror_mode": {
    "name": "ipython",
    "version": 3
   },
   "file_extension": ".py",
   "mimetype": "text/x-python",
   "name": "python",
   "nbconvert_exporter": "python",
   "pygments_lexer": "ipython3",
   "version": "3.12.8"
  }
 },
 "nbformat": 4,
 "nbformat_minor": 2
}
