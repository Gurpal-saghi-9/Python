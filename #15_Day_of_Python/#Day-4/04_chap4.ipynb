{
 "cells": [
  {
   "cell_type": "markdown",
   "metadata": {},
   "source": [
    "# *** CHAPTER 4 – LISTS AND TUPLES ***"
   ]
  },
  {
   "cell_type": "markdown",
   "metadata": {},
   "source": [
    "### Lists :- \n",
    "             A list is a versatile, ordered, and mutable collection in Python that can hold elements of different data types (integers, strings, floats, objects, etc.).\n",
    "\n",
    "lst = [\"apple\",\"akash\",\"rohan\",7,false]"
   ]
  },
  {
   "cell_type": "code",
   "execution_count": null,
   "metadata": {},
   "outputs": [],
   "source": [
    "## Creating list \n",
    "\n",
    "# Empty list\n",
    "my_list = []\n",
    "\n",
    "# List with mixed data types\n",
    "my_list = [1, \"Hello\", 3.14, True]\n",
    "\n",
    "# Nested lists\n",
    "nested_list = [1, [2, 3], [4, 5, 6]]\n"
   ]
  },
  {
   "cell_type": "markdown",
   "metadata": {},
   "source": [
    "Accessing Elements\n",
    "- Lists are indexed starting from 0.\n",
    "- Negative indices start from the end."
   ]
  },
  {
   "cell_type": "code",
   "execution_count": 2,
   "metadata": {},
   "outputs": [
    {
     "name": "stdout",
     "output_type": "stream",
     "text": [
      "10\n",
      "50\n",
      "[20, 30, 40]\n",
      "[10, 20, 30]\n"
     ]
    }
   ],
   "source": [
    "my_list = [10, 20, 30, 40, 50]\n",
    "\n",
    "# Access by index\n",
    "print(my_list[0])    # Output: 10\n",
    "print(my_list[-1])   # Output: 50\n",
    "# print(my_list[10])   # output: error\n",
    "\n",
    "# Slicing\n",
    "print(my_list[1:4])  # Output: [20, 30, 40]\n",
    "print(my_list[:3])   # Output: [10, 20, 30]\n"
   ]
  }
 ],
 "metadata": {
  "kernelspec": {
   "display_name": "Python 3",
   "language": "python",
   "name": "python3"
  },
  "language_info": {
   "codemirror_mode": {
    "name": "ipython",
    "version": 3
   },
   "file_extension": ".py",
   "mimetype": "text/x-python",
   "name": "python",
   "nbconvert_exporter": "python",
   "pygments_lexer": "ipython3",
   "version": "3.12.8"
  }
 },
 "nbformat": 4,
 "nbformat_minor": 2
}
