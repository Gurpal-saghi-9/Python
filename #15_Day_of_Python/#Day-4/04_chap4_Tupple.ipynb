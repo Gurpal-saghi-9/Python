{
 "cells": [
  {
   "cell_type": "markdown",
   "metadata": {},
   "source": [
    "# *** CHAPTER 4 – Tupples ***\n",
    "---"
   ]
  },
  {
   "cell_type": "markdown",
   "metadata": {},
   "source": [
    "### Tupples :- \n",
    "A tuple is an immutable sequence in Python, meaning its elements cannot be changed, added, or removed once it is created. Tuples are often used to store collections of items that should not be modified, ensuring data integrity.\n",
    "\n",
    "a = () # empty tuple\n",
    "a = (1,) # tuple with only one element needs a comma\n",
    "a = (1,7,2) # tuple with more than one element"
   ]
  },
  {
   "cell_type": "code",
   "execution_count": 5,
   "metadata": {},
   "outputs": [
    {
     "name": "stdout",
     "output_type": "stream",
     "text": [
      "<class 'tuple'>\n",
      "<class 'int'>\n",
      "<class 'tuple'>\n",
      "<class 'tuple'>\n"
     ]
    }
   ],
   "source": [
    "a = (1, 5, 7, 9)\n",
    "print(type(a))\n",
    "\n",
    "a =(1)\n",
    "print(type(a)) # output is int because its just like integer in Parentheses\n",
    "a = (1,)\n",
    "print(type(a))\n",
    "\n",
    "a = (1,45,342,234,False, \"rohan\", )\n",
    "print(type(a))\n"
   ]
  },
  {
   "cell_type": "markdown",
   "metadata": {},
   "source": [
    "### Creating Tupple"
   ]
  },
  {
   "cell_type": "code",
   "execution_count": 8,
   "metadata": {},
   "outputs": [
    {
     "name": "stdout",
     "output_type": "stream",
     "text": [
      "<class 'tuple'>\n",
      "(1, 2, 3) \n",
      "\n",
      "<class 'tuple'>\n",
      "(1, 2, 3) \n",
      "\n",
      "<class 'tuple'>\n",
      "(1,) \n",
      "\n",
      "<class 'tuple'>\n",
      "() \n",
      "\n",
      "<class 'tuple'>\n",
      "(1, 2, (3, 4)) \n",
      "\n"
     ]
    }
   ],
   "source": [
    "# Basic Tuple\n",
    "my_tuple = (1, 2, 3)\n",
    "print(type(my_tuple))\n",
    "print(my_tuple,\"\\n\")  # Output: (1, 2, 3)\n",
    "\n",
    "# Without Parentheses (Comma-separated values)\n",
    "my_tuple = 1, 2, 3\n",
    "print(type(my_tuple))\n",
    "print(my_tuple,\"\\n\")  # Output: (1, 2, 3)\n",
    "\n",
    "# Single-element Tuple Add a trailing comma for single-element tuples:\n",
    "single_tuple = (1,)\n",
    "print(type(my_tuple))\n",
    "print(single_tuple,\"\\n\")  # Output: (1,)\n",
    "\n",
    "# Empty Tuple\n",
    "empty_tuple = ()\n",
    "print(type(my_tuple))\n",
    "print(empty_tuple,\"\\n\")  # Output: ()\n",
    "\n",
    "# Nested Tuple\n",
    "nested_tuple = (1, 2, (3, 4))\n",
    "print(type(my_tuple))\n",
    "print(nested_tuple,\"\\n\")  # Output: (1, 2, (3, 4))"
   ]
  }
 ],
 "metadata": {
  "kernelspec": {
   "display_name": "Python 3",
   "language": "python",
   "name": "python3"
  },
  "language_info": {
   "codemirror_mode": {
    "name": "ipython",
    "version": 3
   },
   "file_extension": ".py",
   "mimetype": "text/x-python",
   "name": "python",
   "nbconvert_exporter": "python",
   "pygments_lexer": "ipython3",
   "version": "3.12.8"
  }
 },
 "nbformat": 4,
 "nbformat_minor": 2
}
