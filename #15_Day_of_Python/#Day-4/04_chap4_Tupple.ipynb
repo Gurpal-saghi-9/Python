{
 "cells": [
  {
   "cell_type": "markdown",
   "metadata": {},
   "source": [
    "# *** CHAPTER 4 – Tupples ***\n",
    "---"
   ]
  },
  {
   "cell_type": "markdown",
   "metadata": {},
   "source": [
    "### Tupples :- \n",
    "A tuple is an immutable sequence in Python, meaning its elements cannot be changed, added, or removed once it is created. Tuples are often used to store collections of items that should not be modified, ensuring data integrity.\n",
    "\n",
    "a = () # empty tuple\n",
    "a = (1,) # tuple with only one element needs a comma\n",
    "a = (1,7,2) # tuple with more than one element"
   ]
  },
  {
   "cell_type": "code",
   "execution_count": 1,
   "metadata": {},
   "outputs": [
    {
     "name": "stdout",
     "output_type": "stream",
     "text": [
      "<class 'tuple'>\n",
      "<class 'int'>\n",
      "<class 'tuple'>\n",
      "<class 'tuple'>\n"
     ]
    }
   ],
   "source": [
    "a = (1, 5, 7, 9)\n",
    "print(type(a))\n",
    "\n",
    "a =(1)\n",
    "print(type(a)) # output is int because its just like integer in Parentheses\n",
    "a = (1,)\n",
    "print(type(a))\n",
    "\n",
    "a = (1,45,342,234,False, \"rohan\", )\n",
    "print(type(a))\n"
   ]
  },
  {
   "cell_type": "markdown",
   "metadata": {},
   "source": [
    "### Creating Tupple"
   ]
  },
  {
   "cell_type": "code",
   "execution_count": 2,
   "metadata": {},
   "outputs": [
    {
     "name": "stdout",
     "output_type": "stream",
     "text": [
      "<class 'tuple'>\n",
      "(1, 2, 3) \n",
      "\n",
      "<class 'tuple'>\n",
      "(1, 2, 3) \n",
      "\n",
      "<class 'tuple'>\n",
      "(1,) \n",
      "\n",
      "<class 'tuple'>\n",
      "() \n",
      "\n",
      "<class 'tuple'>\n",
      "(1, 2, (3, 4)) \n",
      "\n"
     ]
    }
   ],
   "source": [
    "# Basic Tuple\n",
    "my_tuple = (1, 2, 3)\n",
    "print(type(my_tuple))\n",
    "print(my_tuple,\"\\n\")  # Output: (1, 2, 3)\n",
    "\n",
    "# Without Parentheses (Comma-separated values)\n",
    "my_tuple = 1, 2, 3\n",
    "print(type(my_tuple))\n",
    "print(my_tuple,\"\\n\")  # Output: (1, 2, 3)\n",
    "\n",
    "# Single-element Tuple Add a trailing comma for single-element tuples:\n",
    "single_tuple = (1,)\n",
    "print(type(my_tuple))\n",
    "print(single_tuple,\"\\n\")  # Output: (1,)\n",
    "\n",
    "# Empty Tuple\n",
    "empty_tuple = ()\n",
    "print(type(my_tuple))\n",
    "print(empty_tuple,\"\\n\")  # Output: ()\n",
    "\n",
    "# Nested Tuple\n",
    "nested_tuple = (1, 2, (3, 4))\n",
    "print(type(my_tuple))\n",
    "print(nested_tuple,\"\\n\")  # Output: (1, 2, (3, 4))"
   ]
  },
  {
   "cell_type": "markdown",
   "metadata": {},
   "source": [
    "### Accessing Elements in Tuples"
   ]
  },
  {
   "cell_type": "code",
   "execution_count": 3,
   "metadata": {},
   "outputs": [
    {
     "name": "stdout",
     "output_type": "stream",
     "text": [
      "10\n",
      "30\n",
      "(20, 30, 40)\n",
      "1 2 3\n",
      "3\n"
     ]
    }
   ],
   "source": [
    "# Indexing\n",
    "my_tuple = (10, 20, 30)\n",
    "print(my_tuple[0])  # Output: 10\n",
    "print(my_tuple[-1])  # Output: 30\n",
    "\n",
    "# Slicing\n",
    "my_tuple = (10, 20, 30, 40, 50)\n",
    "print(my_tuple[1:4])  # Output: (20, 30, 40)\n",
    "\n",
    "# Unpacking\n",
    "my_tuple = (1, 2, 3)\n",
    "a, b, c = my_tuple\n",
    "print(a, b, c)  # Output: 1 2 3\n",
    "print(c) # Output: 3"
   ]
  },
  {
   "cell_type": "markdown",
   "metadata": {},
   "source": [
    "---\n",
    "# ** Tupple Methods **\n",
    "---"
   ]
  },
  {
   "cell_type": "markdown",
   "metadata": {},
   "source": [
    "- list.count(): Counts the number of occurrences of an element."
   ]
  },
  {
   "cell_type": "code",
   "execution_count": 4,
   "metadata": {},
   "outputs": [
    {
     "name": "stdout",
     "output_type": "stream",
     "text": [
      "2\n"
     ]
    }
   ],
   "source": [
    "my_tuple = (1, 2, 2, 3)\n",
    "\n",
    "print(my_tuple.count(2))  # Output: 2"
   ]
  },
  {
   "cell_type": "markdown",
   "metadata": {},
   "source": [
    "- list.index(): Returns the index of the first occurrence of an element."
   ]
  },
  {
   "cell_type": "code",
   "execution_count": 5,
   "metadata": {},
   "outputs": [
    {
     "name": "stdout",
     "output_type": "stream",
     "text": [
      "1\n"
     ]
    }
   ],
   "source": [
    "my_tuple = (10, 20, 30, 20)\n",
    "\n",
    "print(my_tuple.index(20))  # Output: 1"
   ]
  },
  {
   "cell_type": "markdown",
   "metadata": {},
   "source": [
    "---\n",
    "Operation with tupples\n",
    "---"
   ]
  },
  {
   "cell_type": "markdown",
   "metadata": {},
   "source": [
    "-  Concatenation : Combine two tuples using the + operator."
   ]
  },
  {
   "cell_type": "code",
   "execution_count": 6,
   "metadata": {},
   "outputs": [
    {
     "name": "stdout",
     "output_type": "stream",
     "text": [
      "(1, 2, 3, 4)\n"
     ]
    }
   ],
   "source": [
    "t1 = (1, 2)\n",
    "t2 = (3, 4)\n",
    "result = t1 + t2\n",
    "print(result)  # Output: (1, 2, 3, 4)\n"
   ]
  },
  {
   "cell_type": "markdown",
   "metadata": {},
   "source": [
    "- Repetition : Repeat a tuple using the * operator."
   ]
  },
  {
   "cell_type": "code",
   "execution_count": 7,
   "metadata": {},
   "outputs": [
    {
     "name": "stdout",
     "output_type": "stream",
     "text": [
      "(1, 2, 3, 1, 2, 3, 1, 2, 3)\n"
     ]
    }
   ],
   "source": [
    "t = (1, 2, 3)\n",
    "\n",
    "print(t * 3)  # Output: (1, 2, 3, 1, 2, 3, 1, 2, 3)"
   ]
  },
  {
   "cell_type": "markdown",
   "metadata": {},
   "source": [
    "Membership Test : Check if an item exists in a tuple using in."
   ]
  },
  {
   "cell_type": "code",
   "execution_count": 8,
   "metadata": {},
   "outputs": [
    {
     "name": "stdout",
     "output_type": "stream",
     "text": [
      "True\n"
     ]
    }
   ],
   "source": [
    "t = (1,3456, 3456,234,23)\n",
    "\n",
    "print(23 in t)  # Output: True"
   ]
  },
  {
   "cell_type": "markdown",
   "metadata": {},
   "source": [
    "- Length of a Tuple : Use len() to find the number of elements in a tuple."
   ]
  },
  {
   "cell_type": "code",
   "execution_count": 9,
   "metadata": {},
   "outputs": [
    {
     "name": "stdout",
     "output_type": "stream",
     "text": [
      "7\n"
     ]
    }
   ],
   "source": [
    "t = (1, 2, 3, 5,8,20,45)\n",
    "\n",
    "print(len(t))  # Output: 7"
   ]
  },
  {
   "cell_type": "markdown",
   "metadata": {},
   "source": [
    "- Iterating Over a Tuple"
   ]
  },
  {
   "cell_type": "code",
   "execution_count": 10,
   "metadata": {},
   "outputs": [
    {
     "name": "stdout",
     "output_type": "stream",
     "text": [
      "1\n",
      "2\n",
      "3\n"
     ]
    }
   ],
   "source": [
    "t = (1, 2, 3)\n",
    "for item in t:\n",
    "    print(item)\n",
    "# Output:\n",
    "# 1\n",
    "# 2\n",
    "# 3\n"
   ]
  }
 ],
 "metadata": {
  "kernelspec": {
   "display_name": "Python 3",
   "language": "python",
   "name": "python3"
  },
  "language_info": {
   "codemirror_mode": {
    "name": "ipython",
    "version": 3
   },
   "file_extension": ".py",
   "mimetype": "text/x-python",
   "name": "python",
   "nbconvert_exporter": "python",
   "pygments_lexer": "ipython3",
   "version": "3.12.8"
  }
 },
 "nbformat": 4,
 "nbformat_minor": 2
}
