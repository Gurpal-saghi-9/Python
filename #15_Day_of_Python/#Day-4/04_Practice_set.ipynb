{
 "cells": [
  {
   "cell_type": "markdown",
   "metadata": {},
   "source": [
    "# *** CHAPTER 4 - PRACTICE SET ***\n",
    "---"
   ]
  },
  {
   "cell_type": "markdown",
   "metadata": {},
   "source": [
    "1. Write a program to store seven fruits in a list entered by the user."
   ]
  },
  {
   "cell_type": "code",
   "execution_count": 1,
   "metadata": {},
   "outputs": [
    {
     "name": "stdout",
     "output_type": "stream",
     "text": [
      "['Apple', 'Mango', 'Date', 'Grape', 'Banana', 'Watermellon', 'Muskmelon']\n"
     ]
    }
   ],
   "source": [
    "fruits = []\n",
    "\n",
    "f1 = input(\"Enter Fruit name: \")\n",
    "fruits.append(f1)\n",
    "f2 = input(\"Enter Fruit name: \")\n",
    "fruits.append(f2)\n",
    "f3 = input(\"Enter Fruit name: \")\n",
    "fruits.append(f3)\n",
    "f4 = input(\"Enter Fruit name: \")\n",
    "fruits.append(f4)\n",
    "f5 = input(\"Enter Fruit name: \")\n",
    "fruits.append(f5)\n",
    "f6 = input(\"Enter Fruit name: \")\n",
    "fruits.append(f6)\n",
    "f7 = input(\"Enter Fruit name: \")\n",
    "fruits.append(f7)\n",
    "\n",
    "print(fruits)\n",
    " "
   ]
  },
  {
   "cell_type": "code",
   "execution_count": 2,
   "metadata": {},
   "outputs": [
    {
     "name": "stdout",
     "output_type": "stream",
     "text": [
      "The list of fruits you entered is: ['Cherry', 'Lichi', 'Grape', 'Almond', 'Date', 'Apple', 'Mango']\n"
     ]
    }
   ],
   "source": [
    "# Create an empty list to store the fruits\n",
    "fruits = []\n",
    "\n",
    "# Loop to get 7 fruits from the user\n",
    "for i in range(7):\n",
    "    fruit = input(f\"Enter the name of fruit {i + 1}: \")\n",
    "    fruits.append(fruit)\n",
    "\n",
    "# Print the list of fruits\n",
    "print(\"The list of fruits you entered is:\", fruits)\n"
   ]
  },
  {
   "cell_type": "markdown",
   "metadata": {},
   "source": [
    "2. Write a program to accept marks of 6 students and display them in a sorted manner."
   ]
  },
  {
   "cell_type": "code",
   "execution_count": 3,
   "metadata": {},
   "outputs": [
    {
     "name": "stdout",
     "output_type": "stream",
     "text": [
      "[28, 46, 76, 58, 4, 56]\n",
      "[4, 28, 46, 56, 58, 76]\n"
     ]
    }
   ],
   "source": [
    "marks = []\n",
    "\n",
    "f1 = int(input(\"Enter Marks here: \"))\n",
    "marks.append(f1)\n",
    "f2 = int(input(\"Enter Marks here: \"))\n",
    "marks.append(f2)\n",
    "f3 = int(input(\"Enter Marks here: \"))\n",
    "marks.append(f3)\n",
    "f4 = int(input(\"Enter Marks here: \"))\n",
    "marks.append(f4)\n",
    "f5 = int(input(\"Enter Marks here: \"))\n",
    "marks.append(f5)\n",
    "f6 = int(input(\"Enter Marks here: \"))\n",
    "marks.append(f6)\n",
    "\n",
    "print(marks)\n",
    "\n",
    "marks.sort()\n",
    "\n",
    "print(marks)"
   ]
  },
  {
   "cell_type": "code",
   "execution_count": 4,
   "metadata": {},
   "outputs": [
    {
     "name": "stdout",
     "output_type": "stream",
     "text": [
      "Sorted marks of students: [3.0, 28.0, 45.0, 46.0, 76.0, 76.0]\n"
     ]
    }
   ],
   "source": [
    "# Create an empty list to store the marks\n",
    "marks = []\n",
    "\n",
    "# Loop to get marks of 6 students from the user\n",
    "for i in range(6):\n",
    "    mark = float(input(f\"Enter marks for student {i + 1}: \"))\n",
    "    marks.append(mark)\n",
    "\n",
    "# Sort the list of marks\n",
    "marks.sort()\n",
    "\n",
    "# Display the sorted marks\n",
    "print(\"Sorted marks of students:\", marks)\n"
   ]
  },
  {
   "cell_type": "markdown",
   "metadata": {},
   "source": [
    "3. Check that a tuple type cannot be changed in python."
   ]
  },
  {
   "cell_type": "code",
   "execution_count": 5,
   "metadata": {},
   "outputs": [
    {
     "ename": "TypeError",
     "evalue": "'tuple' object does not support item assignment",
     "output_type": "error",
     "traceback": [
      "\u001b[1;31m---------------------------------------------------------------------------\u001b[0m",
      "\u001b[1;31mTypeError\u001b[0m                                 Traceback (most recent call last)",
      "Cell \u001b[1;32mIn[5], line 3\u001b[0m\n\u001b[0;32m      1\u001b[0m a \u001b[38;5;241m=\u001b[39m (\u001b[38;5;241m34\u001b[39m, \u001b[38;5;241m234\u001b[39m, \u001b[38;5;124m\"\u001b[39m\u001b[38;5;124mHarry\u001b[39m\u001b[38;5;124m\"\u001b[39m)\n\u001b[1;32m----> 3\u001b[0m \u001b[43ma\u001b[49m\u001b[43m[\u001b[49m\u001b[38;5;241;43m2\u001b[39;49m\u001b[43m]\u001b[49m \u001b[38;5;241m=\u001b[39m \u001b[38;5;124m\"\u001b[39m\u001b[38;5;124mLarry\u001b[39m\u001b[38;5;124m\"\u001b[39m\n",
      "\u001b[1;31mTypeError\u001b[0m: 'tuple' object does not support item assignment"
     ]
    }
   ],
   "source": [
    "a = (34, 234, \"Harry\")\n",
    "\n",
    "a[2] = \"Larry\""
   ]
  },
  {
   "cell_type": "markdown",
   "metadata": {},
   "source": [
    "4. Write a program to sum a list with 4 numbers."
   ]
  },
  {
   "cell_type": "code",
   "execution_count": 6,
   "metadata": {},
   "outputs": [
    {
     "name": "stdout",
     "output_type": "stream",
     "text": [
      "12\n"
     ]
    }
   ],
   "source": [
    "l = [3, 3, 5, 1]\n",
    "\n",
    "\n",
    "print(sum(l))\n"
   ]
  },
  {
   "cell_type": "code",
   "execution_count": 7,
   "metadata": {},
   "outputs": [
    {
     "name": "stdout",
     "output_type": "stream",
     "text": [
      "The sum of the numbers is: 24.0\n"
     ]
    }
   ],
   "source": [
    "# Create an empty list to store the numbers\n",
    "numbers = []\n",
    "\n",
    "# Loop to get 4 numbers from the user\n",
    "for i in range(4):\n",
    "    num = float(input(f\"Enter number {i + 1}: \"))\n",
    "    numbers.append(num)\n",
    "\n",
    "# Calculate the sum of the list\n",
    "total_sum = sum(numbers)\n",
    "\n",
    "# Display the sum\n",
    "print(\"The sum of the numbers is:\", total_sum)"
   ]
  },
  {
   "cell_type": "markdown",
   "metadata": {},
   "source": [
    "5. Write a program to count the number of zeros in the following tuple:\n",
    "a = (7, 0, 8, 0, 0, 9)"
   ]
  },
  {
   "cell_type": "code",
   "execution_count": 8,
   "metadata": {},
   "outputs": [
    {
     "name": "stdout",
     "output_type": "stream",
     "text": [
      "3\n"
     ]
    }
   ],
   "source": [
    "a = (7, 0, 8, 0, 0, 9)\n",
    "\n",
    "count = a.count(0)\n",
    "print(count)"
   ]
  },
  {
   "cell_type": "code",
   "execution_count": 9,
   "metadata": {},
   "outputs": [
    {
     "name": "stdout",
     "output_type": "stream",
     "text": [
      "Number of zeros in the tuple: 3\n"
     ]
    }
   ],
   "source": [
    "# Given tuple\n",
    "a = (7, 0, 8, 0, 0, 9)\n",
    "\n",
    "# Count the number of zeros using the count() method\n",
    "zero_count = a.count(0)\n",
    "\n",
    "# Display the count of zeros\n",
    "print(\"Number of zeros in the tuple:\", zero_count)\n"
   ]
  }
 ],
 "metadata": {
  "kernelspec": {
   "display_name": "Python 3",
   "language": "python",
   "name": "python3"
  },
  "language_info": {
   "codemirror_mode": {
    "name": "ipython",
    "version": 3
   },
   "file_extension": ".py",
   "mimetype": "text/x-python",
   "name": "python",
   "nbconvert_exporter": "python",
   "pygments_lexer": "ipython3",
   "version": "3.12.8"
  }
 },
 "nbformat": 4,
 "nbformat_minor": 2
}
