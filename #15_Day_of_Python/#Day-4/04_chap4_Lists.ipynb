{
 "cells": [
  {
   "cell_type": "markdown",
   "metadata": {},
   "source": [
    "# *** CHAPTER 4 – LISTS ***\n",
    "---"
   ]
  },
  {
   "cell_type": "markdown",
   "metadata": {},
   "source": [
    "### Lists :- \n",
    "A list is a versatile, ordered, and mutable collection in Python that can hold elements of different data types (integers, strings, floats, objects, etc.).\n",
    "\n",
    "lst = [\"apple\",\"akash\",\"rohan\",7,false]"
   ]
  },
  {
   "cell_type": "code",
   "execution_count": null,
   "metadata": {},
   "outputs": [],
   "source": [
    "## Creating list \n",
    "\n",
    "# Empty list\n",
    "my_list = []\n",
    "\n",
    "# List with mixed data types\n",
    "my_list = [\"apple\",\"akash\",\"rohan\",7,false]\n",
    "\n",
    "# Nested lists\n",
    "nested_list = [1, [2, 3], [4, 5, 6]]\n"
   ]
  },
  {
   "cell_type": "markdown",
   "metadata": {},
   "source": [
    "### Accessing Elements\n",
    "- Lists are indexed starting from 0.\n",
    "- Negative indices start from the end."
   ]
  },
  {
   "cell_type": "code",
   "execution_count": 2,
   "metadata": {},
   "outputs": [
    {
     "name": "stdout",
     "output_type": "stream",
     "text": [
      "10\n",
      "50\n",
      "[20, 30, 40]\n",
      "[10, 20, 30]\n"
     ]
    }
   ],
   "source": [
    "my_list = [10, 20, 30, 40, 50]\n",
    "\n",
    "# Access by index\n",
    "print(my_list[0])    # Output: 10\n",
    "print(my_list[-1])   # Output: 50\n",
    "# print(my_list[10])   # output: error\n",
    "\n",
    "# Slicing\n",
    "print(my_list[1:4])  # Output: [20, 30, 40]\n",
    "print(my_list[:3])   # Output: [10, 20, 30]\n"
   ]
  },
  {
   "cell_type": "markdown",
   "metadata": {},
   "source": [
    "### Modifying a List\n",
    "- Lists are mutable, so you can add, remove, or update elements."
   ]
  },
  {
   "cell_type": "code",
   "execution_count": 4,
   "metadata": {},
   "outputs": [
    {
     "name": "stdout",
     "output_type": "stream",
     "text": [
      "[10, 25, 30]\n"
     ]
    }
   ],
   "source": [
    "# Updating an element\n",
    "my_list = [10, 20, 30]\n",
    "my_list[1] = 25\n",
    "print(my_list)  # Output: [10, 25, 30]"
   ]
  },
  {
   "cell_type": "markdown",
   "metadata": {},
   "source": [
    "---"
   ]
  },
  {
   "cell_type": "markdown",
   "metadata": {},
   "source": [
    "# ** Methods of Lists **\n",
    "---"
   ]
  },
  {
   "cell_type": "markdown",
   "metadata": {},
   "source": [
    "- list.append(x) : This function Adds an element to the end of the list."
   ]
  },
  {
   "cell_type": "code",
   "execution_count": 2,
   "metadata": {},
   "outputs": [
    {
     "name": "stdout",
     "output_type": "stream",
     "text": [
      "['ram', 33, 'sham', 34, 'sita', 35]\n"
     ]
    }
   ],
   "source": [
    "lst = [\"ram\", 33, \"sham\", 34, \"sita\"]\n",
    "\n",
    "lst.append(35)\n",
    "print(lst)"
   ]
  },
  {
   "cell_type": "markdown",
   "metadata": {},
   "source": [
    "- Lists.insert(i, x) : Inserts an element x at index i. Other elements shift to the right."
   ]
  },
  {
   "cell_type": "code",
   "execution_count": 26,
   "metadata": {},
   "outputs": [
    {
     "name": "stdout",
     "output_type": "stream",
     "text": [
      "[1, 10, 2, 3]\n"
     ]
    }
   ],
   "source": [
    "lst = [1, 2, 3]\n",
    "\n",
    "lst.insert(1,10)  \n",
    "\n",
    "print(lst)  # Output: [1, 10, 2, 3]"
   ]
  },
  {
   "cell_type": "markdown",
   "metadata": {},
   "source": [
    "- list.extend(iterable) : Adds all elements of an iterable (e.g., list, tuple) to the end of the list."
   ]
  },
  {
   "cell_type": "code",
   "execution_count": 21,
   "metadata": {},
   "outputs": [
    {
     "name": "stdout",
     "output_type": "stream",
     "text": [
      "[1, 2, 3, 4, 5, True]\n"
     ]
    }
   ],
   "source": [
    "lst = [1, 2, 3]\n",
    "\n",
    "lst.extend([4, 5, True])  # Add elements from another list\n",
    "\n",
    "print(lst)  # Output: [1, 2, 3, 4, 5, True]"
   ]
  },
  {
   "cell_type": "markdown",
   "metadata": {},
   "source": [
    "- list.remove(x) : Removes the first occurrence of the element x. Raises an error if x is not found."
   ]
  },
  {
   "cell_type": "code",
   "execution_count": 8,
   "metadata": {},
   "outputs": [
    {
     "name": "stdout",
     "output_type": "stream",
     "text": [
      "[1, 3, 2]\n"
     ]
    }
   ],
   "source": [
    "lst = [1, 2, 3, 2]\n",
    "\n",
    "lst.remove(2)  # Removes the first 2\n",
    "print(lst)  # Output: [1, 3, 2]\n",
    "\n",
    "# lst.remove(5)\n",
    "# print(lst) # showing an error"
   ]
  },
  {
   "cell_type": "markdown",
   "metadata": {},
   "source": [
    "- list.pop([i]) : Removes and returns the element at index i. If no index is specified, removes the last element."
   ]
  },
  {
   "cell_type": "code",
   "execution_count": 11,
   "metadata": {},
   "outputs": [
    {
     "name": "stdout",
     "output_type": "stream",
     "text": [
      "[1, 3]\n",
      "[1]\n"
     ]
    }
   ],
   "source": [
    "lst = [1, 2, 3]\n",
    "\n",
    "lst.pop(1)  # Remove the element at index 1\n",
    "print(lst)  # Output: [1, 3]\n",
    "\n",
    "lst.pop()\n",
    "print(lst)  # Output: [1]\n"
   ]
  },
  {
   "cell_type": "markdown",
   "metadata": {},
   "source": [
    "- list.clear() : Removes all elements from the list."
   ]
  },
  {
   "cell_type": "code",
   "execution_count": 12,
   "metadata": {},
   "outputs": [
    {
     "name": "stdout",
     "output_type": "stream",
     "text": [
      "[]\n"
     ]
    }
   ],
   "source": [
    "lst = [1, 2, 3]\n",
    "\n",
    "lst.clear()\n",
    "print(lst)  # Output: []"
   ]
  },
  {
   "cell_type": "markdown",
   "metadata": {},
   "source": [
    "- lst.sort() : Sorts the list in place in ascending order by default. Can take a key function for custom sorting."
   ]
  },
  {
   "cell_type": "code",
   "execution_count": 24,
   "metadata": {},
   "outputs": [
    {
     "name": "stdout",
     "output_type": "stream",
     "text": [
      "[1, 2, 3]\n",
      "['Bob', 'Eve', 'Alice']\n"
     ]
    }
   ],
   "source": [
    "lst = [3, 1, 2]\n",
    "\n",
    "lst.sort()\n",
    "print(lst)  # Output: [1, 2, 3]\n",
    "\n",
    "# mix_list = [\"g\", 1, 5, True, None]\n",
    "# mix_list.sort()    # showing an error\n",
    "# print(mix_list)\n",
    "\n",
    "# Custom sorting by string length\n",
    "names = [\"Alice\", \"Bob\", \"Eve\"]\n",
    "\n",
    "names.sort(key=len)\n",
    "print(names)  # Output: ['Bob', 'Eve', 'Alice']\n"
   ]
  },
  {
   "cell_type": "markdown",
   "metadata": {},
   "source": [
    "- list.reverse() : Reverses the order of the list in place."
   ]
  },
  {
   "cell_type": "code",
   "execution_count": 25,
   "metadata": {},
   "outputs": [
    {
     "name": "stdout",
     "output_type": "stream",
     "text": [
      "[3, 2, 1]\n"
     ]
    }
   ],
   "source": [
    "lst = [1, 2, 3]\n",
    "\n",
    "lst.reverse()\n",
    "print(lst)  # Output: [3, 2, 1]\n"
   ]
  },
  {
   "cell_type": "markdown",
   "metadata": {},
   "source": [
    "- list.copy() : Creates a shallow copy of the list. Changes to the new list will not affect the original."
   ]
  },
  {
   "cell_type": "code",
   "execution_count": 14,
   "metadata": {},
   "outputs": [
    {
     "name": "stdout",
     "output_type": "stream",
     "text": [
      "[1, 2, 3]\n",
      "[1, 2, 3, 4]\n"
     ]
    }
   ],
   "source": [
    "lst = [1, 2, 3]\n",
    "new_lst = lst.copy()\n",
    "\n",
    "new_lst.append(4)\n",
    "\n",
    "print(lst)      # Output: [1, 2, 3]\n",
    "print(new_lst)  # Output: [1, 2, 3, 4]\n"
   ]
  },
  {
   "cell_type": "markdown",
   "metadata": {},
   "source": [
    "- list.index(x) : Returns the index of the first occurrence of x. Raises an error if x is not found."
   ]
  },
  {
   "cell_type": "code",
   "execution_count": 15,
   "metadata": {},
   "outputs": [
    {
     "name": "stdout",
     "output_type": "stream",
     "text": [
      "1\n"
     ]
    }
   ],
   "source": [
    "lst = [1, 2, 3, 2]\n",
    "\n",
    "index = lst.index(2)\n",
    "\n",
    "print(index)  # Output: 1"
   ]
  },
  {
   "cell_type": "markdown",
   "metadata": {},
   "source": [
    "- list.count(x) : Counts the number of occurrences of x in the list."
   ]
  },
  {
   "cell_type": "code",
   "execution_count": 17,
   "metadata": {},
   "outputs": [
    {
     "name": "stdout",
     "output_type": "stream",
     "text": [
      "3\n"
     ]
    }
   ],
   "source": [
    "lst = [1, 2, 2, 3, 2, 6, 8]\n",
    "\n",
    "count = lst.count(2)\n",
    "\n",
    "print(count)  # Output: 3"
   ]
  },
  {
   "cell_type": "markdown",
   "metadata": {},
   "source": [
    "--- \n",
    "### Operations:"
   ]
  },
  {
   "cell_type": "markdown",
   "metadata": {},
   "source": [
    "- Concatenation : Lists can be combined using the + operator."
   ]
  },
  {
   "cell_type": "code",
   "execution_count": null,
   "metadata": {},
   "outputs": [],
   "source": [
    "lst1 = [1, 2]\n",
    "lst2 = [3, 4]\n",
    "\n",
    "result = lst1 + lst2\n",
    "\n",
    "print(result)  # Output: [1, 2, 3, 4]\n"
   ]
  },
  {
   "cell_type": "markdown",
   "metadata": {},
   "source": [
    "- Repetition : Lists can be repeated using the * operator."
   ]
  },
  {
   "cell_type": "code",
   "execution_count": null,
   "metadata": {},
   "outputs": [],
   "source": [
    "lst = [1, 2]\n",
    "\n",
    "result = lst * 3\n",
    "\n",
    "print(result)  # Output: [1, 2, 1, 2, 1, 2]"
   ]
  },
  {
   "cell_type": "markdown",
   "metadata": {},
   "source": [
    "- Membership Test : You can check if an element exists in a list using in or not in."
   ]
  },
  {
   "cell_type": "code",
   "execution_count": null,
   "metadata": {},
   "outputs": [],
   "source": [
    "lst = [1, 2, 3]\n",
    "\n",
    "print(2 in lst)      # Output: True\n",
    "print(4 not in lst)  # Output: True\n"
   ]
  },
  {
   "cell_type": "markdown",
   "metadata": {},
   "source": [
    "- Deleting Elements : You can use del to remove elements by index or slices."
   ]
  },
  {
   "cell_type": "code",
   "execution_count": 27,
   "metadata": {},
   "outputs": [
    {
     "name": "stdout",
     "output_type": "stream",
     "text": [
      "[1, 3, 4]\n",
      "[1]\n"
     ]
    }
   ],
   "source": [
    "lst = [1, 2, 3, 4]\n",
    "\n",
    "del lst[1]  # Removes the element at index 1\n",
    "print(lst)  # Output: [1, 3, 4]\n",
    "\n",
    "del lst[1:]  # Removes all elements from index 1 onward\n",
    "print(lst)  # Output: [1]"
   ]
  }
 ],
 "metadata": {
  "kernelspec": {
   "display_name": "Python 3",
   "language": "python",
   "name": "python3"
  },
  "language_info": {
   "codemirror_mode": {
    "name": "ipython",
    "version": 3
   },
   "file_extension": ".py",
   "mimetype": "text/x-python",
   "name": "python",
   "nbconvert_exporter": "python",
   "pygments_lexer": "ipython3",
   "version": "3.12.8"
  }
 },
 "nbformat": 4,
 "nbformat_minor": 2
}
