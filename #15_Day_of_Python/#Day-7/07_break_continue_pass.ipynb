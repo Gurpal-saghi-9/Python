{
 "cells": [
  {
   "cell_type": "markdown",
   "metadata": {},
   "source": [
    "# *** Break, Continue and Pass ***\n",
    "---"
   ]
  },
  {
   "cell_type": "markdown",
   "metadata": {},
   "source": [
    "## Break in Python\n",
    "\n",
    "The `break` statement in Python is used to terminate a loop prematurely when a specific condition is met. Once the `break` statement is executed, the program exits the loop immediately and continues with the next part of the code after the loop.\n",
    "\n",
    "### How `break` Works\n",
    "- Can be used in both `for` and `while` loops.\n",
    "- Typically paired with an `if` condition to decide when to break out of the loop.\n",
    "\n",
    "### Syntax\n",
    "\n",
    "```python\n",
    "# Example with for loop\n",
    "for item in sequence:\n",
    "    if condition:\n",
    "        break  # Exits the loop\n",
    "\n",
    "# Example with while loop\n",
    "while condition:\n",
    "    if condition:\n",
    "        break  # Exits the loop\n"
   ]
  }
 ],
 "metadata": {
  "language_info": {
   "name": "python"
  }
 },
 "nbformat": 4,
 "nbformat_minor": 2
}
