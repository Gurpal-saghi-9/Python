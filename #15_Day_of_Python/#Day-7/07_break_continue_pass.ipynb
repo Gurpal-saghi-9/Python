{
 "cells": [
  {
   "cell_type": "markdown",
   "metadata": {},
   "source": [
    "# *** Break, Continue and Pass ***\n",
    "---"
   ]
  },
  {
   "cell_type": "markdown",
   "metadata": {},
   "source": [
    "## Break in Python\n",
    "\n",
    "The `break` statement in Python is used to terminate a loop prematurely when a specific condition is met. Once the `break` statement is executed, the program exits the loop immediately and continues with the next part of the code after the loop.\n",
    "\n",
    "### How `break` Works\n",
    "- Can be used in both `for` and `while` loops.\n",
    "- Typically paired with an `if` condition to decide when to break out of the loop.\n",
    "\n",
    "### Syntax\n",
    "\n",
    "```python\n",
    "# Example with for loop\n",
    "for item in sequence:\n",
    "    if condition:\n",
    "        break  # Exits the loop\n",
    "\n",
    "# Example with while loop\n",
    "while condition:\n",
    "    if condition:\n",
    "        break  # Exits the loop\n"
   ]
  },
  {
   "cell_type": "code",
   "execution_count": 2,
   "metadata": {},
   "outputs": [
    {
     "name": "stdout",
     "output_type": "stream",
     "text": [
      "0\n",
      "1\n",
      "2\n",
      "3\n",
      "4\n",
      "5\n",
      "6\n",
      "7\n",
      "8\n",
      "9\n"
     ]
    }
   ],
   "source": [
    "#  Breaking a for Loop\n",
    "\n",
    "for i in range(10):\n",
    "    if i == 15:  # Exit loop when i is 5\n",
    "        break\n",
    "    print(i)\n"
   ]
  },
  {
   "cell_type": "code",
   "execution_count": null,
   "metadata": {},
   "outputs": [],
   "source": [
    "# Breaking a while Loop\n",
    "\n",
    "i = 0\n",
    "while i < 10:\n",
    "    print(i)\n",
    "    if i == 6:  # Exit loop when i is 6\n",
    "        break\n",
    "    i += 1\n",
    "\n"
   ]
  },
  {
   "cell_type": "code",
   "execution_count": null,
   "metadata": {},
   "outputs": [],
   "source": [
    "# Searching in a List\n",
    "\n",
    "numbers = [3, 7, 9, 11, 15]\n",
    "target = 9\n",
    "\n",
    "for num in numbers:\n",
    "    if num == target:\n",
    "        print(f\"Found {target}!\")\n",
    "        break\n",
    "else:\n",
    "    print(f\"{target} not found.\")\n"
   ]
  },
  {
   "cell_type": "markdown",
   "metadata": {},
   "source": [
    "---"
   ]
  },
  {
   "cell_type": "markdown",
   "metadata": {},
   "source": [
    "## Continue in Python\n",
    "\n",
    "The `continue` statement in Python is used to skip the current iteration of a loop and proceed to the next iteration. Unlike the `break` statement, which completely exits the loop, the `continue` statement only skips the rest of the code in the current iteration and moves on to the next one.\n",
    "\n",
    "### How `continue` Works\n",
    "- When `continue` is encountered, the loop jumps to the next iteration without executing the remaining code in the current iteration.\n",
    "\n",
    "### Syntax\n",
    "\n",
    "```python\n",
    "# Example with for loop\n",
    "for item in sequence:\n",
    "    if condition:\n",
    "        continue  # Skip to the next iteration of the loop\n",
    "    # Other code\n",
    "\n",
    "# Example with while loop\n",
    "while condition:\n",
    "    if condition:\n",
    "        continue  # Skip to the next iteration of the loop\n",
    "    # Other code\n"
   ]
  }
 ],
 "metadata": {
  "kernelspec": {
   "display_name": "Python 3",
   "language": "python",
   "name": "python3"
  },
  "language_info": {
   "codemirror_mode": {
    "name": "ipython",
    "version": 3
   },
   "file_extension": ".py",
   "mimetype": "text/x-python",
   "name": "python",
   "nbconvert_exporter": "python",
   "pygments_lexer": "ipython3",
   "version": "3.12.8"
  }
 },
 "nbformat": 4,
 "nbformat_minor": 2
}
