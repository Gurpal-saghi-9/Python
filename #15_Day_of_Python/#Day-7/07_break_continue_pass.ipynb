{
 "cells": [
  {
   "cell_type": "markdown",
   "metadata": {},
   "source": [
    "# *** Break, Continue and Pass ***\n",
    "---"
   ]
  },
  {
   "cell_type": "markdown",
   "metadata": {},
   "source": [
    "## Break in Python\n",
    "\n",
    "The `break` statement in Python is used to terminate a loop prematurely when a specific condition is met. Once the `break` statement is executed, the program exits the loop immediately and continues with the next part of the code after the loop.\n",
    "\n",
    "### How `break` Works\n",
    "- Can be used in both `for` and `while` loops.\n",
    "- Typically paired with an `if` condition to decide when to break out of the loop.\n",
    "\n",
    "### Syntax\n",
    "\n",
    "```python\n",
    "# Example with for loop\n",
    "for item in sequence:\n",
    "    if condition:\n",
    "        break  # Exits the loop\n",
    "\n",
    "# Example with while loop\n",
    "while condition:\n",
    "    if condition:\n",
    "        break  # Exits the loop\n"
   ]
  },
  {
   "cell_type": "code",
   "execution_count": 1,
   "metadata": {},
   "outputs": [
    {
     "name": "stdout",
     "output_type": "stream",
     "text": [
      "0\n",
      "1\n",
      "2\n",
      "3\n",
      "4\n",
      "5\n",
      "6\n",
      "7\n",
      "8\n",
      "9\n"
     ]
    }
   ],
   "source": [
    "#  Breaking a for Loop\n",
    "\n",
    "for i in range(10):\n",
    "    if i == 15:  # Exit loop when i is 5\n",
    "        break\n",
    "    print(i)\n"
   ]
  },
  {
   "cell_type": "code",
   "execution_count": 2,
   "metadata": {},
   "outputs": [
    {
     "name": "stdout",
     "output_type": "stream",
     "text": [
      "0\n",
      "1\n",
      "2\n",
      "3\n",
      "4\n",
      "5\n",
      "6\n"
     ]
    }
   ],
   "source": [
    "# Breaking a while Loop\n",
    "\n",
    "i = 0\n",
    "while i < 10:\n",
    "    print(i)\n",
    "    if i == 6:  # Exit loop when i is 6\n",
    "        break\n",
    "    i += 1\n",
    "\n"
   ]
  },
  {
   "cell_type": "code",
   "execution_count": 3,
   "metadata": {},
   "outputs": [
    {
     "name": "stdout",
     "output_type": "stream",
     "text": [
      "Found 9!\n"
     ]
    }
   ],
   "source": [
    "# Searching in a List\n",
    "\n",
    "numbers = [3, 7, 9, 11, 15]\n",
    "target = 9\n",
    "\n",
    "for num in numbers:\n",
    "    if num == target:\n",
    "        print(f\"Found {target}!\")\n",
    "        break\n",
    "else:\n",
    "    print(f\"{target} not found.\")\n"
   ]
  },
  {
   "cell_type": "markdown",
   "metadata": {},
   "source": [
    "---"
   ]
  },
  {
   "cell_type": "markdown",
   "metadata": {},
   "source": [
    "## Continue in Python\n",
    "\n",
    "The `continue` statement in Python is used to skip the current iteration of a loop and proceed to the next iteration. Unlike the `break` statement, which completely exits the loop, the `continue` statement only skips the rest of the code in the current iteration and moves on to the next one.\n",
    "\n",
    "### How `continue` Works\n",
    "- When `continue` is encountered, the loop jumps to the next iteration without executing the remaining code in the current iteration.\n",
    "\n",
    "### Syntax\n",
    "\n",
    "```python\n",
    "# Example with for loop\n",
    "for item in sequence:\n",
    "    if condition:\n",
    "        continue  # Skip to the next iteration of the loop\n",
    "    # Other code\n",
    "\n",
    "# Example with while loop\n",
    "while condition:\n",
    "    if condition:\n",
    "        continue  # Skip to the next iteration of the loop\n",
    "    # Other code\n"
   ]
  },
  {
   "cell_type": "code",
   "execution_count": 4,
   "metadata": {},
   "outputs": [
    {
     "name": "stdout",
     "output_type": "stream",
     "text": [
      "0\n",
      "1\n",
      "2\n",
      "3\n",
      "4\n",
      "6\n",
      "7\n",
      "8\n",
      "9\n"
     ]
    }
   ],
   "source": [
    "# Using continue in a for Loop\n",
    "\n",
    "for i in range(10):\n",
    "    if i == 5:  # Skip when i is 5\n",
    "        continue\n",
    "    print(i)\n",
    "\n",
    "# In this example, when i == 5, the continue statement is triggered, so the print(i) is skipped and the loop moves on to the next iteration."
   ]
  },
  {
   "cell_type": "code",
   "execution_count": 5,
   "metadata": {},
   "outputs": [
    {
     "name": "stdout",
     "output_type": "stream",
     "text": [
      "1\n",
      "2\n",
      "3\n",
      "4\n",
      "6\n",
      "7\n",
      "8\n",
      "9\n",
      "10\n"
     ]
    }
   ],
   "source": [
    "# Using continue in a while Loop\n",
    "\n",
    "i = 0\n",
    "while i < 10:\n",
    "    i += 1\n",
    "    if i == 5:  # Skip when i is 5\n",
    "        continue\n",
    "    print(i)\n",
    "\n",
    "# Here, i == 5 is skipped due to the continue, and the loop continues from the next iteration."
   ]
  },
  {
   "cell_type": "code",
   "execution_count": 6,
   "metadata": {},
   "outputs": [
    {
     "name": "stdout",
     "output_type": "stream",
     "text": [
      "1\n",
      "3\n",
      "5\n",
      "7\n",
      "9\n"
     ]
    }
   ],
   "source": [
    "# Skipping Even Numbers\n",
    "\n",
    "for i in range(10):\n",
    "    if i % 2 == 0:  # Skip even numbers\n",
    "        continue\n",
    "    print(i)\n"
   ]
  },
  {
   "cell_type": "code",
   "execution_count": 7,
   "metadata": {},
   "outputs": [
    {
     "name": "stdout",
     "output_type": "stream",
     "text": [
      "Hello World"
     ]
    }
   ],
   "source": [
    "# Skipping Specific Character in String\n",
    "\n",
    "for char in \"Hello, World!\":\n",
    "    if char == \",\" or char == \"!\":  # Skip commas and exclamation marks\n",
    "        continue\n",
    "    print(char, end=\"\")\n"
   ]
  },
  {
   "cell_type": "markdown",
   "metadata": {},
   "source": [
    "---"
   ]
  },
  {
   "cell_type": "markdown",
   "metadata": {},
   "source": [
    "## Pass in Python\n",
    "\n",
    "The `pass` statement in Python is a null operation — it does nothing when executed. It is often used as a placeholder in situations where syntactically a statement is required but no action is desired or needed.\n",
    "\n",
    "### How `pass` Works\n",
    "- The `pass` statement can be used in loops, functions, conditionals, or classes where code is required syntactically, but you don’t want to implement any functionality at that point in the code.\n",
    "- It is often used as a placeholder while developing code, especially when you're outlining the structure of a program or when you plan to add code later.\n",
    "\n",
    "### Syntax\n",
    "\n",
    "```python\n",
    "# Example with if statement\n",
    "if condition:\n",
    "    pass  # No operation is performed here\n"
   ]
  },
  {
   "cell_type": "code",
   "execution_count": 8,
   "metadata": {},
   "outputs": [],
   "source": [
    "for i in range(645):\n",
    "    pass\n",
    "\n"
   ]
  },
  {
   "cell_type": "code",
   "execution_count": 9,
   "metadata": {},
   "outputs": [
    {
     "name": "stdout",
     "output_type": "stream",
     "text": [
      "0\n",
      "1\n",
      "2\n",
      "4\n"
     ]
    }
   ],
   "source": [
    "# Using pass in a Loop\n",
    "# You can use pass inside a loop when you need to skip certain iterations or leave a part of the loop unimplemented for now.\n",
    "\n",
    "for i in range(5):\n",
    "    if i == 3:\n",
    "        pass  # Do nothing when i is 3\n",
    "    else:\n",
    "        print(i)\n"
   ]
  },
  {
   "cell_type": "code",
   "execution_count": 10,
   "metadata": {},
   "outputs": [],
   "source": [
    "# Using pass in an Empty if Statement\n",
    "# Sometimes, you need a placeholder in an if statement without doing anything yet.\n",
    "\n",
    "x = 10\n",
    "if x > 5:\n",
    "    pass  # Placeholder, nothing happens here yet\n",
    "else:\n",
    "    print(\"x is less than or equal to 5\")\n"
   ]
  }
 ],
 "metadata": {
  "kernelspec": {
   "display_name": "Python 3",
   "language": "python",
   "name": "python3"
  },
  "language_info": {
   "codemirror_mode": {
    "name": "ipython",
    "version": 3
   },
   "file_extension": ".py",
   "mimetype": "text/x-python",
   "name": "python",
   "nbconvert_exporter": "python",
   "pygments_lexer": "ipython3",
   "version": "3.12.8"
  }
 },
 "nbformat": 4,
 "nbformat_minor": 2
}
