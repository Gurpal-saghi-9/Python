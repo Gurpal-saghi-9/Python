{
 "cells": [
  {
   "cell_type": "markdown",
   "metadata": {},
   "source": [
    "## RANGE FUNCTION IN PYTHON\n",
    "The range() function in python is used to generate a sequence of number.\n",
    "We can also specify the start, stop and step-size as follows:\n",
    "\n",
    "range(start, stop, step_size)\n",
    "// step_size is usually not used with range()\n",
    "\n",
    "- start: The starting value of the sequence (inclusive). Defaults to 0 if not specified.\n",
    "- stop: The ending value of the sequence (exclusive). The loop runs up to this value but does not include it.\n",
    "- step: The increment (or decrement) between values. Defaults to 1 if not specified.\n",
    "\n",
    "---"
   ]
  },
  {
   "cell_type": "code",
   "execution_count": null,
   "metadata": {},
   "outputs": [],
   "source": [
    "# Basic range() Usage\n",
    "for i in range(5):  # Default start is 0, stop is 5, step is 1\n",
    "    print(i)"
   ]
  },
  {
   "cell_type": "code",
   "execution_count": null,
   "metadata": {},
   "outputs": [],
   "source": [
    "# Specifying start and stop\n",
    "for i in range(2, 6):  # Start at 2, stop before 6\n",
    "    print(i)"
   ]
  },
  {
   "cell_type": "code",
   "execution_count": null,
   "metadata": {},
   "outputs": [],
   "source": [
    "# Using step\n",
    "for i in range(1, 10, 2):  # Start at 1, increment by 2, stop before 10\n",
    "    print(i)"
   ]
  },
  {
   "cell_type": "code",
   "execution_count": null,
   "metadata": {},
   "outputs": [],
   "source": [
    "# Negative step for Reverse Ranges\n",
    "for i in range(10, 0, -2):  # Start at 10, decrement by 2, stop before 0\n",
    "    print(i)\n"
   ]
  },
  {
   "cell_type": "code",
   "execution_count": null,
   "metadata": {},
   "outputs": [],
   "source": [
    "# Loop Without Using range()\n",
    "# If you use a list directly, you can skip range():\n",
    "\n",
    "numbers = [10, 20, 30, 40]\n",
    "for i in numbers:\n",
    "    print(i)\n"
   ]
  },
  {
   "cell_type": "markdown",
   "metadata": {},
   "source": [
    "### Practical Applications of range()"
   ]
  },
  {
   "cell_type": "code",
   "execution_count": null,
   "metadata": {},
   "outputs": [],
   "source": [
    "# Printing a Sequence of Numbers\n",
    "\n",
    "for i in range(1, 11):\n",
    "    print(i, end=\" \")  # Print numbers from 1 to 10 on the same line\n"
   ]
  },
  {
   "cell_type": "code",
   "execution_count": 1,
   "metadata": {},
   "outputs": [
    {
     "name": "stdout",
     "output_type": "stream",
     "text": [
      "Sum: 55\n"
     ]
    }
   ],
   "source": [
    "# Sum of First n Numbers\n",
    "\n",
    "n = 10\n",
    "total = 0\n",
    "\n",
    "for i in range(1, n + 1):\n",
    "    total += i\n",
    "\n",
    "print(\"Sum:\", total)\n"
   ]
  },
  {
   "cell_type": "code",
   "execution_count": null,
   "metadata": {},
   "outputs": [],
   "source": [
    "# Iterating Over Indices\n",
    "# You can use range() to iterate through a list by its indices.\n",
    "\n",
    "fruits = [\"apple\", \"banana\", \"cherry\"]\n",
    "\n",
    "for i in range(len(fruits)):\n",
    "    print(f\"Index {i}: {fruits[i]}\")\n"
   ]
  },
  {
   "cell_type": "code",
   "execution_count": null,
   "metadata": {},
   "outputs": [],
   "source": [
    "# Generating Multiplication Tables\n",
    "\n",
    "n = 5  # Number to generate table for\n",
    "\n",
    "for i in range(1, 11):\n",
    "    print(f\"{n} x {i} = {n * i}\")\n"
   ]
  }
 ],
 "metadata": {
  "kernelspec": {
   "display_name": "Python 3",
   "language": "python",
   "name": "python3"
  },
  "language_info": {
   "codemirror_mode": {
    "name": "ipython",
    "version": 3
   },
   "file_extension": ".py",
   "mimetype": "text/x-python",
   "name": "python",
   "nbconvert_exporter": "python",
   "pygments_lexer": "ipython3",
   "version": "3.12.8"
  }
 },
 "nbformat": 4,
 "nbformat_minor": 2
}
