{
 "cells": [
  {
   "cell_type": "markdown",
   "metadata": {},
   "source": [
    "# *** CHAPTER 7 – LOOPS IN PYTHON ***\n",
    "---"
   ]
  },
  {
   "cell_type": "markdown",
   "metadata": {},
   "source": [
    "Sometimes we want to repeat a set of statements in our program. For instance: Print 1 to 1000.\n",
    "Loops make it easy for a programmer to tell the computer which set of instructions to repeat and how!\n",
    "\n",
    "### TYPES OF LOOPS IN PYTHON\n",
    "Primarily there are two types of loops in python.\n",
    "• while loops\n",
    "• for loops"
   ]
  },
  {
   "cell_type": "code",
   "execution_count": 1,
   "metadata": {},
   "outputs": [
    {
     "name": "stdout",
     "output_type": "stream",
     "text": [
      "1\n",
      "2\n",
      "3\n",
      "4\n",
      "5\n",
      "1\n",
      "2\n",
      "3\n",
      "4\n",
      "5\n"
     ]
    }
   ],
   "source": [
    "print(1)\n",
    "print(2)\n",
    "print(3)\n",
    "print(4)\n",
    "print(5)\n",
    "\n",
    "# The same task can be done like this:\n",
    "for i in range(1,6):\n",
    "    print(i)"
   ]
  },
  {
   "cell_type": "markdown",
   "metadata": {},
   "source": [
    "## While Loop:- \n",
    "The while loop in Python is used to execute a block of code repeatedly as long as a specified condition evaluates to True.\n",
    "\n",
    "while condition:\n",
    "    # Code to execute\n",
    "\n",
    "If the loop is entered, the process of [condition check & execution] is continued until the condition becomes False."
   ]
  },
  {
   "cell_type": "code",
   "execution_count": null,
   "metadata": {},
   "outputs": [],
   "source": [
    "# Print numbers from 1 to 5\n",
    "count = 1\n",
    "while count <= 5:\n",
    "    print(count)\n",
    "    count += 1\n"
   ]
  },
  {
   "cell_type": "code",
   "execution_count": 3,
   "metadata": {},
   "outputs": [
    {
     "name": "stdout",
     "output_type": "stream",
     "text": [
      "1 2 3 4 5 6 7 8 9 10 11 12 13 14 15 16 17 18 19 20 21 22 23 24 25 26 27 28 29 30 31 32 33 34 35 36 37 38 39 40 41 42 43 44 45 46 47 48 49 50 "
     ]
    }
   ],
   "source": [
    "# Quick Quiz: Write a program to print 1 to 50 using a while loop\n",
    "i = 1\n",
    "\n",
    "while i <= 50:\n",
    "    print(i , end = \" \")\n",
    "    i += 1"
   ]
  },
  {
   "cell_type": "markdown",
   "metadata": {},
   "source": [
    "Note: If the condition never become false, the loop keeps getting executed."
   ]
  },
  {
   "cell_type": "code",
   "execution_count": 2,
   "metadata": {},
   "outputs": [
    {
     "name": "stdout",
     "output_type": "stream",
     "text": [
      "apple\n",
      "banana\n",
      "cherry\n",
      "date\n"
     ]
    }
   ],
   "source": [
    "#Quick Quiz: Write a program to print the content of a list using while loops.\n",
    "\n",
    "# Define a list\n",
    "my_list = [\"apple\", \"banana\", \"cherry\", \"date\"]\n",
    "\n",
    "# Initialize index\n",
    "i = 0\n",
    "\n",
    "# Use a while loop to iterate through the list\n",
    "while i < len(my_list):\n",
    "    print(my_list[i])\n",
    "    i += 1\n"
   ]
  },
  {
   "cell_type": "markdown",
   "metadata": {},
   "source": [
    "## For Loop\n",
    "The for loop in Python is used to iterate over a sequence (such as a list, tuple, string, or range) and execute a block of code for each element in the sequence.\n",
    "\n",
    "for variable in sequence:\n",
    "    # Code to execute\n",
    "\n"
   ]
  }
 ],
 "metadata": {
  "kernelspec": {
   "display_name": "Python 3",
   "language": "python",
   "name": "python3"
  },
  "language_info": {
   "codemirror_mode": {
    "name": "ipython",
    "version": 3
   },
   "file_extension": ".py",
   "mimetype": "text/x-python",
   "name": "python",
   "nbconvert_exporter": "python",
   "pygments_lexer": "ipython3",
   "version": "3.12.8"
  }
 },
 "nbformat": 4,
 "nbformat_minor": 2
}
