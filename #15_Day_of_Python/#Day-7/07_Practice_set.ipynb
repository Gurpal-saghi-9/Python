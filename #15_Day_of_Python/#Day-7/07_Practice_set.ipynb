{
 "cells": [
  {
   "cell_type": "markdown",
   "metadata": {},
   "source": [
    "# *** CHAPTER 7 – PRACTICE SET ***\n",
    "---"
   ]
  },
  {
   "cell_type": "markdown",
   "metadata": {},
   "source": [
    "1. Write a program to print multiplication table of a given number using for loop."
   ]
  },
  {
   "cell_type": "code",
   "execution_count": null,
   "metadata": {},
   "outputs": [
    {
     "name": "stdout",
     "output_type": "stream",
     "text": [
      "5 x 1 = 5\n",
      "5 x 2 = 10\n",
      "5 x 3 = 15\n",
      "5 x 4 = 20\n",
      "5 x 5 = 25\n",
      "5 x 6 = 30\n",
      "5 x 7 = 35\n",
      "5 x 8 = 40\n",
      "5 x 9 = 45\n",
      "5 x 10 = 50\n"
     ]
    }
   ],
   "source": [
    "n = int(input(\"Enter a number for multiplication table: \"))  # Prompt the user to input a number for the multiplication table\n",
    "\n",
    "# Loop through numbers 1 to 10 to generate the multiplication table\n",
    "for i in range(1, 11):  \n",
    "    print(f\"{n} x {i} = {n * i}\")  # Print the result of multiplying `n` by `i`\n"
   ]
  },
  {
   "cell_type": "markdown",
   "metadata": {},
   "source": [
    "2. Write a program to greet all the person names stored in a list ‘l’ and which starts with S.\n",
    "```python\n",
    "l = [\"Harry\", \"Soham\", \"Sachin\", \"Rahul\"]\n",
    "```"
   ]
  },
  {
   "cell_type": "code",
   "execution_count": 4,
   "metadata": {},
   "outputs": [
    {
     "name": "stdout",
     "output_type": "stream",
     "text": [
      "Hello, Soham\n",
      "Good morning, Soham!\n",
      "Hello, Sachin\n",
      "Good morning, Sachin!\n"
     ]
    }
   ],
   "source": [
    "l = [\"Harry\", \"Soham\", \"Sachin\", \"Rahul\"]  # List of names\n",
    "\n",
    "# Loop through each item in the list `l`\n",
    "for list_item in l:\n",
    "    # Check if the letter \"S\" is in the current list item (case-sensitive)\n",
    "    if \"S\" in list_item:\n",
    "        print(f\"Hello, {list_item}\")  # If \"S\" is found, greet with \"Hello\"\n",
    "\n",
    "    # Check if the current list item starts with the letter \"S\"\n",
    "    if list_item.startswith(\"S\"):\n",
    "        print(f\"Good morning, {list_item}!\")  # If the name starts with \"S\", greet with \"Good morning\"\n"
   ]
  },
  {
   "cell_type": "markdown",
   "metadata": {},
   "source": [
    "3. Attempt problem 1 using while loop."
   ]
  },
  {
   "cell_type": "code",
   "execution_count": 6,
   "metadata": {},
   "outputs": [
    {
     "name": "stdout",
     "output_type": "stream",
     "text": [
      "5 x 1 = 5\n",
      "5 x 2 = 10\n",
      "5 x 3 = 15\n",
      "5 x 4 = 20\n",
      "5 x 5 = 25\n",
      "5 x 6 = 30\n",
      "5 x 7 = 35\n",
      "5 x 8 = 40\n",
      "5 x 9 = 45\n",
      "5 x 10 = 50\n"
     ]
    }
   ],
   "source": [
    "n = int(input(\"Enter a number: \"))  # Prompt the user to enter a number for the multiplication table\n",
    "\n",
    "i = 1  # Initialize the counter variable `i` to 1 (starting from the first multiple)\n",
    "\n",
    "# Loop to print the multiplication table of n from 1 to 10\n",
    "while i < 11:  # Continue the loop until i reaches 11 (i.e., prints the first 10 multiples)\n",
    "    print(f\"{n} x {i} = {n * i}\")  # Print the multiplication result for the current value of `i`\n",
    "    i += 1  # Increment `i` to move to the next multiple\n"
   ]
  },
  {
   "cell_type": "markdown",
   "metadata": {},
   "source": [
    "4. Write a program to find whether a given number is prime or not."
   ]
  },
  {
   "cell_type": "code",
   "execution_count": 36,
   "metadata": {},
   "outputs": [
    {
     "name": "stdout",
     "output_type": "stream",
     "text": [
      "5 is a prime number\n"
     ]
    }
   ],
   "source": [
    "n = int(input(\"Enter a number: \"))  # Prompt the user to enter a number\n",
    "\n",
    "# Loop to check divisibility from 2 to n-1\n",
    "for i in range(2, n):\n",
    "    if n % i == 0:  # Check if n is divisible by i\n",
    "        print(f\"{n} is not a prime number\")  # If divisible, it's not prime\n",
    "        break  # Exit the loop as we've already found n is not prime\n",
    "else:\n",
    "    # If no divisor was found, the loop will complete and this else block executes\n",
    "    print(f\"{n} is a prime number\")  # If no divisors, n is prime\n"
   ]
  },
  {
   "cell_type": "markdown",
   "metadata": {},
   "source": [
    "5. Write a program to find the sum of first n natural numbers using while loop."
   ]
  },
  {
   "cell_type": "code",
   "execution_count": null,
   "metadata": {},
   "outputs": [
    {
     "name": "stdout",
     "output_type": "stream",
     "text": [
      "first 7 natural numbers sum = 28\n"
     ]
    }
   ],
   "source": [
    "n = int(input(\"Enter a number: \"))  # Prompt the user to input the number of natural numbers to sum\n",
    "i = 1  # Initialize the counter variable `i` to 1 (starting from the first natural number)\n",
    "sum = 0  # Initialize the sum variable to 0 to accumulate the total\n",
    "\n",
    "# Use a while loop to calculate the sum of the first n natural numbers\n",
    "while i <= n:  \n",
    "    sum = sum + i  # Add the current value of `i` to the running total `sum`\n",
    "    i += 1  # Increment the counter variable `i` to process the next number\n",
    "\n",
    "# Print the result using an f-string for better readability\n",
    "print(f\"First {n} natural numbers sum = {sum}\")  \n"
   ]
  },
  {
   "cell_type": "markdown",
   "metadata": {},
   "source": [
    "6. Write a program to calculate the factorial of a given number using for loop.\n",
    "\n",
    "Ans:-\n",
    "# 5! = 1 X 2 X 3 X 4 X 5\n",
    "\n",
    "starts from 1 to n number division"
   ]
  },
  {
   "cell_type": "code",
   "execution_count": 15,
   "metadata": {},
   "outputs": [
    {
     "name": "stdout",
     "output_type": "stream",
     "text": [
      "The factorial of 5 is 120\n"
     ]
    }
   ],
   "source": [
    "# 5! = 1 X 2 X 3 X 4 X 5\n",
    "\n",
    "n = int(input(\"Enter a number: \"))  # Prompt the user to input a number for which factorial is to be calculated\n",
    "product = 1  # Initialize the product variable to 1 (as factorial starts with multiplication)\n",
    "\n",
    "# Loop through numbers from 1 to n\n",
    "for i in range(1, n + 1):  \n",
    "    product = product * i  # Multiply the current value of `product` by `i` to calculate the factorial\n",
    "\n",
    "# Print the result using an f-string for better readability\n",
    "print(f\"The factorial of {n} is {product}\")  \n"
   ]
  },
  {
   "cell_type": "markdown",
   "metadata": {},
   "source": [
    "7. Write a program to print the following star pattern.\n",
    "```python\n",
    "  *\n",
    " ***\n",
    "***** \n",
    "for n = 3\n",
    "```"
   ]
  },
  {
   "cell_type": "code",
   "execution_count": 25,
   "metadata": {},
   "outputs": [
    {
     "name": "stdout",
     "output_type": "stream",
     "text": [
      "    *\n",
      "   ***\n",
      "  *****\n",
      " *******\n",
      "*********\n"
     ]
    }
   ],
   "source": [
    "n = int(input(\"Enter a number: \"))  # Take user input for the number of rows\n",
    "\n",
    "# Loop through each row from 1 to n\n",
    "for i in range(1, n + 1):\n",
    "    print(\" \" * (n - i), end='')  # Print spaces to center-align the stars\n",
    "    print('*' * (2 * i - 1), end=\"\")  # Print stars for the current row\n",
    "    print(\"\")  # Move to the next line after printing stars\n"
   ]
  },
  {
   "cell_type": "markdown",
   "metadata": {},
   "source": [
    "8. Write a program to print the following star pattern:\n",
    "```python\n",
    "*\n",
    "**\n",
    "*** \n",
    "for n = 3\n",
    "```"
   ]
  },
  {
   "cell_type": "code",
   "execution_count": 28,
   "metadata": {},
   "outputs": [
    {
     "name": "stdout",
     "output_type": "stream",
     "text": [
      "*\n",
      "**\n",
      "***\n"
     ]
    }
   ],
   "source": [
    "n = int(input(\"Enter a number: \"))  # Take user input for the number of rows\n",
    "\n",
    "# Loop through each row from 1 to n\n",
    "for i in range(1, n + 1):  \n",
    "    print('*' * i, end='')  # Print `i` stars for the current row without a newline\n",
    "    print(\"\")  # Move to the next line after printing stars"
   ]
  },
  {
   "cell_type": "markdown",
   "metadata": {},
   "source": [
    "9. Write a program to print the following star pattern.\n",
    "```python\n",
    "* * *\n",
    "*   * for n = 3\n",
    "* * *"
   ]
  },
  {
   "cell_type": "code",
   "execution_count": null,
   "metadata": {},
   "outputs": [],
   "source": [
    "n = int(input(\"Enter the number: \"))\n",
    "\n",
    "for i in range(1, n+1): \n",
    "\n",
    "    if(i==1 or i==n):\n",
    "        print(\"*\"* n, end=\"\")\n",
    "\n",
    "    else:\n",
    "        print(\"*\", end=\"\")\n",
    "        print(\" \"* (n-2), end=\"\")\n",
    "        print(\"*\", end=\"\")\n",
    "        \n",
    "    print(\"\")"
   ]
  },
  {
   "cell_type": "markdown",
   "metadata": {},
   "source": [
    "10. Write a program to print multiplication table of n using for loops in reversed order."
   ]
  },
  {
   "cell_type": "code",
   "execution_count": null,
   "metadata": {},
   "outputs": [
    {
     "name": "stdout",
     "output_type": "stream",
     "text": [
      "***\n",
      "* *\n",
      "***\n"
     ]
    }
   ],
   "source": []
  }
 ],
 "metadata": {
  "kernelspec": {
   "display_name": "Python 3",
   "language": "python",
   "name": "python3"
  },
  "language_info": {
   "codemirror_mode": {
    "name": "ipython",
    "version": 3
   },
   "file_extension": ".py",
   "mimetype": "text/x-python",
   "name": "python",
   "nbconvert_exporter": "python",
   "pygments_lexer": "ipython3",
   "version": "3.12.8"
  }
 },
 "nbformat": 4,
 "nbformat_minor": 2
}
