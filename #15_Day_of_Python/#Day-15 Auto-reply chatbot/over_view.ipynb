{
 "cells": [
  {
   "cell_type": "markdown",
   "metadata": {},
   "source": [
    "# *** MEGA PROJECT 2: AUTO-REPLY AI CHATBOT ***\n",
    "---"
   ]
  },
  {
   "cell_type": "markdown",
   "metadata": {},
   "source": [
    "### DESCRIPTION\n",
    "\n",
    "This project automates the process of interacting with a chat application, specifically designed to analyze chat history and generate humorous responses using OpenAI's GPT-3.5-turbo model. The virtual assistant, named Naruto, is a character that roasts people in a funny way, based on the chat history.\n",
    "\n",
    "---"
   ]
  },
  {
   "cell_type": "markdown",
   "metadata": {},
   "source": [
    "### FEATURES\n",
    "14. Automated Chat Interaction\n",
    "15. Uses pyautogui to perform mouse and keyboard operations, interacting with the chat application without manual intervention.\n",
    "16. Chat History Analysis\n",
    "17. Copies chat history from the chat application and analyzes it to determine if the last message was sent by a specific user (e.g., \"Rohan Das\").\n",
    "18. Humorous Response Generation\n",
    "19. Integrates with OpenAI's GPT-3.5-turbo model to generate funny, roast-style responses based on the analyzed chat history.\n",
    "20. Clipboard Operations\n",
    "21. Utilizes pyperclip to copy and paste text, facilitating the retrieval and insertion of chat messages.\n",
    "22. Uses pyautogui to perform mouse and keyboard operations, interacting with the chat application without manual intervention.\n",
    "23. Copies chat history from the chat application and analyzes it to determine if the last message was sent by a specific user (e.g., \"Rohan Das\").\n",
    "24. Humorous Response Generation\n",
    "25. Integrates with OpenAI's GPT-3.5-turbo model to generate funny, roast-style responses based on the analyzed chat history.\n",
    "---"
   ]
  },
  {
   "cell_type": "markdown",
   "metadata": {},
   "source": [
    "### WORKFLOW\n",
    "- Initialization and Setup\n",
    "- Click on the Chrome icon to open the chat application.\n",
    "- Wait for a brief period to ensure the application is open and ready for interaction.\n",
    "- Chat History Retrieval\n",
    "- Periodically select and copy chat history by dragging the mouse over the chat area and using the copy shortcut.\n",
    "- Retrieve the copied text from the clipboard.\n",
    "- Message Analysis\n",
    "- Analyze the copied chat history to check if the last message is from a specific user (e.g., \"Rohan Das\").\n",
    "- If the last message is from the target user, send the chat history to OpenAI's GPT-3.5-turbo to generate a humorous response.\n",
    "- Copy the generated response to the clipboard.\n",
    "- Send Response\n",
    "- Click on the chat input area and paste the generated response.\n",
    "- Press 'Enter' to send the response.\n",
    "- Wait for a brief period to ensure the application is open and ready for interaction.\n",
    "- Chat History Retrieval\n",
    "- Retrieve the copied text from the clipboard.\n",
    "- Message Analysis\n",
    "- Analyze the copied chat history to check if the last message is from a specific user (e.g., \"Rohan Das\").\n",
    "- Generate Response\n",
    "- Copy the generated response to the clipboard.\n",
    "- Send Response\n",
    "---"
   ]
  },
  {
   "cell_type": "markdown",
   "metadata": {},
   "source": [
    "LIBRARIES USED\n",
    "1. pyautogui: For automating mouse and keyboard interactions.\n",
    "2. time: For adding delays between operations.\n",
    "3. pyperclip: For clipboard operations.\n",
    "4. openai: For interacting with OpenAI's GPT-3.5-turbo model.\n",
    "---"
   ]
  }
 ],
 "metadata": {
  "language_info": {
   "name": "python"
  }
 },
 "nbformat": 4,
 "nbformat_minor": 2
}
