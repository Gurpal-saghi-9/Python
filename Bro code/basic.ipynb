{
 "cells": [
  {
   "cell_type": "markdown",
   "metadata": {},
   "source": [
    "1. Print Statement and comments"
   ]
  },
  {
   "cell_type": "code",
   "execution_count": 1,
   "metadata": {},
   "outputs": [
    {
     "name": "stdout",
     "output_type": "stream",
     "text": [
      "Hello, World!\n",
      "I like pizza\n"
     ]
    }
   ],
   "source": [
    "print(\"Hello, World!\")\n",
    "print(\"I like pizza\")\n",
    "\n",
    "# pond sign used for comments"
   ]
  },
  {
   "cell_type": "markdown",
   "metadata": {},
   "source": [
    "2. Variables = a container for a values (String, integer, float, boolean)\n",
    "a variable behaves as if it was the value it contains\n",
    "\n",
    "f-string =  to use  formatted string literals, being a string with f or F before the opening quation mark or tripple quotation mark. inside the string you can write a python expression between { and } character that can refer to variables or literal values"
   ]
  },
  {
   "cell_type": "code",
   "execution_count": 2,
   "metadata": {},
   "outputs": [
    {
     "name": "stdout",
     "output_type": "stream",
     "text": [
      "Gurpal Singh\n",
      "Hello Gurpal Singh\n",
      "You like pizza\n",
      "Your email is Guru324@fake.com\n",
      "You are 19 years old\n",
      "You are buying 3 items\n",
      "Your class has 30 students\n",
      "The price is $10.99\n",
      "Your GPA is: 8.67\n",
      "You ran 5.5km\n",
      "Are you a student?: True\n"
     ]
    }
   ],
   "source": [
    "# string variable\n",
    "first_name = 'Gurpal'\n",
    "last_name = \"Singh\"\n",
    "\n",
    "print(first_name + \" \" + last_name)\n",
    "\n",
    "# f-string\n",
    "print(f\"Hello {first_name + \" \" + last_name}\")\n",
    "food = 'pizza'\n",
    "print(f'You like {food}')\n",
    "email = \"Guru324@fake.com\"\n",
    "print(f\"Your email is {email}\")\n",
    "\n",
    "#Integer variable\n",
    "age = 19\n",
    "print(f\"You are {age} years old\")\n",
    "quantity = 3\n",
    "print(f\"You are buying {quantity} items\")\n",
    "num_of_students = 30\n",
    "print(f\"Your class has {num_of_students} students\")\n",
    "\n",
    "#floats\n",
    "price = 10.99\n",
    "print(f\"The price is ${price}\")\n",
    "gpa = 8.67\n",
    "print(f\"Your GPA is: {gpa}\")\n",
    "distance = 5.5\n",
    "print(f\"You ran {distance}km\")\n",
    "\n",
    "#Boolean\n",
    "is_Student = True\n",
    "print(f\"Are you a student?: {is_Student}\")"
   ]
  },
  {
   "cell_type": "markdown",
   "metadata": {},
   "source": [
    "3. Typecasting = The process of converting  value of one data type to another (string, integer, float, boolean)\n",
    "Explicit vs Implicit"
   ]
  },
  {
   "cell_type": "code",
   "execution_count": 3,
   "metadata": {},
   "outputs": [
    {
     "name": "stdout",
     "output_type": "stream",
     "text": [
      "<class 'str'>\n",
      "<class 'int'>\n",
      "<class 'float'>\n",
      "<class 'bool'>\n",
      "21.0\n",
      "<class 'float'>\n",
      "5\n",
      "<class 'int'>\n",
      "True\n",
      "<class 'str'>\n",
      "True\n",
      "<class 'bool'>\n",
      "True\n",
      "<class 'bool'>\n",
      "1.0\n"
     ]
    }
   ],
   "source": [
    "name = 'gurpal'\n",
    "age = 21\n",
    "gpa = 5.3\n",
    "student = True\n",
    "print(type(name))\n",
    "print(type(age))\n",
    "print(type(gpa))\n",
    "print(type(student))\n",
    "\n",
    "#explicit\n",
    "\n",
    "age = float(age)\n",
    "print(age)\n",
    "print(type(age))\n",
    "\n",
    "gpa =int(gpa)\n",
    "print(gpa)\n",
    "print(type(gpa))\n",
    "\n",
    "student =str(student)\n",
    "print(student)\n",
    "print(type(student))\n",
    "\n",
    "age = bool(age)\n",
    "print(age)\n",
    "print(type(age))\n",
    "\n",
    "name = bool(name)\n",
    "print(name)\n",
    "print(type(name))\n",
    "\n",
    "\n",
    "#implicit\n",
    "\n",
    "x = 2\n",
    "y = 2.0\n",
    "\n",
    "x = x/y\n",
    "print(x)"
   ]
  },
  {
   "cell_type": "markdown",
   "metadata": {},
   "source": [
    "4.  User input, madlib, area calculator,shpping cart"
   ]
  },
  {
   "cell_type": "code",
   "execution_count": 4,
   "metadata": {},
   "outputs": [
    {
     "name": "stdout",
     "output_type": "stream",
     "text": [
      "hello guru\n",
      "You are 15 years old\n",
      "Your are is 20\n"
     ]
    }
   ],
   "source": [
    "name = input(\"Enter your name: \")\n",
    "age = input(\"Enter your age: \")\n",
    "# age+=1 # this showing an error because we want to type cast the age string to integer\n",
    "\n",
    "print(f\"hello {name}\")\n",
    "print(f\"You are {age} years old\")\n",
    "\n",
    "age = int(input(\"Enter yor age: \"))\n",
    "age += 1\n",
    "print(f\"Your are is {age}\")"
   ]
  },
  {
   "cell_type": "code",
   "execution_count": 5,
   "metadata": {},
   "outputs": [
    {
     "name": "stdout",
     "output_type": "stream",
     "text": [
      "Today i went to a sus zoo.\n",
      "In an exhibit, I saw mark jukerverg\n",
      "mark jukerverg was suronding and amazeing\n",
      "I am sus\n"
     ]
    }
   ],
   "source": [
    "# mad libs\n",
    "\n",
    "adjective1 = input(\"ENter an adjective: \")\n",
    "noun = input(\"Enter a noun: \")\n",
    "adjective2 = input(\"ENter an adjective: \")\n",
    "verb = input(\"Enter a verb: \")\n",
    "adjective3 = input(\"ENter an adjective: \")\n",
    "\n",
    "print(f\"Today i went to a {adjective1} zoo.\")\n",
    "print(f\"In an exhibit, I saw {noun}\")\n",
    "print(f\"{noun} was {adjective2} and {verb}ing\")\n",
    "print(f\"I am {adjective3}\")"
   ]
  },
  {
   "cell_type": "code",
   "execution_count": 6,
   "metadata": {},
   "outputs": [
    {
     "name": "stdout",
     "output_type": "stream",
     "text": [
      "The area is: 135.0cm^2\n",
      "The volume is: 675.0cm^3\n"
     ]
    }
   ],
   "source": [
    "# area calc\n",
    "\n",
    "length = float(input(\"Enter the length of a rectangle: \"))\n",
    "width = float(input(\"Enter the width of a rectangle: \"))\n",
    "height = float(input(\"Enter the height of a rectangle: \"))\n",
    "\n",
    "area = length * width\n",
    "volume = length * width * height\n",
    "\n",
    "print(f\"The area is: {area}cm^2\")\n",
    "print(f\"The volume is: {volume}cm^3\")"
   ]
  },
  {
   "cell_type": "code",
   "execution_count": 7,
   "metadata": {},
   "outputs": [
    {
     "name": "stdout",
     "output_type": "stream",
     "text": [
      "You have bought 9 x pizza/s\n",
      "your total is: $44.910000000000004\n",
      "Your total is: $44.91\n"
     ]
    }
   ],
   "source": [
    "# SHoping cart\n",
    "\n",
    "item = input(\"What item would you like to buy?: \")\n",
    "price = float(input(\"What is the price?: \"))\n",
    "quantity = int(input(\"How many would you like?: \"))\n",
    "\n",
    "total = price * quantity\n",
    "\n",
    "print(f\"You have bought {quantity} x {item}/s\")\n",
    "print(f\"your total is: ${total}\")\n",
    "print(f\"Your total is: ${round(total, 2)}\")"
   ]
  }
 ],
 "metadata": {
  "kernelspec": {
   "display_name": "Python 3",
   "language": "python",
   "name": "python3"
  },
  "language_info": {
   "codemirror_mode": {
    "name": "ipython",
    "version": 3
   },
   "file_extension": ".py",
   "mimetype": "text/x-python",
   "name": "python",
   "nbconvert_exporter": "python",
   "pygments_lexer": "ipython3",
   "version": "3.12.8"
  }
 },
 "nbformat": 4,
 "nbformat_minor": 2
}
