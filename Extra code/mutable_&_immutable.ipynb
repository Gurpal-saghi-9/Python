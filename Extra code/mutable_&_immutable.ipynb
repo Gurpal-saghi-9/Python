{
 "cells": [
  {
   "cell_type": "markdown",
   "metadata": {},
   "source": [
    "Mutable: can be modified. Example: list, dict, set"
   ]
  },
  {
   "cell_type": "code",
   "execution_count": 1,
   "metadata": {},
   "outputs": [
    {
     "name": "stdout",
     "output_type": "stream",
     "text": [
      "Befor append: ['Apple', 'Banana']\n",
      "After append: ['Apple', 'Banana', 'Orange']\n"
     ]
    }
   ],
   "source": [
    "fruits = [\"Apple\", \"Banana\"] \n",
    "print(f\"Befor append: {fruits}\")\n",
    "fruits.append(\"Orange\")\n",
    "print(f\"After append: {fruits}\")"
   ]
  },
  {
   "cell_type": "markdown",
   "metadata": {},
   "source": [
    "Immutable: cannot be modified. Example: int, foat, str, tuple"
   ]
  },
  {
   "cell_type": "code",
   "execution_count": null,
   "metadata": {},
   "outputs": [],
   "source": [
    "name = \"Developer.mind\"\n",
    "\n",
    "name[0] = \"d\""
   ]
  }
 ],
 "metadata": {
  "kernelspec": {
   "display_name": "Python 3",
   "language": "python",
   "name": "python3"
  },
  "language_info": {
   "codemirror_mode": {
    "name": "ipython",
    "version": 3
   },
   "file_extension": ".py",
   "mimetype": "text/x-python",
   "name": "python",
   "nbconvert_exporter": "python",
   "pygments_lexer": "ipython3",
   "version": "3.12.8"
  }
 },
 "nbformat": 4,
 "nbformat_minor": 2
}
