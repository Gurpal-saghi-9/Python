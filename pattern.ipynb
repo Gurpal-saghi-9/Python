{
 "cells": [
  {
   "cell_type": "code",
   "execution_count": 1,
   "metadata": {},
   "outputs": [
    {
     "name": "stdout",
     "output_type": "stream",
     "text": [
      "* \n",
      "* * \n",
      "* * * \n",
      "* * * * \n",
      "* * * * * \n"
     ]
    }
   ],
   "source": [
    "rows = 5\n",
    "for i in range(0, rows):\n",
    "    for j in range(0, i + 1):\n",
    "        print(\"*\", end = ' ')\n",
    "    print(\"\\r\")"
   ]
  },
  {
   "cell_type": "code",
   "execution_count": 5,
   "metadata": {},
   "outputs": [
    {
     "name": "stdout",
     "output_type": "stream",
     "text": [
      "* \n",
      "* * \n",
      "* * * \n",
      "* * * * \n",
      "* * * * * \n"
     ]
    }
   ],
   "source": [
    "rows = 5\n",
    "for j in range(1, rows + 1):\n",
    "    print(\"* \" * j)"
   ]
  },
  {
   "cell_type": "code",
   "execution_count": 6,
   "metadata": {},
   "outputs": [
    {
     "name": "stdout",
     "output_type": "stream",
     "text": [
      "        * \n",
      "      * * \n",
      "    * * * \n",
      "  * * * * \n",
      "* * * * * \n"
     ]
    }
   ],
   "source": [
    "rows = 5\n",
    "for j in range(1, rows + 1):\n",
    "    print(\"  \" * (rows - j) + \"* \" * j)"
   ]
  },
  {
   "cell_type": "code",
   "execution_count": 8,
   "metadata": {},
   "outputs": [
    {
     "name": "stdout",
     "output_type": "stream",
     "text": [
      "* * * * *  \n",
      "* * * *  \n",
      "* * *  \n",
      "* *  \n",
      "*  \n",
      " \n"
     ]
    }
   ],
   "source": [
    "row = 5\n",
    "for i in range(row + 1, 0, -1):\n",
    "    for j in range(0, i - 1):\n",
    "        print(\"*\", end=' ')\n",
    "    print(\" \")"
   ]
  },
  {
   "cell_type": "code",
   "execution_count": null,
   "metadata": {},
   "outputs": [
    {
     "name": "stdout",
     "output_type": "stream",
     "text": [
      "* * * * * \n",
      "  * * * * \n",
      "    * * * \n",
      "      * * \n",
      "        * \n"
     ]
    }
   ],
   "source": [
    "row = 5\n",
    "k = 0  \n",
    "for i in range(row, 0, -1):  \n",
    "    print(\"  \" * k, end='')  \n",
    "    k += 1\n",
    "    for j in range(0, i):  \n",
    "        print(\"* \", end='')  \n",
    "    print() \n"
   ]
  },
  {
   "cell_type": "code",
   "execution_count": null,
   "metadata": {},
   "outputs": [
    {
     "name": "stdout",
     "output_type": "stream",
     "text": [
      "    * \n",
      "   * * \n",
      "  * * * \n",
      " * * * * \n",
      "* * * * * \n"
     ]
    }
   ],
   "source": [
    "rows = 5  \n",
    "\n",
    "for i in range(1, rows + 1):  \n",
    "    print(\" \" * (rows - i), end='') \n",
    "    print(\"* \" * i)\n"
   ]
  },
  {
   "cell_type": "code",
   "execution_count": 14,
   "metadata": {},
   "outputs": [
    {
     "name": "stdout",
     "output_type": "stream",
     "text": [
      "* * * * * \n",
      " * * * * \n",
      "  * * * \n",
      "   * * \n",
      "    * \n"
     ]
    }
   ],
   "source": [
    "rows = 5  \n",
    "\n",
    "for i in range(rows, 0, -1):  \n",
    "    print(\" \" * (rows - i), end='')  \n",
    "    print(\"* \" * i)  \n"
   ]
  },
  {
   "cell_type": "code",
   "execution_count": 22,
   "metadata": {},
   "outputs": [
    {
     "name": "stdout",
     "output_type": "stream",
     "text": [
      "   * * * * * * \n",
      "    * * * * * \n",
      "     * * * * \n",
      "      * * * \n",
      "       * * \n",
      "        * \n",
      "        * \n",
      "       * * \n",
      "      * * * \n",
      "     * * * * \n",
      "    * * * * * \n",
      "   * * * * * * \n"
     ]
    }
   ],
   "source": [
    "def pattern_5(rows):\n",
    "    k = rows - 2\n",
    "    for i in range (rows, -1, -1):\n",
    "        for j in range(k, 0, -1):\n",
    "            print(end=' ')\n",
    "        k += 1\n",
    "        for j in range(0, i+1):\n",
    "            print(\"*\",end=' ')\n",
    "        print('\\r')\n",
    "    k = 2 * rows - 2\n",
    "    for i in range(0, rows +1):\n",
    "        for j in range(0, k):\n",
    "            print(end=' ')\n",
    "        k -= 1\n",
    "        for j in range(0, i + 1):\n",
    "            print(\"*\", end=' ')\n",
    "        print(\"\\r\")\n",
    "\n",
    "num = 5\n",
    "# num = int(input(\"Enter the number of rows: \"))\n",
    "\n",
    "pattern_5(num)"
   ]
  },
  {
   "cell_type": "code",
   "execution_count": 25,
   "metadata": {},
   "outputs": [
    {
     "name": "stdout",
     "output_type": "stream",
     "text": [
      "        * \n",
      "       * * \n",
      "      * * * \n",
      "     * * * * \n",
      "    * * * * * \n",
      "   * * * * * * \n",
      "    * * * * * \n",
      "     * * * * \n",
      "      * * * \n",
      "       * * \n",
      "        * \n"
     ]
    }
   ],
   "source": [
    "def pattern_5(rows):\n",
    "    k = 2 * rows -2\n",
    "    for i in range (0, rows):\n",
    "        for j in range(0, k):\n",
    "            print(end=' ')\n",
    "        k -= 1\n",
    "        for j in range(0, i + 1):\n",
    "            print(\"*\", end=\" \")\n",
    "        print(\"\\r\")\n",
    "    k = rows -2\n",
    "    for i in range (num, -1, -1):\n",
    "        for j in range(k, 0, -1):\n",
    "            print(end=' ')\n",
    "        k += 1\n",
    "        for j in range(0, i + 1):\n",
    "            print(\"*\", end=\" \")\n",
    "        print(\"\\r\")\n",
    "\n",
    "num = 5\n",
    "# num = int(input(\"Enter the number of rows: \"))\n",
    "\n",
    "pattern_5(num)"
   ]
  }
 ],
 "metadata": {
  "kernelspec": {
   "display_name": "Python 3",
   "language": "python",
   "name": "python3"
  },
  "language_info": {
   "codemirror_mode": {
    "name": "ipython",
    "version": 3
   },
   "file_extension": ".py",
   "mimetype": "text/x-python",
   "name": "python",
   "nbconvert_exporter": "python",
   "pygments_lexer": "ipython3",
   "version": "3.12.8"
  }
 },
 "nbformat": 4,
 "nbformat_minor": 2
}
